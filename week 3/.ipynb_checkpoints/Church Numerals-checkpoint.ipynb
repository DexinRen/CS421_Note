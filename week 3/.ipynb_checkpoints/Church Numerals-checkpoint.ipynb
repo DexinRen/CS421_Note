{
 "cells": [
  {
   "cell_type": "markdown",
   "id": "2ba0cdf4",
   "metadata": {},
   "source": [
    "## Number in Lambda\n",
    "- Lambuda calculus does not have numbers\n",
    "- a number n can be thought of as a potential: do something n times"
   ]
  },
  {
   "cell_type": "markdown",
   "id": "2f345496",
   "metadata": {},
   "source": [
    "### Some Church Numerals\n",
    "$$\n",
    "\\begin{array}{ccc}\n",
    "f_0 =& \\backslash f-> \\backslash x->x\\\\\n",
    "f_1 =& \\backslash f-> \\backslash x->f x\\\\\n",
    "f_2 =& \\backslash f-> \\backslash x->f (f x)\\\\\n",
    "f_3 =& \\backslash f-> \\backslash x->f (f (f x))\\\\\n",
    "&...\n",
    "\\end{array}\n",
    "$$"
   ]
  },
  {
   "cell_type": "code",
   "execution_count": 5,
   "id": "fe2b5c91",
   "metadata": {},
   "outputs": [
    {
     "data": {
      "text/plain": [
       "2"
      ]
     },
     "metadata": {},
     "output_type": "display_data"
    }
   ],
   "source": [
    "-- f2\n",
    "\n",
    "let show m = m (+1) 0\n",
    "show (\\f x -> f (f x))\n",
    "\n",
    "-- then this lambda can be used as 2"
   ]
  },
  {
   "cell_type": "markdown",
   "id": "1c346a2d",
   "metadata": {},
   "source": [
    "## Incrementing Church Numerals\n",
    "How can we increment a Church numeral?\n",
    "1. take the Church numeral you want to increment (such as `\\m`)\n",
    "2. return a Church numeral representing the result (such as `\\f x`)\n",
    "3. apply f to x, m times (such as `m f x`)\n",
    "4. apply f once more to the result (such as `f ( m f x)`)"
   ]
  },
  {
   "cell_type": "code",
   "execution_count": null,
   "id": "cd49ca6a",
   "metadata": {},
   "outputs": [],
   "source": [
    "finc = \\m -> \\f x -> f (m f x)"
   ]
  },
  {
   "cell_type": "markdown",
   "id": "1f4ed838",
   "metadata": {},
   "source": [
    "## Adding Church Numerals\n",
    "- Simiar reasoning can yield addition and multiplication\n",
    "example:"
   ]
  },
  {
   "cell_type": "code",
   "execution_count": null,
   "id": "127bb39d",
   "metadata": {},
   "outputs": [],
   "source": [
    "fadd m n = \\f x -> m f (n f x)\n",
    "-- n f x represent number n"
   ]
  },
  {
   "cell_type": "markdown",
   "id": "d520c4cf",
   "metadata": {},
   "source": [
    "## Implementing Booleans\n",
    "- Church numerals represented integers as a potential numebr of actions\n",
    "- Church Booleans represent True and False as a choice"
   ]
  },
  {
   "cell_type": "code",
   "execution_count": 6,
   "id": "9255cc4a",
   "metadata": {},
   "outputs": [
    {
     "data": {
      "text/html": [
       "<style>/* Styles used for the Hoogle display in the pager */\n",
       ".hoogle-doc {\n",
       "display: block;\n",
       "padding-bottom: 1.3em;\n",
       "padding-left: 0.4em;\n",
       "}\n",
       ".hoogle-code {\n",
       "display: block;\n",
       "font-family: monospace;\n",
       "white-space: pre;\n",
       "}\n",
       ".hoogle-text {\n",
       "display: block;\n",
       "}\n",
       ".hoogle-name {\n",
       "color: green;\n",
       "font-weight: bold;\n",
       "}\n",
       ".hoogle-head {\n",
       "font-weight: bold;\n",
       "}\n",
       ".hoogle-sub {\n",
       "display: block;\n",
       "margin-left: 0.4em;\n",
       "}\n",
       ".hoogle-package {\n",
       "font-weight: bold;\n",
       "font-style: italic;\n",
       "}\n",
       ".hoogle-module {\n",
       "font-weight: bold;\n",
       "}\n",
       ".hoogle-class {\n",
       "font-weight: bold;\n",
       "}\n",
       ".get-type {\n",
       "color: green;\n",
       "font-weight: bold;\n",
       "font-family: monospace;\n",
       "display: block;\n",
       "white-space: pre-wrap;\n",
       "}\n",
       ".show-type {\n",
       "color: green;\n",
       "font-weight: bold;\n",
       "font-family: monospace;\n",
       "margin-left: 1em;\n",
       "}\n",
       ".mono {\n",
       "font-family: monospace;\n",
       "display: block;\n",
       "}\n",
       ".err-msg {\n",
       "color: red;\n",
       "font-style: italic;\n",
       "font-family: monospace;\n",
       "white-space: pre;\n",
       "display: block;\n",
       "}\n",
       "#unshowable {\n",
       "color: red;\n",
       "font-weight: bold;\n",
       "}\n",
       ".err-msg.in.collapse {\n",
       "padding-top: 0.7em;\n",
       "}\n",
       ".highlight-code {\n",
       "white-space: pre;\n",
       "font-family: monospace;\n",
       "}\n",
       ".suggestion-warning { \n",
       "font-weight: bold;\n",
       "color: rgb(200, 130, 0);\n",
       "}\n",
       ".suggestion-error { \n",
       "font-weight: bold;\n",
       "color: red;\n",
       "}\n",
       ".suggestion-name {\n",
       "font-weight: bold;\n",
       "}\n",
       "</style><div class=\"suggestion-name\" style=\"clear:both;\">Redundant lambda</div><div class=\"suggestion-row\" style=\"float: left;\"><div class=\"suggestion-warning\">Found:</div><div class=\"highlight-code\" id=\"haskell\">true = \\ a b -> a</div></div><div class=\"suggestion-row\" style=\"float: left;\"><div class=\"suggestion-warning\">Why Not:</div><div class=\"highlight-code\" id=\"haskell\">true a b = a</div></div><div class=\"suggestion-name\" style=\"clear:both;\">Use const</div><div class=\"suggestion-row\" style=\"float: left;\"><div class=\"suggestion-warning\">Found:</div><div class=\"highlight-code\" id=\"haskell\">\\ a b -> a</div></div><div class=\"suggestion-row\" style=\"float: left;\"><div class=\"suggestion-warning\">Why Not:</div><div class=\"highlight-code\" id=\"haskell\">const</div></div><div class=\"suggestion-name\" style=\"clear:both;\">Redundant lambda</div><div class=\"suggestion-row\" style=\"float: left;\"><div class=\"suggestion-warning\">Found:</div><div class=\"highlight-code\" id=\"haskell\">false = \\ a b -> b</div></div><div class=\"suggestion-row\" style=\"float: left;\"><div class=\"suggestion-warning\">Why Not:</div><div class=\"highlight-code\" id=\"haskell\">false a b = b</div></div>"
      ],
      "text/plain": [
       "Line 1: Redundant lambda\n",
       "Found:\n",
       "true = \\ a b -> a\n",
       "Why not:\n",
       "true a b = aLine 1: Use const\n",
       "Found:\n",
       "\\ a b -> a\n",
       "Why not:\n",
       "constLine 2: Redundant lambda\n",
       "Found:\n",
       "false = \\ a b -> b\n",
       "Why not:\n",
       "false a b = b"
      ]
     },
     "metadata": {},
     "output_type": "display_data"
    }
   ],
   "source": [
    "true = \\ a b -> a -- choose the first input as the output\n",
    "\n",
    "false = \\ a b -> b -- choose the second input as the output\n",
    "\n",
    "showb f = f True False\n"
   ]
  },
  {
   "cell_type": "code",
   "execution_count": 8,
   "id": "9997c022",
   "metadata": {},
   "outputs": [
    {
     "data": {
      "text/plain": [
       "True"
      ]
     },
     "metadata": {},
     "output_type": "display_data"
    },
    {
     "data": {
      "text/plain": [
       "False"
      ]
     },
     "metadata": {},
     "output_type": "display_data"
    }
   ],
   "source": [
    "showb true\n",
    "showb false"
   ]
  },
  {
   "cell_type": "code",
   "execution_count": null,
   "id": "d6c061de",
   "metadata": {},
   "outputs": [],
   "source": []
  }
 ],
 "metadata": {
  "kernelspec": {
   "display_name": "Haskell",
   "language": "haskell",
   "name": "haskell"
  },
  "language_info": {
   "codemirror_mode": "Haskell",
   "file_extension": ".hs",
   "mimetype": "text/x-haskell",
   "name": "haskell",
   "pygments_lexer": "Haskell",
   "version": "8.10.4"
  },
  "latex_envs": {
   "LaTeX_envs_menu_present": true,
   "autoclose": true,
   "autocomplete": true,
   "bibliofile": "biblio.bib",
   "cite_by": "apalike",
   "current_citInitial": 1,
   "eqLabelWithNumbers": true,
   "eqNumInitial": 1,
   "hotkeys": {
    "equation": "Ctrl-E",
    "itemize": "Ctrl-I"
   },
   "labels_anchors": false,
   "latex_user_defs": false,
   "report_style_numbering": false,
   "user_envs_cfg": false
  }
 },
 "nbformat": 4,
 "nbformat_minor": 5
}
