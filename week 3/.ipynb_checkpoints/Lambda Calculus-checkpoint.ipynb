{
 "cells": [
  {
   "cell_type": "markdown",
   "id": "9b63947b",
   "metadata": {},
   "source": [
    "## Evaluation Order"
   ]
  },
  {
   "cell_type": "markdown",
   "id": "d1050cd0",
   "metadata": {},
   "source": [
    "### Applicative Order\n",
    "- Applicative order is like call-by-value in many programming langs\n",
    "- Start with the **left-most outer-most** application\n",
    "- Evaluate the argument before doing the $\\beta$-reduction\n",
    "\n",
    "eg.\n",
    "$$\n",
    "\\begin{array}{cll}\n",
    "    &(\\lambda xf.fx)(\\lambda z.z)((\\lambda q.q)(\\lambda r.r))\\\\\n",
    "    =&(\\lambda f.f(\\lambda z.z))((\\lambda q.q)(\\lambda r.r))&-\\text{Left most, $\\lambda z.z$ subs x} \\\\\n",
    "    =&(\\lambda q.q)(\\lambda r.r)(\\lambda z.z)&-\\text{Outer most, $(\\lambda q.q)(\\lambda r.r)$ subs f} \\\\\n",
    "    =&(\\lambda r.r)(\\lambda z.z)&-\\text{Left most, $\\lambda r.r$ subs q} \\\\\n",
    "    =&\\lambda z.z&-\\text{Left most, $\\lambda z.z$ subs r} \\\\\n",
    "\\end{array}\n",
    "$$"
   ]
  },
  {
   "cell_type": "markdown",
   "id": "0aaefdab",
   "metadata": {},
   "source": [
    "### Normal Order\n",
    "- Normal order is like call-by-name (C preprocessor uses)\n",
    "- Start with the **left-most outer-most** application\n",
    "- Do the $\\beta$-reduction **first**, then evaluate the argument\n",
    "\n",
    "eg.\n",
    "$$\n",
    "\\begin{array}{cll}\n",
    "    &(\\lambda xf.fx)(\\lambda z.z)((\\lambda q.q)(\\lambda r.r))\\\\\n",
    "    =&(\\lambda f.f\\lambda z.z)((\\lambda q.q)(\\lambda r.r))&-\\text{($\\beta$-reduction) Left most, $\\lambda z.z$ subs x} \\\\\n",
    "    =&(\\lambda f.f\\lambda z.z)(\\lambda r.r)&-\\text{Evaluate first, eval $(\\lambda q.q)(\\lambda r.r)$} \\\\\n",
    "    =&(\\lambda r.r)(\\lambda z.z)&-\\text{($\\beta$-reduction) Left most, $(\\lambda r.r)$ subs f} \\\\\n",
    "    =&\\lambda z.z&-\\text{($\\beta$-reduction) Left most, $\\lambda z.z$ subs r} \\\\\n",
    "\\end{array}\n",
    "$$"
   ]
  }
 ],
 "metadata": {
  "kernelspec": {
   "display_name": "Haskell",
   "language": "haskell",
   "name": "haskell"
  },
  "language_info": {
   "codemirror_mode": "Haskell",
   "file_extension": ".hs",
   "mimetype": "text/x-haskell",
   "name": "haskell",
   "pygments_lexer": "Haskell",
   "version": "8.10.4"
  },
  "latex_envs": {
   "LaTeX_envs_menu_present": true,
   "autoclose": true,
   "autocomplete": true,
   "bibliofile": "biblio.bib",
   "cite_by": "apalike",
   "current_citInitial": 1,
   "eqLabelWithNumbers": true,
   "eqNumInitial": 1,
   "hotkeys": {
    "equation": "Ctrl-E",
    "itemize": "Ctrl-I"
   },
   "labels_anchors": false,
   "latex_user_defs": false,
   "report_style_numbering": false,
   "user_envs_cfg": false
  }
 },
 "nbformat": 4,
 "nbformat_minor": 5
}
