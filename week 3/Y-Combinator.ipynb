{
 "cells": [
  {
   "cell_type": "markdown",
   "id": "d6233819",
   "metadata": {},
   "source": [
    "## Recursion\n",
    "\n",
    "Suppose we want to implement `f n = f (n+1)`\n",
    "\n",
    "The outline of the function would look like: $\\lambda n.(f (\\text{inc } n))$\n",
    "\n",
    "But how does f get to know itself?"
   ]
  },
  {
   "cell_type": "code",
   "execution_count": null,
   "id": "466825f9",
   "metadata": {},
   "outputs": [],
   "source": []
  }
 ],
 "metadata": {
  "kernelspec": {
   "display_name": "Haskell",
   "language": "haskell",
   "name": "haskell"
  },
  "language_info": {
   "codemirror_mode": "Haskell",
   "file_extension": ".hs",
   "mimetype": "text/x-haskell",
   "name": "haskell",
   "pygments_lexer": "Haskell",
   "version": "8.10.4"
  },
  "latex_envs": {
   "LaTeX_envs_menu_present": true,
   "autoclose": true,
   "autocomplete": true,
   "bibliofile": "biblio.bib",
   "cite_by": "apalike",
   "current_citInitial": 1,
   "eqLabelWithNumbers": true,
   "eqNumInitial": 1,
   "hotkeys": {
    "equation": "Ctrl-E",
    "itemize": "Ctrl-I"
   },
   "labels_anchors": false,
   "latex_user_defs": false,
   "report_style_numbering": false,
   "user_envs_cfg": false
  }
 },
 "nbformat": 4,
 "nbformat_minor": 5
}
