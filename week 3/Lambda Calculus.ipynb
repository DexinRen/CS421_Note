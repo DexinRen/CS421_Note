{
 "cells": [
  {
   "cell_type": "markdown",
   "id": "6ccb1a90",
   "metadata": {},
   "source": [
    "## Evaluation Order\n",
    "----"
   ]
  },
  {
   "cell_type": "markdown",
   "id": "f78ea842",
   "metadata": {},
   "source": [
    "### Applicative Order\n",
    "- Applicative order is like call-by-value in many programming langs\n",
    "- Start with the **left-most outer-most** application\n",
    "- Evaluate the argument before doing the $\\beta$-reduction\n",
    "\n",
    "eg.\n",
    "$$\n",
    "\\begin{array}{cll}\n",
    "    &(\\lambda xf.fx)(\\lambda z.z)((\\lambda q.q)(\\lambda r.r))\\\\\n",
    "    =&(\\lambda f.f\\lambda z.z)((\\lambda q.q)(\\lambda r.r))&-\\text{($\\beta$-reduction) Left most, $\\lambda z.z$ subs x} \\\\\n",
    "    =&(\\lambda f.f\\lambda z.z)(\\lambda r.r)&-\\text{Evaluate first, eval $(\\lambda q.q)(\\lambda r.r)$} \\\\\n",
    "    =&(\\lambda r.r)(\\lambda z.z)&-\\text{($\\beta$-reduction) Left most, $(\\lambda r.r)$ subs f} \\\\\n",
    "    =&\\lambda z.z&-\\text{($\\beta$-reduction) Left most, $\\lambda z.z$ subs r} \\\\\n",
    "\\end{array}\n",
    "$$"
   ]
  },
  {
   "cell_type": "markdown",
   "id": "f11e0b74",
   "metadata": {},
   "source": [
    "### Normal Order\n",
    "- Normal order is like call-by-name (C preprocessor uses)\n",
    "- Start with the **left-most outer-most** application\n",
    "- Do the $\\beta$-reduction **first**, then evaluate the argument\n",
    "\n",
    "eg.\n",
    "$$\n",
    "\\begin{array}{ll}\n",
    "    (\\lambda xf.fx)(\\lambda z.z)((\\lambda q.q)(\\lambda r.r))\\\\\n",
    "    =(\\lambda f.f\\lambda z.z)((\\lambda q.q)(\\lambda r.r))&-\\text{($\\beta$-reduction) Left most, $\\lambda z.z$ subs x} \\\\\n",
    "    =((\\lambda q.q)(\\lambda r.r))\\lambda z.z&-\\text{($\\beta$-reduction) Outer most, $((\\lambda q.q)(\\lambda r.r))$ subs f} \\\\\n",
    "    =(\\lambda r.r)\\lambda z.z&-\\text{($\\beta$-reduction) Left most, $\\lambda r.r$ subs q} \\\\\n",
    "    =\\lambda z.z&-\\text{($\\beta$-reduction) Left most, $\\lambda z.z$ subs r} \\\\\n",
    "\\end{array}\n",
    "$$"
   ]
  },
  {
   "cell_type": "markdown",
   "id": "f1b5549d",
   "metadata": {},
   "source": [
    "### Observation\n",
    "\n",
    "- **Applicative order usually has fewer reductions**, eg., $(\\lambda xf.fxxxx)((\\lambda a.a)(\\lambda b.b))$\n",
    "- Normal order sometime can have better reductions.eg.,$(\\lambda xf.fffff)((\\lambda a.a)(\\lambda b.b))$\n",
    "- If it terminates, applicative order will yield the **same result** as normal order\n"
   ]
  },
  {
   "cell_type": "markdown",
   "id": "5e970bde",
   "metadata": {},
   "source": [
    "## Normal Form\n",
    "- Weak Head Normal Form\n",
    "-  Normal Form\n",
    "----"
   ]
  },
  {
   "cell_type": "markdown",
   "id": "cca3655f",
   "metadata": {},
   "source": [
    "### Weak Head Normal Form\n",
    "- if the \"head node\" (root node of the syntax tree) is a lambda, then everything inside is the body of the function\n",
    "- This is weak head normal form\n",
    "- This form more closely resembles what \"real programming languages\" do.\n",
    "<img src=\"weaknorm.png\" alt=\"weaknorm\" width=\"500\"/>"
   ]
  },
  {
   "cell_type": "markdown",
   "id": "4b052e65",
   "metadata": {},
   "source": [
    "### Normal Form\n",
    "- In normal form, once the outermost node is a lambda, you descend into the body and continue there\n",
    "- You get maximally reduced expressions: \"Normalized\"\n",
    "- it's possible to have $\\alpha$-capture though.\n",
    "\n",
    "eg., $\\lambda y.(\\lambda xy.x)y$\n",
    "<img src=\"norm.png\" alt=\"norm\" width=\"500\"/>"
   ]
  },
  {
   "cell_type": "code",
   "execution_count": null,
   "id": "1cde009e",
   "metadata": {},
   "outputs": [],
   "source": []
  }
 ],
 "metadata": {
  "kernelspec": {
   "display_name": "Haskell",
   "language": "haskell",
   "name": "haskell"
  },
  "language_info": {
   "codemirror_mode": "Haskell",
   "file_extension": ".hs",
   "mimetype": "text/x-haskell",
   "name": "haskell",
   "pygments_lexer": "Haskell",
   "version": "8.10.4"
  },
  "latex_envs": {
   "LaTeX_envs_menu_present": true,
   "autoclose": true,
   "autocomplete": true,
   "bibliofile": "biblio.bib",
   "cite_by": "apalike",
   "current_citInitial": 1,
   "eqLabelWithNumbers": true,
   "eqNumInitial": 1,
   "hotkeys": {
    "equation": "Ctrl-E",
    "itemize": "Ctrl-I"
   },
   "labels_anchors": false,
   "latex_user_defs": false,
   "report_style_numbering": false,
   "user_envs_cfg": false
  }
 },
 "nbformat": 4,
 "nbformat_minor": 5
}
