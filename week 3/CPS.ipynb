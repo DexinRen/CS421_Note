{
 "cells": [
  {
   "cell_type": "code",
   "execution_count": null,
   "id": "0edda78f",
   "metadata": {},
   "outputs": [],
   "source": [
    "f x k = k x\n",
    "pil a b k = k a\n",
    "const x k = k 10\n",
    "\n",
    "foo 0 k = k 0\n",
    "foo n k \n",
    "    | n < 0 = foo n k\n",
    "    | otherwise = foo n (\\v->inc v k)\n",
    "    \n",
    "foo a b k = k (a + b)\n",
    "\n",
    "bar a b k = inc a (\\v->k(v+b))\n",
    "\n",
    "baz a b k = inc b (\\v->k(a+v))\n",
    "quux a b k = inc a (\\v1 -> inc b (\\v2-> k (v1 + v2)))"
   ]
  }
 ],
 "metadata": {
  "kernelspec": {
   "display_name": "Haskell",
   "language": "haskell",
   "name": "haskell"
  },
  "language_info": {
   "codemirror_mode": "Haskell",
   "file_extension": ".hs",
   "mimetype": "text/x-haskell",
   "name": "haskell",
   "pygments_lexer": "Haskell",
   "version": "8.10.4"
  },
  "latex_envs": {
   "LaTeX_envs_menu_present": true,
   "autoclose": true,
   "autocomplete": true,
   "bibliofile": "biblio.bib",
   "cite_by": "apalike",
   "current_citInitial": 1,
   "eqLabelWithNumbers": true,
   "eqNumInitial": 1,
   "hotkeys": {
    "equation": "Ctrl-E",
    "itemize": "Ctrl-I"
   },
   "labels_anchors": false,
   "latex_user_defs": false,
   "report_style_numbering": false,
   "user_envs_cfg": false
  }
 },
 "nbformat": 4,
 "nbformat_minor": 5
}
