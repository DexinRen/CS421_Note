{
 "cells": [
  {
   "cell_type": "markdown",
   "id": "3597bc9a",
   "metadata": {},
   "source": [
    " **Induction**:\n",
    " - Hypothesis: Pick a property $P(n)$ which you'd like to prove for all n\n",
    " - Base case : Prove $P(n)$, for $n=1$, or whatever $n$'s smallest value should be\n",
    " - Inductive steps: Assume $P(n-1)$ is true, and use this to prove $P(n)$ is true"
   ]
  },
  {
   "cell_type": "markdown",
   "id": "5f670398",
   "metadata": {},
   "source": [
    "**Recursion**:\n",
    "- Hypothesis: Pick a function $f(n)$ which you'd like to compute for all $n$\n",
    "- Base case : Compute $f(n)$, for $n=1$ or whatever $n$'s smallest value should be\n",
    "- Recursive case: Assume that someone else already computed $f(n-1)$ for you. Use that info to compute $f(n)$, and then take all credit"
   ]
  },
  {
   "cell_type": "code",
   "execution_count": 6,
   "id": "0f2cefb5",
   "metadata": {},
   "outputs": [],
   "source": [
    "-- Iterating Recursion Example\n",
    "nthsq 1 = 1\n",
    "nthsq n = 2*n-1 + nthsq (n-1)\n",
    "-- the pattern match feature of haskell will check which case is appropriate\n",
    "-- Line 1 is the base case (stop point of the recursion)\n",
    "-- Line 2 is the recursive cases"
   ]
  },
  {
   "cell_type": "markdown",
   "id": "17051640",
   "metadata": {},
   "source": [
    "### Basic recursions"
   ]
  },
  {
   "cell_type": "markdown",
   "id": "f0afff24",
   "metadata": {},
   "source": [
    "#### function syntax"
   ]
  },
  {
   "cell_type": "code",
   "execution_count": 7,
   "id": "dabe0f50",
   "metadata": {},
   "outputs": [],
   "source": [
    "foo a = \n",
    "    let aa = a * a\n",
    "    in aa + a\n",
    "-- foo has one parameter (a) and one local parameter (aa)\n",
    "-- what whould happend in memory if we call foo three times?"
   ]
  },
  {
   "cell_type": "code",
   "execution_count": 8,
   "id": "d02df4bc",
   "metadata": {},
   "outputs": [],
   "source": [
    "x = foo 1 + foo 2 + foo 3"
   ]
  },
  {
   "cell_type": "markdown",
   "id": "0d76fdac",
   "metadata": {},
   "source": [
    "Each call of foo will allocate two piece of memory for a and aa (we call this **Activation Record**)"
   ]
  },
  {
   "cell_type": "markdown",
   "id": "51a80c22",
   "metadata": {},
   "source": [
    "#### Functions Calling Functions"
   ]
  },
  {
   "cell_type": "code",
   "execution_count": 9,
   "id": "538a023d",
   "metadata": {},
   "outputs": [
    {
     "data": {
      "text/plain": [
       "33"
      ]
     },
     "metadata": {},
     "output_type": "display_data"
    }
   ],
   "source": [
    "foo x = x + bar (x+1)\n",
    "bar y = y + baz (y+1)\n",
    "baz z = z * 10\n",
    "foo 1"
   ]
  },
  {
   "cell_type": "markdown",
   "id": "cbac9f4b",
   "metadata": {},
   "source": [
    "<img src=\"foo_actiRecords.png\" alt=\"foo_actiRecords\" width=\"400\"/>"
   ]
  },
  {
   "cell_type": "code",
   "execution_count": 10,
   "id": "d1205741",
   "metadata": {},
   "outputs": [
    {
     "data": {
      "text/plain": [
       "24"
      ]
     },
     "metadata": {},
     "output_type": "display_data"
    }
   ],
   "source": [
    "-- this also works if the function calls itself\n",
    "fact 0 = 1\n",
    "fact 1 = 1\n",
    "fact n = n * fact (n-1)\n",
    "fact 4"
   ]
  },
  {
   "cell_type": "markdown",
   "id": "cfaccfcd",
   "metadata": {},
   "source": [
    "<img src=\"fact_actiRecord.png\" alt=\"fact_actiRecord\" width=\"500\"/>"
   ]
  },
  {
   "cell_type": "markdown",
   "id": "a04cc225",
   "metadata": {},
   "source": [
    "**List in Haskell**"
   ]
  },
  {
   "cell_type": "markdown",
   "id": "847f36e4",
   "metadata": {},
   "source": [
    "In haskell, we can build a list with following commands:\n",
    "- empty list : `[]`\n",
    "- create new list : `[1, 2, 3, 4]`\n",
    "- create new list with p:ps : `1 : 2 : 3 : 4 : []`. if we create list in this way, Haskell will just link the exsiting numers like the figure below \n",
    "    <img src=\"list.png\" alt=\"list\" width=\"500\"/>"
   ]
  },
  {
   "cell_type": "markdown",
   "id": "25668386",
   "metadata": {},
   "source": [
    "#### Activity"
   ]
  },
  {
   "cell_type": "code",
   "execution_count": 11,
   "id": "b7ff49fa",
   "metadata": {},
   "outputs": [],
   "source": [
    "-- Fibonacci number Fn\n",
    "fib 1 = 1\n",
    "fib 2 = 1\n",
    "fib n = fib (n-1) + fib (n-2)"
   ]
  },
  {
   "cell_type": "code",
   "execution_count": 12,
   "id": "ba6d6bf3",
   "metadata": {},
   "outputs": [
    {
     "data": {
      "text/html": [
       "<style>/* Styles used for the Hoogle display in the pager */\n",
       ".hoogle-doc {\n",
       "display: block;\n",
       "padding-bottom: 1.3em;\n",
       "padding-left: 0.4em;\n",
       "}\n",
       ".hoogle-code {\n",
       "display: block;\n",
       "font-family: monospace;\n",
       "white-space: pre;\n",
       "}\n",
       ".hoogle-text {\n",
       "display: block;\n",
       "}\n",
       ".hoogle-name {\n",
       "color: green;\n",
       "font-weight: bold;\n",
       "}\n",
       ".hoogle-head {\n",
       "font-weight: bold;\n",
       "}\n",
       ".hoogle-sub {\n",
       "display: block;\n",
       "margin-left: 0.4em;\n",
       "}\n",
       ".hoogle-package {\n",
       "font-weight: bold;\n",
       "font-style: italic;\n",
       "}\n",
       ".hoogle-module {\n",
       "font-weight: bold;\n",
       "}\n",
       ".hoogle-class {\n",
       "font-weight: bold;\n",
       "}\n",
       ".get-type {\n",
       "color: green;\n",
       "font-weight: bold;\n",
       "font-family: monospace;\n",
       "display: block;\n",
       "white-space: pre-wrap;\n",
       "}\n",
       ".show-type {\n",
       "color: green;\n",
       "font-weight: bold;\n",
       "font-family: monospace;\n",
       "margin-left: 1em;\n",
       "}\n",
       ".mono {\n",
       "font-family: monospace;\n",
       "display: block;\n",
       "}\n",
       ".err-msg {\n",
       "color: red;\n",
       "font-style: italic;\n",
       "font-family: monospace;\n",
       "white-space: pre;\n",
       "display: block;\n",
       "}\n",
       "#unshowable {\n",
       "color: red;\n",
       "font-weight: bold;\n",
       "}\n",
       ".err-msg.in.collapse {\n",
       "padding-top: 0.7em;\n",
       "}\n",
       ".highlight-code {\n",
       "white-space: pre;\n",
       "font-family: monospace;\n",
       "}\n",
       ".suggestion-warning { \n",
       "font-weight: bold;\n",
       "color: rgb(200, 130, 0);\n",
       "}\n",
       ".suggestion-error { \n",
       "font-weight: bold;\n",
       "color: red;\n",
       "}\n",
       ".suggestion-name {\n",
       "font-weight: bold;\n",
       "}\n",
       "</style><div class=\"suggestion-name\" style=\"clear:both;\">Use foldr</div><div class=\"suggestion-row\" style=\"float: left;\"><div class=\"suggestion-warning\">Found:</div><div class=\"highlight-code\" id=\"haskell\">sumList [] = 0\n",
       "sumList (x : xs) = x + sumList xs</div></div><div class=\"suggestion-row\" style=\"float: left;\"><div class=\"suggestion-warning\">Why Not:</div><div class=\"highlight-code\" id=\"haskell\">sumList xs = foldr (+) 0 xs</div></div>"
      ],
      "text/plain": [
       "Line 1: Use foldr\n",
       "Found:\n",
       "sumList [] = 0\n",
       "sumList (x : xs) = x + sumList xs\n",
       "Why not:\n",
       "sumList xs = foldr (+) 0 xs"
      ]
     },
     "metadata": {},
     "output_type": "display_data"
    },
    {
     "data": {
      "text/plain": [
       "6"
      ]
     },
     "metadata": {},
     "output_type": "display_data"
    }
   ],
   "source": [
    "sumList [] = 0\n",
    "sumList (x:xs) = x + sumList xs\n",
    "\n",
    "sumList [1,2,3]"
   ]
  },
  {
   "cell_type": "code",
   "execution_count": 13,
   "id": "50bea549",
   "metadata": {},
   "outputs": [
    {
     "data": {
      "text/html": [
       "<style>/* Styles used for the Hoogle display in the pager */\n",
       ".hoogle-doc {\n",
       "display: block;\n",
       "padding-bottom: 1.3em;\n",
       "padding-left: 0.4em;\n",
       "}\n",
       ".hoogle-code {\n",
       "display: block;\n",
       "font-family: monospace;\n",
       "white-space: pre;\n",
       "}\n",
       ".hoogle-text {\n",
       "display: block;\n",
       "}\n",
       ".hoogle-name {\n",
       "color: green;\n",
       "font-weight: bold;\n",
       "}\n",
       ".hoogle-head {\n",
       "font-weight: bold;\n",
       "}\n",
       ".hoogle-sub {\n",
       "display: block;\n",
       "margin-left: 0.4em;\n",
       "}\n",
       ".hoogle-package {\n",
       "font-weight: bold;\n",
       "font-style: italic;\n",
       "}\n",
       ".hoogle-module {\n",
       "font-weight: bold;\n",
       "}\n",
       ".hoogle-class {\n",
       "font-weight: bold;\n",
       "}\n",
       ".get-type {\n",
       "color: green;\n",
       "font-weight: bold;\n",
       "font-family: monospace;\n",
       "display: block;\n",
       "white-space: pre-wrap;\n",
       "}\n",
       ".show-type {\n",
       "color: green;\n",
       "font-weight: bold;\n",
       "font-family: monospace;\n",
       "margin-left: 1em;\n",
       "}\n",
       ".mono {\n",
       "font-family: monospace;\n",
       "display: block;\n",
       "}\n",
       ".err-msg {\n",
       "color: red;\n",
       "font-style: italic;\n",
       "font-family: monospace;\n",
       "white-space: pre;\n",
       "display: block;\n",
       "}\n",
       "#unshowable {\n",
       "color: red;\n",
       "font-weight: bold;\n",
       "}\n",
       ".err-msg.in.collapse {\n",
       "padding-top: 0.7em;\n",
       "}\n",
       ".highlight-code {\n",
       "white-space: pre;\n",
       "font-family: monospace;\n",
       "}\n",
       ".suggestion-warning { \n",
       "font-weight: bold;\n",
       "color: rgb(200, 130, 0);\n",
       "}\n",
       ".suggestion-error { \n",
       "font-weight: bold;\n",
       "color: red;\n",
       "}\n",
       ".suggestion-name {\n",
       "font-weight: bold;\n",
       "}\n",
       "</style><div class=\"suggestion-name\" style=\"clear:both;\">Use map</div><div class=\"suggestion-row\" style=\"float: left;\"><div class=\"suggestion-warning\">Found:</div><div class=\"highlight-code\" id=\"haskell\">incList [] = []\n",
       "incList (x : xs) = (x + 1) : incList xs</div></div><div class=\"suggestion-row\" style=\"float: left;\"><div class=\"suggestion-warning\">Why Not:</div><div class=\"highlight-code\" id=\"haskell\">incList xs = map (+ 1) xs</div></div>"
      ],
      "text/plain": [
       "Line 1: Use map\n",
       "Found:\n",
       "incList [] = []\n",
       "incList (x : xs) = (x + 1) : incList xs\n",
       "Why not:\n",
       "incList xs = map (+ 1) xs"
      ]
     },
     "metadata": {},
     "output_type": "display_data"
    }
   ],
   "source": [
    "incList [] = []\n",
    "incList (x:xs) = (x+1) : incList xs"
   ]
  },
  {
   "cell_type": "code",
   "execution_count": 14,
   "id": "6c55e693",
   "metadata": {},
   "outputs": [
    {
     "data": {
      "text/plain": [
       "[2,3,4]"
      ]
     },
     "metadata": {},
     "output_type": "display_data"
    }
   ],
   "source": [
    "incList [1,2,3]"
   ]
  },
  {
   "cell_type": "markdown",
   "id": "c528b5a6",
   "metadata": {},
   "source": [
    "### Tail Position (Tail recursion):\n",
    "In recursive function, if the return value does not need to be changed (original value returned), then the function is tail recursion function.\n",
    "\n",
    "The Advantage of tail recursion is **the function finished with all of its work when it call the next recursive call**, and the function's return value is the next level recursive call. Thus, **tail recursive function can only occupy memory for one function call**. (memory use in normal recursion function depends on the amount of recursive call). \n",
    "\n",
    "eg.\n",
    "- Not Tail Recursion:\n",
    "\n",
    "```\n",
    "foo 0 b = 0 \n",
    "foo a b = a + foo (a-1) b \n",
    "-- this return value is not what the function returned,\n",
    "-- It returns a + the value return from last level:(a + foo(a-1) b)\n",
    "```\n",
    "- Tail Recursion:\n",
    "\n",
    "```\n",
    "foo 0 b = 0 \n",
    "foo a b = foo (a-1) b -- this return original function return value\n",
    "```"
   ]
  },
  {
   "cell_type": "code",
   "execution_count": 15,
   "id": "888d58a6",
   "metadata": {},
   "outputs": [],
   "source": [
    "-- Tail Recursive Summation\n",
    "sum xx = aux xx 0\n",
    "    where aux [] a = a\n",
    "        -- tail calls below\n",
    "          aux (x:xs) a = aux xs (a+x)"
   ]
  },
  {
   "cell_type": "markdown",
   "id": "48fbe442",
   "metadata": {},
   "source": [
    "**Direct-style Recursion**:\n",
    "- Recursion will split the input into \"first piece\" and the rest of the input\n",
    "- in direct-style recursion: the recursive call computes the result for the  rest of the input, and then the function combines the result with the first piece\n",
    "- you need to wait until the recursive call is done to generate the result"
   ]
  },
  {
   "cell_type": "code",
   "execution_count": 16,
   "id": "ce2bf32c",
   "metadata": {},
   "outputs": [
    {
     "data": {
      "text/html": [
       "<style>/* Styles used for the Hoogle display in the pager */\n",
       ".hoogle-doc {\n",
       "display: block;\n",
       "padding-bottom: 1.3em;\n",
       "padding-left: 0.4em;\n",
       "}\n",
       ".hoogle-code {\n",
       "display: block;\n",
       "font-family: monospace;\n",
       "white-space: pre;\n",
       "}\n",
       ".hoogle-text {\n",
       "display: block;\n",
       "}\n",
       ".hoogle-name {\n",
       "color: green;\n",
       "font-weight: bold;\n",
       "}\n",
       ".hoogle-head {\n",
       "font-weight: bold;\n",
       "}\n",
       ".hoogle-sub {\n",
       "display: block;\n",
       "margin-left: 0.4em;\n",
       "}\n",
       ".hoogle-package {\n",
       "font-weight: bold;\n",
       "font-style: italic;\n",
       "}\n",
       ".hoogle-module {\n",
       "font-weight: bold;\n",
       "}\n",
       ".hoogle-class {\n",
       "font-weight: bold;\n",
       "}\n",
       ".get-type {\n",
       "color: green;\n",
       "font-weight: bold;\n",
       "font-family: monospace;\n",
       "display: block;\n",
       "white-space: pre-wrap;\n",
       "}\n",
       ".show-type {\n",
       "color: green;\n",
       "font-weight: bold;\n",
       "font-family: monospace;\n",
       "margin-left: 1em;\n",
       "}\n",
       ".mono {\n",
       "font-family: monospace;\n",
       "display: block;\n",
       "}\n",
       ".err-msg {\n",
       "color: red;\n",
       "font-style: italic;\n",
       "font-family: monospace;\n",
       "white-space: pre;\n",
       "display: block;\n",
       "}\n",
       "#unshowable {\n",
       "color: red;\n",
       "font-weight: bold;\n",
       "}\n",
       ".err-msg.in.collapse {\n",
       "padding-top: 0.7em;\n",
       "}\n",
       ".highlight-code {\n",
       "white-space: pre;\n",
       "font-family: monospace;\n",
       "}\n",
       ".suggestion-warning { \n",
       "font-weight: bold;\n",
       "color: rgb(200, 130, 0);\n",
       "}\n",
       ".suggestion-error { \n",
       "font-weight: bold;\n",
       "color: red;\n",
       "}\n",
       ".suggestion-name {\n",
       "font-weight: bold;\n",
       "}\n",
       "</style><div class=\"suggestion-name\" style=\"clear:both;\">Use foldr</div><div class=\"suggestion-row\" style=\"float: left;\"><div class=\"suggestion-warning\">Found:</div><div class=\"highlight-code\" id=\"haskell\">sum [] = 0\n",
       "sum (x : xs) = x + sum xs</div></div><div class=\"suggestion-row\" style=\"float: left;\"><div class=\"suggestion-warning\">Why Not:</div><div class=\"highlight-code\" id=\"haskell\">sum xs = foldr (+) 0 xs</div></div>"
      ],
      "text/plain": [
       "Line 2: Use foldr\n",
       "Found:\n",
       "sum [] = 0\n",
       "sum (x : xs) = x + sum xs\n",
       "Why not:\n",
       "sum xs = foldr (+) 0 xs"
      ]
     },
     "metadata": {},
     "output_type": "display_data"
    }
   ],
   "source": [
    "-- example of direct-style recursion: direct style summation\n",
    "sum [] = 0\n",
    "sum (x:xs) = x + sum xs -- <- computing the return val base on next return val\n",
    "-- x is the first piece, and xs is the rest of the input\n",
    "-- need to wait all recursive call get their return value computed"
   ]
  },
  {
   "cell_type": "markdown",
   "id": "c4293243",
   "metadata": {},
   "source": [
    "**Accumulating Recursion**:\n",
    "- In accumulating recursion: generate an **intermediate result** now, and give that to the recursive call\n",
    "- Usually requires an **auxiliary function (helper method)**"
   ]
  },
  {
   "cell_type": "code",
   "execution_count": 17,
   "id": "537b4d3b",
   "metadata": {},
   "outputs": [],
   "source": [
    "-- function convertion (my solution):\n",
    "fun1 [] _ = 0\n",
    "fun1 [] b = b\n",
    "fun1 (x:xs) b | even x = fun1 xs (b-1)\n",
    "              | odd x = fun1 xs (b+1)\n",
    "fun1 (x:xs) _ | even x = fun1 xs (-1)\n",
    "               | odd x = fun1 xs 1\n",
    "               \n",
    "               \n",
    "fun2 1 _ = 0\n",
    "fun2 1 b = b\n",
    "fun2 n _ = fun2 (n `div` 2) 1\n",
    "fun2 n b = fun2 (n `div` 2) (b+1)\n"
   ]
  },
  {
   "cell_type": "code",
   "execution_count": null,
   "id": "e28971f9",
   "metadata": {},
   "outputs": [],
   "source": []
  },
  {
   "cell_type": "markdown",
   "id": "e5255d6a",
   "metadata": {},
   "source": [
    "**Solutions**"
   ]
  },
  {
   "cell_type": "code",
   "execution_count": 22,
   "id": "c69e97e2",
   "metadata": {},
   "outputs": [],
   "source": [
    "fun1 xx = aux xx 0\n",
    "    where aux [] a = a\n",
    "          aux (x:xs) a | even x = aux xs (a-1)\n",
    "                       | odd x  = aux xs (a+1)\n",
    "fun2 n = aux n 1\n",
    "    where aux 1 a = a\n",
    "          aux n a = aux (n `div` 2) (a+1)\n",
    "         \n",
    "-- fun3 == fabonacci\n",
    "fun3 n = aux n 1 1\n",
    "    where aux 0 f1 f2 = []\n",
    "          aux n f1 f2 = (f1+f2) :aux (n-1) f2 (f1+f2)\n"
   ]
  },
  {
   "cell_type": "code",
   "execution_count": 23,
   "id": "8eb66613",
   "metadata": {},
   "outputs": [
    {
     "data": {
      "text/plain": [
       "[2,3,5,8,13,0,1]"
      ]
     },
     "metadata": {},
     "output_type": "display_data"
    }
   ],
   "source": [
    "fun3 5"
   ]
  },
  {
   "cell_type": "code",
   "execution_count": 27,
   "id": "5f0a5d78",
   "metadata": {},
   "outputs": [
    {
     "data": {
      "text/html": [
       "<style>/* Styles used for the Hoogle display in the pager */\n",
       ".hoogle-doc {\n",
       "display: block;\n",
       "padding-bottom: 1.3em;\n",
       "padding-left: 0.4em;\n",
       "}\n",
       ".hoogle-code {\n",
       "display: block;\n",
       "font-family: monospace;\n",
       "white-space: pre;\n",
       "}\n",
       ".hoogle-text {\n",
       "display: block;\n",
       "}\n",
       ".hoogle-name {\n",
       "color: green;\n",
       "font-weight: bold;\n",
       "}\n",
       ".hoogle-head {\n",
       "font-weight: bold;\n",
       "}\n",
       ".hoogle-sub {\n",
       "display: block;\n",
       "margin-left: 0.4em;\n",
       "}\n",
       ".hoogle-package {\n",
       "font-weight: bold;\n",
       "font-style: italic;\n",
       "}\n",
       ".hoogle-module {\n",
       "font-weight: bold;\n",
       "}\n",
       ".hoogle-class {\n",
       "font-weight: bold;\n",
       "}\n",
       ".get-type {\n",
       "color: green;\n",
       "font-weight: bold;\n",
       "font-family: monospace;\n",
       "display: block;\n",
       "white-space: pre-wrap;\n",
       "}\n",
       ".show-type {\n",
       "color: green;\n",
       "font-weight: bold;\n",
       "font-family: monospace;\n",
       "margin-left: 1em;\n",
       "}\n",
       ".mono {\n",
       "font-family: monospace;\n",
       "display: block;\n",
       "}\n",
       ".err-msg {\n",
       "color: red;\n",
       "font-style: italic;\n",
       "font-family: monospace;\n",
       "white-space: pre;\n",
       "display: block;\n",
       "}\n",
       "#unshowable {\n",
       "color: red;\n",
       "font-weight: bold;\n",
       "}\n",
       ".err-msg.in.collapse {\n",
       "padding-top: 0.7em;\n",
       "}\n",
       ".highlight-code {\n",
       "white-space: pre;\n",
       "font-family: monospace;\n",
       "}\n",
       ".suggestion-warning { \n",
       "font-weight: bold;\n",
       "color: rgb(200, 130, 0);\n",
       "}\n",
       ".suggestion-error { \n",
       "font-weight: bold;\n",
       "color: red;\n",
       "}\n",
       ".suggestion-name {\n",
       "font-weight: bold;\n",
       "}\n",
       "</style><div class=\"suggestion-name\" style=\"clear:both;\">Use map</div><div class=\"suggestion-row\" style=\"float: left;\"><div class=\"suggestion-warning\">Found:</div><div class=\"highlight-code\" id=\"haskell\">incList [] = []\n",
       "incList (x : xs) = (x + 1) : incList xs</div></div><div class=\"suggestion-row\" style=\"float: left;\"><div class=\"suggestion-warning\">Why Not:</div><div class=\"highlight-code\" id=\"haskell\">incList xs = map (+ 1) xs</div></div>"
      ],
      "text/plain": [
       "Line 2: Use map\n",
       "Found:\n",
       "incList [] = []\n",
       "incList (x : xs) = (x + 1) : incList xs\n",
       "Why not:\n",
       "incList xs = map (+ 1) xs"
      ]
     },
     "metadata": {},
     "output_type": "display_data"
    }
   ],
   "source": [
    "incList :: [Integer] -> [Integer]\n",
    "incList [] = []\n",
    "incList (x:xs) = (x+1) : incList xs"
   ]
  },
  {
   "cell_type": "code",
   "execution_count": 30,
   "id": "c9ada350",
   "metadata": {},
   "outputs": [
    {
     "data": {
      "text/plain": [
       "[]"
      ]
     },
     "metadata": {},
     "output_type": "display_data"
    }
   ],
   "source": [
    "incList []"
   ]
  },
  {
   "cell_type": "code",
   "execution_count": 31,
   "id": "9b3bf47e",
   "metadata": {},
   "outputs": [],
   "source": [
    "sumList :: Num t => [t] -> t\n",
    "sumList [] = 0\n",
    "sumList list = aux list 0\n",
    "    where aux [] a = a \n",
    "          aux (x:xs) a = aux xs (a+x)"
   ]
  },
  {
   "cell_type": "code",
   "execution_count": 34,
   "id": "30472505",
   "metadata": {},
   "outputs": [
    {
     "data": {
      "text/plain": [
       "0"
      ]
     },
     "metadata": {},
     "output_type": "display_data"
    }
   ],
   "source": [
    "sumList []"
   ]
  },
  {
   "cell_type": "code",
   "execution_count": 35,
   "id": "3ad59091",
   "metadata": {},
   "outputs": [],
   "source": [
    "power :: Integer -> Integer -> Integer\n",
    "power x y = aux x y 1\n",
    "    where aux x 0 a = a\n",
    "          aux x y a = aux x (y-1) a*x"
   ]
  },
  {
   "cell_type": "code",
   "execution_count": 44,
   "id": "7d8e0db7",
   "metadata": {},
   "outputs": [
    {
     "data": {
      "text/html": [
       "<style>/* Styles used for the Hoogle display in the pager */\n",
       ".hoogle-doc {\n",
       "display: block;\n",
       "padding-bottom: 1.3em;\n",
       "padding-left: 0.4em;\n",
       "}\n",
       ".hoogle-code {\n",
       "display: block;\n",
       "font-family: monospace;\n",
       "white-space: pre;\n",
       "}\n",
       ".hoogle-text {\n",
       "display: block;\n",
       "}\n",
       ".hoogle-name {\n",
       "color: green;\n",
       "font-weight: bold;\n",
       "}\n",
       ".hoogle-head {\n",
       "font-weight: bold;\n",
       "}\n",
       ".hoogle-sub {\n",
       "display: block;\n",
       "margin-left: 0.4em;\n",
       "}\n",
       ".hoogle-package {\n",
       "font-weight: bold;\n",
       "font-style: italic;\n",
       "}\n",
       ".hoogle-module {\n",
       "font-weight: bold;\n",
       "}\n",
       ".hoogle-class {\n",
       "font-weight: bold;\n",
       "}\n",
       ".get-type {\n",
       "color: green;\n",
       "font-weight: bold;\n",
       "font-family: monospace;\n",
       "display: block;\n",
       "white-space: pre-wrap;\n",
       "}\n",
       ".show-type {\n",
       "color: green;\n",
       "font-weight: bold;\n",
       "font-family: monospace;\n",
       "margin-left: 1em;\n",
       "}\n",
       ".mono {\n",
       "font-family: monospace;\n",
       "display: block;\n",
       "}\n",
       ".err-msg {\n",
       "color: red;\n",
       "font-style: italic;\n",
       "font-family: monospace;\n",
       "white-space: pre;\n",
       "display: block;\n",
       "}\n",
       "#unshowable {\n",
       "color: red;\n",
       "font-weight: bold;\n",
       "}\n",
       ".err-msg.in.collapse {\n",
       "padding-top: 0.7em;\n",
       "}\n",
       ".highlight-code {\n",
       "white-space: pre;\n",
       "font-family: monospace;\n",
       "}\n",
       ".suggestion-warning { \n",
       "font-weight: bold;\n",
       "color: rgb(200, 130, 0);\n",
       "}\n",
       ".suggestion-error { \n",
       "font-weight: bold;\n",
       "color: red;\n",
       "}\n",
       ".suggestion-name {\n",
       "font-weight: bold;\n",
       "}\n",
       "</style><div class=\"suggestion-name\" style=\"clear:both;\">Use map</div><div class=\"suggestion-row\" style=\"float: left;\"><div class=\"suggestion-warning\">Found:</div><div class=\"highlight-code\" id=\"haskell\">map a [] = []\n",
       "map a (x : xs) = a x : map a xs</div></div><div class=\"suggestion-row\" style=\"float: left;\"><div class=\"suggestion-warning\">Why Not:</div><div class=\"highlight-code\" id=\"haskell\">map a xs = map a xs</div></div>"
      ],
      "text/plain": [
       "Line 2: Use map\n",
       "Found:\n",
       "map a [] = []\n",
       "map a (x : xs) = a x : map a xs\n",
       "Why not:\n",
       "map a xs = map a xs"
      ]
     },
     "metadata": {},
     "output_type": "display_data"
    }
   ],
   "source": [
    "map :: (a -> b) -> [a] -> [b]\n",
    "map a [] = []\n",
    "map a (x:xs) = a x : map a xs"
   ]
  },
  {
   "cell_type": "code",
   "execution_count": 46,
   "id": "e34f5aea",
   "metadata": {},
   "outputs": [
    {
     "data": {
      "text/plain": [
       "[2,4,6]"
      ]
     },
     "metadata": {},
     "output_type": "display_data"
    }
   ],
   "source": [
    "map (+1) [1,2,3]\n",
    "map (*2) [1,2,3]"
   ]
  },
  {
   "cell_type": "code",
   "execution_count": 83,
   "id": "f71b4460",
   "metadata": {},
   "outputs": [
    {
     "ename": "",
     "evalue": "",
     "output_type": "error",
     "traceback": [
      "<interactive>:3:17: error:\n    • Couldn't match expected type ‘Char’ with actual type ‘String’\n    • In the expression: \"\"\n      In an equation for ‘findfirst’: findfirst \"\\n\" = \"\""
     ]
    }
   ],
   "source": [
    "a = \"123\"\n",
    "findfirst (p:ps) = p\n",
    "findfirst \"\\n\"= \"\"\n",
    "findfirst \"\"\n",
    "\"123\" == \"123\"\n",
    "\"123\" == \"1\"++\"2\"++\"3\""
   ]
  },
  {
   "cell_type": "code",
   "execution_count": 102,
   "id": "ba229b06",
   "metadata": {},
   "outputs": [],
   "source": [
    "palindromeCheck :: [String] -> [Bool]\n",
    "palindromeCheck = aux\n",
    "    where single p = p == reverse p\n",
    "          aux [] = []\n",
    "          aux (p:ps) = single p : aux ps"
   ]
  },
  {
   "cell_type": "code",
   "execution_count": 104,
   "id": "f7b994a7",
   "metadata": {},
   "outputs": [
    {
     "data": {
      "text/plain": [
       "[True,True,True]"
      ]
     },
     "metadata": {},
     "output_type": "display_data"
    }
   ],
   "source": [
    "palindromeCheck [\"racecar\", \"dad\", \"dad\"]"
   ]
  }
 ],
 "metadata": {
  "kernelspec": {
   "display_name": "Haskell",
   "language": "haskell",
   "name": "haskell"
  },
  "language_info": {
   "codemirror_mode": "Haskell",
   "file_extension": ".hs",
   "mimetype": "text/x-haskell",
   "name": "haskell",
   "pygments_lexer": "Haskell",
   "version": "8.10.4"
  },
  "latex_envs": {
   "LaTeX_envs_menu_present": true,
   "autoclose": true,
   "autocomplete": true,
   "bibliofile": "biblio.bib",
   "cite_by": "apalike",
   "current_citInitial": 1,
   "eqLabelWithNumbers": true,
   "eqNumInitial": 1,
   "hotkeys": {
    "equation": "Ctrl-E",
    "itemize": "Ctrl-I"
   },
   "labels_anchors": false,
   "latex_user_defs": false,
   "report_style_numbering": false,
   "user_envs_cfg": false
  }
 },
 "nbformat": 4,
 "nbformat_minor": 5
}
