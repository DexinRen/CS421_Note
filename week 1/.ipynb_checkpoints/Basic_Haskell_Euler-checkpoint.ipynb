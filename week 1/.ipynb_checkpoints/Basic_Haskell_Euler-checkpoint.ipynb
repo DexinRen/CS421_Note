{
 "cells": [
  {
   "cell_type": "markdown",
   "id": "3c0a63b3",
   "metadata": {},
   "source": [
    "**Define function:**"
   ]
  },
  {
   "cell_type": "code",
   "execution_count": 4,
   "id": "31eb06f1",
   "metadata": {},
   "outputs": [],
   "source": [
    "-- Set Function: inc: R->R\n",
    "inc :: Integer -> Integer\n",
    "inc x = x + 1"
   ]
  },
  {
   "cell_type": "code",
   "execution_count": 5,
   "id": "0b36fd4d",
   "metadata": {},
   "outputs": [
    {
     "data": {
      "text/plain": [
       "2"
      ]
     },
     "metadata": {},
     "output_type": "display_data"
    }
   ],
   "source": [
    "inc 1"
   ]
  },
  {
   "cell_type": "code",
   "execution_count": 6,
   "id": "aaa381e8",
   "metadata": {},
   "outputs": [],
   "source": [
    "-- mod3or5: if input is divisible by 3 or 5, return True\n",
    "\n",
    "mod3or5 :: Integral a => a -> Bool\n",
    "mod3or5 x = x `mod` 3 == 0 || x `mod` 5 == 0 \n",
    "\n",
    "-- we can use: `map function [list]` to run the func with list of input\n",
    "-- eg. `map mod3or5 [1,2,3,4,5,6]` => [False,False,True,False,True,True]"
   ]
  },
  {
   "cell_type": "code",
   "execution_count": 7,
   "id": "a1debbbb",
   "metadata": {
    "scrolled": true
   },
   "outputs": [
    {
     "data": {
      "text/plain": [
       "True"
      ]
     },
     "metadata": {},
     "output_type": "display_data"
    },
    {
     "data": {
      "text/plain": [
       "True"
      ]
     },
     "metadata": {},
     "output_type": "display_data"
    },
    {
     "data": {
      "text/plain": [
       "True"
      ]
     },
     "metadata": {},
     "output_type": "display_data"
    }
   ],
   "source": [
    "-- three same functions\n",
    "mod3or5 5\n",
    "\n",
    "mod 5 5 == 0 || mod 3 5 == 0\n",
    "\n",
    "5 `mod` 5 == 0 || 3 `mod` 5 == 0"
   ]
  },
  {
   "cell_type": "markdown",
   "id": "9f18fd09",
   "metadata": {},
   "source": [
    "**Console Operations:**\n",
    "- Reload Modal: `:r` or `:reload`\n",
    "\n",
    "- Check Type: `:t function` or `:t value`\n",
    "\n",
    "**Grammar Notepoints:**\n",
    "\n",
    "- `=>`: Such that. \n",
    "> eg. `Integral a => a -> bool`: set a as integral, such that function mod3or5(a) return bool\n",
    "\n",
    "- `Integral`: A data type, Int, Int64, Integer are the subsets of Integral type\n",
    "\n",
    "- `[a]`：list of data with type(`a`) entries.\n",
    "\n",
    "- `filter func [a]`: return all values that were True in func [a]"
   ]
  },
  {
   "cell_type": "code",
   "execution_count": 8,
   "id": "8acbe5b8",
   "metadata": {},
   "outputs": [
    {
     "data": {
      "text/plain": [
       "[False,False,True,False,True,True]"
      ]
     },
     "metadata": {},
     "output_type": "display_data"
    },
    {
     "data": {
      "text/plain": [
       "[3,5,6]"
      ]
     },
     "metadata": {},
     "output_type": "display_data"
    }
   ],
   "source": [
    "map mod3or5 [1,2,3,4,5,6]\n",
    "filter mod3or5 [1,2,3,4,5,6]"
   ]
  },
  {
   "cell_type": "code",
   "execution_count": 9,
   "id": "7cac48ce",
   "metadata": {},
   "outputs": [],
   "source": [
    "-- sum the value in list that were divisible by 3 or 5\n",
    "\n",
    "sumMods :: Integral a => [a] -> a\n",
    "sumMods x = sum (filter mod3or5 x)"
   ]
  },
  {
   "cell_type": "code",
   "execution_count": 10,
   "id": "84418a43",
   "metadata": {},
   "outputs": [],
   "source": [
    "-- euler number:\n",
    "-- use the function we defined to find euler number\n",
    "euler1_1 = sumMods [1..999]"
   ]
  },
  {
   "cell_type": "markdown",
   "id": "ba5c3f2f",
   "metadata": {},
   "source": [
    "We can also use `where` to define **local function** under one nction definition\n",
    "\n",
    "**The local function:**\n",
    "- Cannot have same-name as function outside (o.w. the parent function cannot run)\n",
    "- Cannot be called by the outside the parent function (parent function callable only) "
   ]
  },
  {
   "cell_type": "code",
   "execution_count": 11,
   "id": "aa578dc3",
   "metadata": {},
   "outputs": [],
   "source": [
    "euler1_2 = sumMods_1 [1..999]\n",
    "  where mod3or5_1 x = x `mod` 3 == 0 || x `mod` 5 == 0\n",
    "        sumMods_1 x = sum (filter mod3or5_1 x)"
   ]
  },
  {
   "cell_type": "code",
   "execution_count": 12,
   "id": "a9cfea16",
   "metadata": {},
   "outputs": [
    {
     "data": {
      "text/plain": [
       "233168"
      ]
     },
     "metadata": {},
     "output_type": "display_data"
    },
    {
     "data": {
      "text/plain": [
       "233168"
      ]
     },
     "metadata": {},
     "output_type": "display_data"
    },
    {
     "ename": "",
     "evalue": "",
     "output_type": "error",
     "traceback": [
      "<interactive>:1:1: error:\n    • Variable not in scope: mod3or5_1 :: t0 -> t\n    • Perhaps you meant ‘mod3or5’ (line 2)"
     ]
    }
   ],
   "source": [
    "euler1_1\n",
    "euler1_2\n",
    "\n",
    "mod3or5_1 2 \n",
    "-- we cannot call local function outside"
   ]
  },
  {
   "cell_type": "code",
   "execution_count": 13,
   "id": "dda2dca3",
   "metadata": {},
   "outputs": [],
   "source": [
    "-- Sectioning\n",
    "-- `:t plus` = \"plus :: Num a => a -> a -> a\"\n",
    "plus :: Num a => a -> a -> a\n",
    "plus a b = a + b"
   ]
  },
  {
   "cell_type": "code",
   "execution_count": 14,
   "id": "4c82cf49",
   "metadata": {},
   "outputs": [
    {
     "data": {
      "text/html": [
       "<style>/* Styles used for the Hoogle display in the pager */\n",
       ".hoogle-doc {\n",
       "display: block;\n",
       "padding-bottom: 1.3em;\n",
       "padding-left: 0.4em;\n",
       "}\n",
       ".hoogle-code {\n",
       "display: block;\n",
       "font-family: monospace;\n",
       "white-space: pre;\n",
       "}\n",
       ".hoogle-text {\n",
       "display: block;\n",
       "}\n",
       ".hoogle-name {\n",
       "color: green;\n",
       "font-weight: bold;\n",
       "}\n",
       ".hoogle-head {\n",
       "font-weight: bold;\n",
       "}\n",
       ".hoogle-sub {\n",
       "display: block;\n",
       "margin-left: 0.4em;\n",
       "}\n",
       ".hoogle-package {\n",
       "font-weight: bold;\n",
       "font-style: italic;\n",
       "}\n",
       ".hoogle-module {\n",
       "font-weight: bold;\n",
       "}\n",
       ".hoogle-class {\n",
       "font-weight: bold;\n",
       "}\n",
       ".get-type {\n",
       "color: green;\n",
       "font-weight: bold;\n",
       "font-family: monospace;\n",
       "display: block;\n",
       "white-space: pre-wrap;\n",
       "}\n",
       ".show-type {\n",
       "color: green;\n",
       "font-weight: bold;\n",
       "font-family: monospace;\n",
       "margin-left: 1em;\n",
       "}\n",
       ".mono {\n",
       "font-family: monospace;\n",
       "display: block;\n",
       "}\n",
       ".err-msg {\n",
       "color: red;\n",
       "font-style: italic;\n",
       "font-family: monospace;\n",
       "white-space: pre;\n",
       "display: block;\n",
       "}\n",
       "#unshowable {\n",
       "color: red;\n",
       "font-weight: bold;\n",
       "}\n",
       ".err-msg.in.collapse {\n",
       "padding-top: 0.7em;\n",
       "}\n",
       ".highlight-code {\n",
       "white-space: pre;\n",
       "font-family: monospace;\n",
       "}\n",
       ".suggestion-warning { \n",
       "font-weight: bold;\n",
       "color: rgb(200, 130, 0);\n",
       "}\n",
       ".suggestion-error { \n",
       "font-weight: bold;\n",
       "color: red;\n",
       "}\n",
       ".suggestion-name {\n",
       "font-weight: bold;\n",
       "}\n",
       "</style><span class='get-type'>plus :: forall a. Num a => a -> a -> a</span>"
      ],
      "text/plain": [
       "plus :: forall a. Num a => a -> a -> a"
      ]
     },
     "metadata": {},
     "output_type": "display_data"
    },
    {
     "data": {
      "text/html": [
       "<style>/* Styles used for the Hoogle display in the pager */\n",
       ".hoogle-doc {\n",
       "display: block;\n",
       "padding-bottom: 1.3em;\n",
       "padding-left: 0.4em;\n",
       "}\n",
       ".hoogle-code {\n",
       "display: block;\n",
       "font-family: monospace;\n",
       "white-space: pre;\n",
       "}\n",
       ".hoogle-text {\n",
       "display: block;\n",
       "}\n",
       ".hoogle-name {\n",
       "color: green;\n",
       "font-weight: bold;\n",
       "}\n",
       ".hoogle-head {\n",
       "font-weight: bold;\n",
       "}\n",
       ".hoogle-sub {\n",
       "display: block;\n",
       "margin-left: 0.4em;\n",
       "}\n",
       ".hoogle-package {\n",
       "font-weight: bold;\n",
       "font-style: italic;\n",
       "}\n",
       ".hoogle-module {\n",
       "font-weight: bold;\n",
       "}\n",
       ".hoogle-class {\n",
       "font-weight: bold;\n",
       "}\n",
       ".get-type {\n",
       "color: green;\n",
       "font-weight: bold;\n",
       "font-family: monospace;\n",
       "display: block;\n",
       "white-space: pre-wrap;\n",
       "}\n",
       ".show-type {\n",
       "color: green;\n",
       "font-weight: bold;\n",
       "font-family: monospace;\n",
       "margin-left: 1em;\n",
       "}\n",
       ".mono {\n",
       "font-family: monospace;\n",
       "display: block;\n",
       "}\n",
       ".err-msg {\n",
       "color: red;\n",
       "font-style: italic;\n",
       "font-family: monospace;\n",
       "white-space: pre;\n",
       "display: block;\n",
       "}\n",
       "#unshowable {\n",
       "color: red;\n",
       "font-weight: bold;\n",
       "}\n",
       ".err-msg.in.collapse {\n",
       "padding-top: 0.7em;\n",
       "}\n",
       ".highlight-code {\n",
       "white-space: pre;\n",
       "font-family: monospace;\n",
       "}\n",
       ".suggestion-warning { \n",
       "font-weight: bold;\n",
       "color: rgb(200, 130, 0);\n",
       "}\n",
       ".suggestion-error { \n",
       "font-weight: bold;\n",
       "color: red;\n",
       "}\n",
       ".suggestion-name {\n",
       "font-weight: bold;\n",
       "}\n",
       "</style><span class='get-type'>plus 1 :: forall a. Num a => a -> a</span>"
      ],
      "text/plain": [
       "plus 1 :: forall a. Num a => a -> a"
      ]
     },
     "metadata": {},
     "output_type": "display_data"
    }
   ],
   "source": [
    ":t plus\n",
    "-- show the type of plus function\n",
    "-- even plus requires 2 arguments, we can only gives plus the fisrt argument\n",
    "-- and the type becomes:\n",
    ":t plus 1\n",
    "-- plus 1 is a curried function (function that not given all arguments) for plus"
   ]
  },
  {
   "cell_type": "markdown",
   "id": "95a8cda1",
   "metadata": {},
   "source": [
    "Thus the first two `a` in: \n",
    "> plus :: forall a. Num a => a -> a -> a \n",
    "\n",
    "means the data-type of two function arguments, and the last one represent the type of the return value"
   ]
  },
  {
   "cell_type": "code",
   "execution_count": 15,
   "id": "6be1da93",
   "metadata": {},
   "outputs": [],
   "source": [
    "-- we can use curried function to do list operation\n",
    "-- notDivides can check if `n` not divisible by `a`\n",
    "\n",
    "notDivides a n = n `mod` a /= 0"
   ]
  },
  {
   "cell_type": "markdown",
   "id": "e9ec40c8",
   "metadata": {},
   "source": [
    "We can use `filter (notDivides 3) [list]` to find all vals in the list that is not divisible by 3"
   ]
  },
  {
   "cell_type": "code",
   "execution_count": 16,
   "id": "c8e0e5a9",
   "metadata": {},
   "outputs": [
    {
     "data": {
      "text/plain": [
       "[1,2,4,5,7,8,10]"
      ]
     },
     "metadata": {},
     "output_type": "display_data"
    }
   ],
   "source": [
    "filter (notDivides 3) [1..10]"
   ]
  },
  {
   "cell_type": "markdown",
   "id": "288b0714",
   "metadata": {},
   "source": [
    "Building up list: `:` operator:\n",
    "- type: `: forall a. (Num a, Num [a]) => [[a]]`\n",
    "- definition: add a to [a]\n",
    "- `a` will be the first element of the list (head), `b` should be a list"
   ]
  },
  {
   "cell_type": "code",
   "execution_count": 17,
   "id": "33e11813",
   "metadata": {},
   "outputs": [
    {
     "data": {
      "text/plain": [
       "[2,3,4,5]"
      ]
     },
     "metadata": {},
     "output_type": "display_data"
    }
   ],
   "source": [
    "2:[3,4,5]"
   ]
  },
  {
   "cell_type": "code",
   "execution_count": 19,
   "id": "e9312083",
   "metadata": {},
   "outputs": [],
   "source": [
    "-- Sectioning\n",
    "sieve (x:xs) = x : sieve (filter (notDivides x) xs)\n",
    "prime = sieve [2..]"
   ]
  },
  {
   "cell_type": "markdown",
   "id": "eddbc415",
   "metadata": {},
   "source": [
    "Haskell will not evaluate prime if we did not asked.\n",
    "We can use `take n prime` to pick the first n values in prime. "
   ]
  },
  {
   "cell_type": "code",
   "execution_count": 20,
   "id": "97206045",
   "metadata": {},
   "outputs": [
    {
     "data": {
      "text/plain": [
       "[2,3,5,7,11,13,17,19,23,29,31,37,41,43,47,53,59,61,67,71]"
      ]
     },
     "metadata": {},
     "output_type": "display_data"
    }
   ],
   "source": [
    "take 20 prime"
   ]
  },
  {
   "cell_type": "markdown",
   "id": "783f4192",
   "metadata": {},
   "source": [
    "**Factors**"
   ]
  },
  {
   "cell_type": "code",
   "execution_count": 30,
   "id": "0e204b23",
   "metadata": {},
   "outputs": [
    {
     "data": {
      "text/html": [
       "<style>/* Styles used for the Hoogle display in the pager */\n",
       ".hoogle-doc {\n",
       "display: block;\n",
       "padding-bottom: 1.3em;\n",
       "padding-left: 0.4em;\n",
       "}\n",
       ".hoogle-code {\n",
       "display: block;\n",
       "font-family: monospace;\n",
       "white-space: pre;\n",
       "}\n",
       ".hoogle-text {\n",
       "display: block;\n",
       "}\n",
       ".hoogle-name {\n",
       "color: green;\n",
       "font-weight: bold;\n",
       "}\n",
       ".hoogle-head {\n",
       "font-weight: bold;\n",
       "}\n",
       ".hoogle-sub {\n",
       "display: block;\n",
       "margin-left: 0.4em;\n",
       "}\n",
       ".hoogle-package {\n",
       "font-weight: bold;\n",
       "font-style: italic;\n",
       "}\n",
       ".hoogle-module {\n",
       "font-weight: bold;\n",
       "}\n",
       ".hoogle-class {\n",
       "font-weight: bold;\n",
       "}\n",
       ".get-type {\n",
       "color: green;\n",
       "font-weight: bold;\n",
       "font-family: monospace;\n",
       "display: block;\n",
       "white-space: pre-wrap;\n",
       "}\n",
       ".show-type {\n",
       "color: green;\n",
       "font-weight: bold;\n",
       "font-family: monospace;\n",
       "margin-left: 1em;\n",
       "}\n",
       ".mono {\n",
       "font-family: monospace;\n",
       "display: block;\n",
       "}\n",
       ".err-msg {\n",
       "color: red;\n",
       "font-style: italic;\n",
       "font-family: monospace;\n",
       "white-space: pre;\n",
       "display: block;\n",
       "}\n",
       "#unshowable {\n",
       "color: red;\n",
       "font-weight: bold;\n",
       "}\n",
       ".err-msg.in.collapse {\n",
       "padding-top: 0.7em;\n",
       "}\n",
       ".highlight-code {\n",
       "white-space: pre;\n",
       "font-family: monospace;\n",
       "}\n",
       ".suggestion-warning { \n",
       "font-weight: bold;\n",
       "color: rgb(200, 130, 0);\n",
       "}\n",
       ".suggestion-error { \n",
       "font-weight: bold;\n",
       "color: red;\n",
       "}\n",
       ".suggestion-name {\n",
       "font-weight: bold;\n",
       "}\n",
       "</style><div class=\"suggestion-name\" style=\"clear:both;\">Eta reduce</div><div class=\"suggestion-row\" style=\"float: left;\"><div class=\"suggestion-warning\">Found:</div><div class=\"highlight-code\" id=\"haskell\">maxFactor n = foldr1 max factors n</div></div><div class=\"suggestion-row\" style=\"float: left;\"><div class=\"suggestion-warning\">Why Not:</div><div class=\"highlight-code\" id=\"haskell\">maxFactor = foldr1 max factors</div></div><div class=\"suggestion-name\" style=\"clear:both;\">Use maximum</div><div class=\"suggestion-row\" style=\"float: left;\"><div class=\"suggestion-warning\">Found:</div><div class=\"highlight-code\" id=\"haskell\">foldr1 max</div></div><div class=\"suggestion-row\" style=\"float: left;\"><div class=\"suggestion-warning\">Why Not:</div><div class=\"highlight-code\" id=\"haskell\">maximum</div></div>"
      ],
      "text/plain": [
       "Line 9: Eta reduce\n",
       "Found:\n",
       "maxFactor n = foldr1 max factors n\n",
       "Why not:\n",
       "maxFactor = foldr1 max factorsLine 9: Use maximum\n",
       "Found:\n",
       "foldr1 max\n",
       "Why not:\n",
       "maximum"
      ]
     },
     "metadata": {},
     "output_type": "display_data"
    },
    {
     "ename": "",
     "evalue": "",
     "output_type": "error",
     "traceback": [
      "<interactive>:1:19: error:\n    • Variable not in scope: primes :: [a]\n    • Perhaps you meant one of these: ‘Ghci417.prime’ (imported from Ghci417), ‘prime’ (line 2), ‘IHaskellTH.prim’ (imported from Language.Haskell.TH)\n<interactive>:8:26: error:\n    • Couldn't match type ‘[a0]’ with ‘t -> t1’\n      Expected type: a0 -> t -> t1\n        Actual type: a0 -> [a0]\n    • In the second argument of ‘foldr1’, namely ‘factors’\n      In the expression: foldr1 max factors n\n      In an equation for ‘maxFactor’: maxFactor n = foldr1 max factors n\n    • Relevant bindings include\n        n :: t (bound at <interactive>:8:11)\n        maxFactor :: t -> t1 (bound at <interactive>:8:1)"
     ]
    }
   ],
   "source": [
    "factors n = aux n primes\n",
    "  where aux 1 _      = []\n",
    "        aux n (p: ps) \n",
    "            | p> n      = []\n",
    "            | otherwise = case divMod n p of\n",
    "                                (n',0) -> p : aux n' (p:ps)\n",
    "                                (_, _) -> aux n ps\n",
    "                             \n",
    "maxFactor n = foldr1 max factors n\n",
    "\n",
    "euler3 = maxFactor 600851475143"
   ]
  },
  {
   "cell_type": "code",
   "execution_count": null,
   "id": "3bfe365b",
   "metadata": {},
   "outputs": [],
   "source": []
  }
 ],
 "metadata": {
  "kernelspec": {
   "display_name": "Haskell",
   "language": "haskell",
   "name": "haskell"
  },
  "language_info": {
   "codemirror_mode": "Haskell",
   "file_extension": ".hs",
   "mimetype": "text/x-haskell",
   "name": "haskell",
   "pygments_lexer": "Haskell",
   "version": "8.10.4"
  },
  "latex_envs": {
   "LaTeX_envs_menu_present": true,
   "autoclose": true,
   "autocomplete": true,
   "bibliofile": "biblio.bib",
   "cite_by": "apalike",
   "current_citInitial": 1,
   "eqLabelWithNumbers": true,
   "eqNumInitial": 1,
   "hotkeys": {
    "equation": "Ctrl-E",
    "itemize": "Ctrl-I"
   },
   "labels_anchors": false,
   "latex_user_defs": false,
   "report_style_numbering": false,
   "user_envs_cfg": false
  }
 },
 "nbformat": 4,
 "nbformat_minor": 5
}
