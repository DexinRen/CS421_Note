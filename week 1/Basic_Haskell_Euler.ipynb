{
 "cells": [
  {
   "cell_type": "markdown",
   "id": "3c0a63b3",
   "metadata": {},
   "source": [
    "**Define function:**"
   ]
  },
  {
   "cell_type": "code",
   "execution_count": 4,
   "id": "31eb06f1",
   "metadata": {},
   "outputs": [],
   "source": [
    "-- Set Function: inc: R->R\n",
    "inc :: Integer -> Integer\n",
    "inc x = x + 1"
   ]
  },
  {
   "cell_type": "code",
   "execution_count": 5,
   "id": "0b36fd4d",
   "metadata": {},
   "outputs": [
    {
     "data": {
      "text/plain": [
       "2"
      ]
     },
     "metadata": {},
     "output_type": "display_data"
    }
   ],
   "source": [
    "inc 1"
   ]
  },
  {
   "cell_type": "code",
   "execution_count": 6,
   "id": "aaa381e8",
   "metadata": {},
   "outputs": [],
   "source": [
    "-- mod3or5: if input is divisible by 3 or 5, return True\n",
    "\n",
    "mod3or5 :: Integral a => a -> Bool\n",
    "mod3or5 x = x `mod` 3 == 0 || x `mod` 5 == 0 \n",
    "\n",
    "-- we can use: `map function [list]` to run the func with list of input\n",
    "-- eg. `map mod3or5 [1,2,3,4,5,6]` => [False,False,True,False,True,True]"
   ]
  },
  {
   "cell_type": "code",
   "execution_count": 7,
   "id": "a1debbbb",
   "metadata": {
    "scrolled": true
   },
   "outputs": [
    {
     "data": {
      "text/plain": [
       "True"
      ]
     },
     "metadata": {},
     "output_type": "display_data"
    },
    {
     "data": {
      "text/plain": [
       "True"
      ]
     },
     "metadata": {},
     "output_type": "display_data"
    },
    {
     "data": {
      "text/plain": [
       "True"
      ]
     },
     "metadata": {},
     "output_type": "display_data"
    }
   ],
   "source": [
    "-- three same functions\n",
    "mod3or5 5\n",
    "\n",
    "mod 5 5 == 0 || mod 3 5 == 0\n",
    "\n",
    "5 `mod` 5 == 0 || 3 `mod` 5 == 0"
   ]
  },
  {
   "cell_type": "markdown",
   "id": "9f18fd09",
   "metadata": {},
   "source": [
    "**Console Operations:**\n",
    "- Reload Modal: `:r` or `:reload`\n",
    "\n",
    "- Check Type: `:t function` or `:t value`\n",
    "\n",
    "**Grammar Notepoints:**\n",
    "\n",
    "- `=>`: Such that. \n",
    "> eg. `Integral a => a -> bool`: set a as integral, such that function mod3or5(a) return bool\n",
    "\n",
    "- `Integral`: A data type, Int, Int64, Integer are the subsets of Integral type\n",
    "\n",
    "- `[a]`：list of data with type(`a`) entries.\n",
    "\n",
    "- `filter func [a]`: return all values that were True in func [a]"
   ]
  },
  {
   "cell_type": "code",
   "execution_count": 8,
   "id": "8acbe5b8",
   "metadata": {},
   "outputs": [
    {
     "data": {
      "text/plain": [
       "[False,False,True,False,True,True]"
      ]
     },
     "metadata": {},
     "output_type": "display_data"
    },
    {
     "data": {
      "text/plain": [
       "[3,5,6]"
      ]
     },
     "metadata": {},
     "output_type": "display_data"
    }
   ],
   "source": [
    "map mod3or5 [1,2,3,4,5,6]\n",
    "filter mod3or5 [1,2,3,4,5,6]"
   ]
  },
  {
   "cell_type": "code",
   "execution_count": 9,
   "id": "7cac48ce",
   "metadata": {},
   "outputs": [],
   "source": [
    "-- sum the value in list that were divisible by 3 or 5\n",
    "\n",
    "sumMods :: Integral a => [a] -> a\n",
    "sumMods x = sum (filter mod3or5 x)"
   ]
  },
  {
   "cell_type": "code",
   "execution_count": 10,
   "id": "84418a43",
   "metadata": {},
   "outputs": [],
   "source": [
    "-- euler number:\n",
    "-- use the function we defined to find euler number\n",
    "euler1_1 = sumMods [1..999]"
   ]
  },
  {
   "cell_type": "markdown",
   "id": "ba5c3f2f",
   "metadata": {},
   "source": [
    "We can also use `where` to define **local function** under one nction definition\n",
    "\n",
    "**The local function:**\n",
    "- Cannot have same-name as function outside (o.w. the parent function cannot run)\n",
    "- Cannot be called by the outside the parent function (parent function callable only) "
   ]
  },
  {
   "cell_type": "code",
   "execution_count": 11,
   "id": "aa578dc3",
   "metadata": {},
   "outputs": [],
   "source": [
    "euler1_2 = sumMods_1 [1..999]\n",
    "  where mod3or5_1 x = x `mod` 3 == 0 || x `mod` 5 == 0\n",
    "        sumMods_1 x = sum (filter mod3or5_1 x)"
   ]
  },
  {
   "cell_type": "code",
   "execution_count": 12,
   "id": "a9cfea16",
   "metadata": {},
   "outputs": [
    {
     "data": {
      "text/plain": [
       "233168"
      ]
     },
     "metadata": {},
     "output_type": "display_data"
    },
    {
     "data": {
      "text/plain": [
       "233168"
      ]
     },
     "metadata": {},
     "output_type": "display_data"
    },
    {
     "ename": "",
     "evalue": "",
     "output_type": "error",
     "traceback": [
      "<interactive>:1:1: error:\n    • Variable not in scope: mod3or5_1 :: t0 -> t\n    • Perhaps you meant ‘mod3or5’ (line 2)"
     ]
    }
   ],
   "source": [
    "euler1_1\n",
    "euler1_2\n",
    "\n",
    "mod3or5_1 2 \n",
    "-- we cannot call local function outside"
   ]
  },
  {
   "cell_type": "code",
   "execution_count": 13,
   "id": "dda2dca3",
   "metadata": {},
   "outputs": [],
   "source": [
    "-- Sectioning\n",
    "-- `:t plus` = \"plus :: Num a => a -> a -> a\"\n",
    "plus :: Num a => a -> a -> a\n",
    "plus a b = a + b"
   ]
  },
  {
   "cell_type": "code",
   "execution_count": 14,
   "id": "4c82cf49",
   "metadata": {},
   "outputs": [
    {
     "data": {
      "text/html": [
       "<style>/* Styles used for the Hoogle display in the pager */\n",
       ".hoogle-doc {\n",
       "display: block;\n",
       "padding-bottom: 1.3em;\n",
       "padding-left: 0.4em;\n",
       "}\n",
       ".hoogle-code {\n",
       "display: block;\n",
       "font-family: monospace;\n",
       "white-space: pre;\n",
       "}\n",
       ".hoogle-text {\n",
       "display: block;\n",
       "}\n",
       ".hoogle-name {\n",
       "color: green;\n",
       "font-weight: bold;\n",
       "}\n",
       ".hoogle-head {\n",
       "font-weight: bold;\n",
       "}\n",
       ".hoogle-sub {\n",
       "display: block;\n",
       "margin-left: 0.4em;\n",
       "}\n",
       ".hoogle-package {\n",
       "font-weight: bold;\n",
       "font-style: italic;\n",
       "}\n",
       ".hoogle-module {\n",
       "font-weight: bold;\n",
       "}\n",
       ".hoogle-class {\n",
       "font-weight: bold;\n",
       "}\n",
       ".get-type {\n",
       "color: green;\n",
       "font-weight: bold;\n",
       "font-family: monospace;\n",
       "display: block;\n",
       "white-space: pre-wrap;\n",
       "}\n",
       ".show-type {\n",
       "color: green;\n",
       "font-weight: bold;\n",
       "font-family: monospace;\n",
       "margin-left: 1em;\n",
       "}\n",
       ".mono {\n",
       "font-family: monospace;\n",
       "display: block;\n",
       "}\n",
       ".err-msg {\n",
       "color: red;\n",
       "font-style: italic;\n",
       "font-family: monospace;\n",
       "white-space: pre;\n",
       "display: block;\n",
       "}\n",
       "#unshowable {\n",
       "color: red;\n",
       "font-weight: bold;\n",
       "}\n",
       ".err-msg.in.collapse {\n",
       "padding-top: 0.7em;\n",
       "}\n",
       ".highlight-code {\n",
       "white-space: pre;\n",
       "font-family: monospace;\n",
       "}\n",
       ".suggestion-warning { \n",
       "font-weight: bold;\n",
       "color: rgb(200, 130, 0);\n",
       "}\n",
       ".suggestion-error { \n",
       "font-weight: bold;\n",
       "color: red;\n",
       "}\n",
       ".suggestion-name {\n",
       "font-weight: bold;\n",
       "}\n",
       "</style><span class='get-type'>plus :: forall a. Num a => a -> a -> a</span>"
      ],
      "text/plain": [
       "plus :: forall a. Num a => a -> a -> a"
      ]
     },
     "metadata": {},
     "output_type": "display_data"
    },
    {
     "data": {
      "text/html": [
       "<style>/* Styles used for the Hoogle display in the pager */\n",
       ".hoogle-doc {\n",
       "display: block;\n",
       "padding-bottom: 1.3em;\n",
       "padding-left: 0.4em;\n",
       "}\n",
       ".hoogle-code {\n",
       "display: block;\n",
       "font-family: monospace;\n",
       "white-space: pre;\n",
       "}\n",
       ".hoogle-text {\n",
       "display: block;\n",
       "}\n",
       ".hoogle-name {\n",
       "color: green;\n",
       "font-weight: bold;\n",
       "}\n",
       ".hoogle-head {\n",
       "font-weight: bold;\n",
       "}\n",
       ".hoogle-sub {\n",
       "display: block;\n",
       "margin-left: 0.4em;\n",
       "}\n",
       ".hoogle-package {\n",
       "font-weight: bold;\n",
       "font-style: italic;\n",
       "}\n",
       ".hoogle-module {\n",
       "font-weight: bold;\n",
       "}\n",
       ".hoogle-class {\n",
       "font-weight: bold;\n",
       "}\n",
       ".get-type {\n",
       "color: green;\n",
       "font-weight: bold;\n",
       "font-family: monospace;\n",
       "display: block;\n",
       "white-space: pre-wrap;\n",
       "}\n",
       ".show-type {\n",
       "color: green;\n",
       "font-weight: bold;\n",
       "font-family: monospace;\n",
       "margin-left: 1em;\n",
       "}\n",
       ".mono {\n",
       "font-family: monospace;\n",
       "display: block;\n",
       "}\n",
       ".err-msg {\n",
       "color: red;\n",
       "font-style: italic;\n",
       "font-family: monospace;\n",
       "white-space: pre;\n",
       "display: block;\n",
       "}\n",
       "#unshowable {\n",
       "color: red;\n",
       "font-weight: bold;\n",
       "}\n",
       ".err-msg.in.collapse {\n",
       "padding-top: 0.7em;\n",
       "}\n",
       ".highlight-code {\n",
       "white-space: pre;\n",
       "font-family: monospace;\n",
       "}\n",
       ".suggestion-warning { \n",
       "font-weight: bold;\n",
       "color: rgb(200, 130, 0);\n",
       "}\n",
       ".suggestion-error { \n",
       "font-weight: bold;\n",
       "color: red;\n",
       "}\n",
       ".suggestion-name {\n",
       "font-weight: bold;\n",
       "}\n",
       "</style><span class='get-type'>plus 1 :: forall a. Num a => a -> a</span>"
      ],
      "text/plain": [
       "plus 1 :: forall a. Num a => a -> a"
      ]
     },
     "metadata": {},
     "output_type": "display_data"
    }
   ],
   "source": [
    ":t plus\n",
    "-- show the type of plus function\n",
    "-- even plus requires 2 arguments, we can only gives plus the fisrt argument\n",
    "-- and the type becomes:\n",
    ":t plus 1\n",
    "-- plus 1 is a curried function (function that not given all arguments) for plus"
   ]
  },
  {
   "cell_type": "markdown",
   "id": "95a8cda1",
   "metadata": {},
   "source": [
    "Thus the first two `a` in: \n",
    "> plus :: forall a. Num a => a -> a -> a \n",
    "\n",
    "means the data-type of two function arguments, and the last one represent the type of the return value"
   ]
  },
  {
   "cell_type": "code",
   "execution_count": 15,
   "id": "6be1da93",
   "metadata": {},
   "outputs": [],
   "source": [
    "-- we can use curried function to do list operation\n",
    "-- notDivides can check if `n` not divisible by `a`\n",
    "\n",
    "notDivides a n = n `mod` a /= 0"
   ]
  },
  {
   "cell_type": "markdown",
   "id": "e9ec40c8",
   "metadata": {},
   "source": [
    "We can use `filter (notDivides 3) [list]` to find all vals in the list that is not divisible by 3"
   ]
  },
  {
   "cell_type": "code",
   "execution_count": 16,
   "id": "c8e0e5a9",
   "metadata": {},
   "outputs": [
    {
     "data": {
      "text/plain": [
       "[1,2,4,5,7,8,10]"
      ]
     },
     "metadata": {},
     "output_type": "display_data"
    }
   ],
   "source": [
    "filter (notDivides 3) [1..10]"
   ]
  },
  {
   "cell_type": "markdown",
   "id": "288b0714",
   "metadata": {},
   "source": [
    "Building up list: `:` operator:\n",
    "- type: `: forall a. (Num a, Num [a]) => [[a]]`\n",
    "- definition: add a to [a]\n",
    "- `a` will be the first element of the list (head), `b` should be a list"
   ]
  },
  {
   "cell_type": "code",
   "execution_count": 17,
   "id": "33e11813",
   "metadata": {},
   "outputs": [
    {
     "data": {
      "text/plain": [
       "[2,3,4,5]"
      ]
     },
     "metadata": {},
     "output_type": "display_data"
    }
   ],
   "source": [
    "2:[3,4,5]"
   ]
  },
  {
   "cell_type": "code",
   "execution_count": 33,
   "id": "e9312083",
   "metadata": {},
   "outputs": [],
   "source": [
    "-- Sectioning\n",
    "sieve (x:xs) = x : sieve (filter (notDivides x) xs)\n",
    "primes = sieve [2..]"
   ]
  },
  {
   "cell_type": "markdown",
   "id": "da1e497a",
   "metadata": {},
   "source": [
    "Haskell will not evaluate prime if we did not asked.\n",
    "We can use `take n prime` to pick the first n values in prime. "
   ]
  },
  {
   "cell_type": "code",
   "execution_count": 34,
   "id": "97206045",
   "metadata": {},
   "outputs": [
    {
     "data": {
      "text/plain": [
       "[2,3,5,7,11,13,17,19,23,29,31,37,41,43,47,53,59,61,67,71]"
      ]
     },
     "metadata": {},
     "output_type": "display_data"
    }
   ],
   "source": [
    "take 20 primes"
   ]
  },
  {
   "cell_type": "markdown",
   "id": "ace57192",
   "metadata": {},
   "source": [
    "**Factors**"
   ]
  },
  {
   "cell_type": "markdown",
   "id": "2434765e",
   "metadata": {},
   "source": [
    "First we want to show how `foldr1` works\n",
    "it will apply given operator to the value in the list from right to left\n",
    "(`foldl1` will do the reverse direction)\n",
    "\n",
    "eg. \n",
    "$$\n",
    "\\begin{array}{ll}\n",
    "foldr1\\ (+)\\ [1,2,3,4,5] & = foldr1 (+) [1,2,3,4]+5\\\\\n",
    "   &= foldr1 (+) [1,2,3]+4+5\\\\\n",
    "   &= foldr1\\ (+)\\ [1,2]+3+9 \\\\\n",
    "   &= foldr1\\ (+)\\ [1]+2+12 \\\\\n",
    "   &= foldr1\\ (+)\\ []+1+ 14 \\\\\n",
    "   &= 15\n",
    "\\end{array}\n",
    "$$  \n",
    "\n",
    "$$\n",
    "\\begin{array}{ll}\n",
    "foldr1\\ (/)\\ [128,64,32,16,8] & = 128/\\ (64/\\ (32/\\ (16/\\ 8)))\\\\\n",
    "& = (foldr1\\ (/)\\ [128,64,32]) /\\ (16/\\ (8\\ /1))\\\\\n",
    "& = (foldr1\\ (/)\\ [128,64]) /\\ (32 / (16/\\ (8\\ /1)))\\\\\n",
    "& = (foldr1\\ (/)\\ [128]) /\\ (64/\\ (32 / (16/\\ (8\\ /1)))))\\\\\n",
    "& = 128 /\\ (64/\\ (32 / (16/\\ (8\\ /1)))))\\\\\n",
    "& = 32\n",
    "\\end{array}\n",
    "$$\n",
    "   "
   ]
  },
  {
   "cell_type": "code",
   "execution_count": 49,
   "id": "885a9a7a",
   "metadata": {},
   "outputs": [
    {
     "data": {
      "text/html": [
       "<style>/* Styles used for the Hoogle display in the pager */\n",
       ".hoogle-doc {\n",
       "display: block;\n",
       "padding-bottom: 1.3em;\n",
       "padding-left: 0.4em;\n",
       "}\n",
       ".hoogle-code {\n",
       "display: block;\n",
       "font-family: monospace;\n",
       "white-space: pre;\n",
       "}\n",
       ".hoogle-text {\n",
       "display: block;\n",
       "}\n",
       ".hoogle-name {\n",
       "color: green;\n",
       "font-weight: bold;\n",
       "}\n",
       ".hoogle-head {\n",
       "font-weight: bold;\n",
       "}\n",
       ".hoogle-sub {\n",
       "display: block;\n",
       "margin-left: 0.4em;\n",
       "}\n",
       ".hoogle-package {\n",
       "font-weight: bold;\n",
       "font-style: italic;\n",
       "}\n",
       ".hoogle-module {\n",
       "font-weight: bold;\n",
       "}\n",
       ".hoogle-class {\n",
       "font-weight: bold;\n",
       "}\n",
       ".get-type {\n",
       "color: green;\n",
       "font-weight: bold;\n",
       "font-family: monospace;\n",
       "display: block;\n",
       "white-space: pre-wrap;\n",
       "}\n",
       ".show-type {\n",
       "color: green;\n",
       "font-weight: bold;\n",
       "font-family: monospace;\n",
       "margin-left: 1em;\n",
       "}\n",
       ".mono {\n",
       "font-family: monospace;\n",
       "display: block;\n",
       "}\n",
       ".err-msg {\n",
       "color: red;\n",
       "font-style: italic;\n",
       "font-family: monospace;\n",
       "white-space: pre;\n",
       "display: block;\n",
       "}\n",
       "#unshowable {\n",
       "color: red;\n",
       "font-weight: bold;\n",
       "}\n",
       ".err-msg.in.collapse {\n",
       "padding-top: 0.7em;\n",
       "}\n",
       ".highlight-code {\n",
       "white-space: pre;\n",
       "font-family: monospace;\n",
       "}\n",
       ".suggestion-warning { \n",
       "font-weight: bold;\n",
       "color: rgb(200, 130, 0);\n",
       "}\n",
       ".suggestion-error { \n",
       "font-weight: bold;\n",
       "color: red;\n",
       "}\n",
       ".suggestion-name {\n",
       "font-weight: bold;\n",
       "}\n",
       "</style><div class=\"suggestion-name\" style=\"clear:both;\">Use sum</div><div class=\"suggestion-row\" style=\"float: left;\"><div class=\"suggestion-warning\">Found:</div><div class=\"highlight-code\" id=\"haskell\">foldr1 (+)</div></div><div class=\"suggestion-row\" style=\"float: left;\"><div class=\"suggestion-warning\">Why Not:</div><div class=\"highlight-code\" id=\"haskell\">sum</div></div>"
      ],
      "text/plain": [
       "Line 1: Use sum\n",
       "Found:\n",
       "foldr1 (+)\n",
       "Why not:\n",
       "sum"
      ]
     },
     "metadata": {},
     "output_type": "display_data"
    },
    {
     "data": {
      "text/plain": [
       "15"
      ]
     },
     "metadata": {},
     "output_type": "display_data"
    },
    {
     "data": {
      "text/plain": [
       "32.0"
      ]
     },
     "metadata": {},
     "output_type": "display_data"
    }
   ],
   "source": [
    "foldr1 (+) [1,2,3,4,5]\n",
    "foldr1 (/) [128,64,32,16,8]"
   ]
  },
  {
   "cell_type": "code",
   "execution_count": 38,
   "id": "bf059206",
   "metadata": {},
   "outputs": [
    {
     "data": {
      "text/html": [
       "<style>/* Styles used for the Hoogle display in the pager */\n",
       ".hoogle-doc {\n",
       "display: block;\n",
       "padding-bottom: 1.3em;\n",
       "padding-left: 0.4em;\n",
       "}\n",
       ".hoogle-code {\n",
       "display: block;\n",
       "font-family: monospace;\n",
       "white-space: pre;\n",
       "}\n",
       ".hoogle-text {\n",
       "display: block;\n",
       "}\n",
       ".hoogle-name {\n",
       "color: green;\n",
       "font-weight: bold;\n",
       "}\n",
       ".hoogle-head {\n",
       "font-weight: bold;\n",
       "}\n",
       ".hoogle-sub {\n",
       "display: block;\n",
       "margin-left: 0.4em;\n",
       "}\n",
       ".hoogle-package {\n",
       "font-weight: bold;\n",
       "font-style: italic;\n",
       "}\n",
       ".hoogle-module {\n",
       "font-weight: bold;\n",
       "}\n",
       ".hoogle-class {\n",
       "font-weight: bold;\n",
       "}\n",
       ".get-type {\n",
       "color: green;\n",
       "font-weight: bold;\n",
       "font-family: monospace;\n",
       "display: block;\n",
       "white-space: pre-wrap;\n",
       "}\n",
       ".show-type {\n",
       "color: green;\n",
       "font-weight: bold;\n",
       "font-family: monospace;\n",
       "margin-left: 1em;\n",
       "}\n",
       ".mono {\n",
       "font-family: monospace;\n",
       "display: block;\n",
       "}\n",
       ".err-msg {\n",
       "color: red;\n",
       "font-style: italic;\n",
       "font-family: monospace;\n",
       "white-space: pre;\n",
       "display: block;\n",
       "}\n",
       "#unshowable {\n",
       "color: red;\n",
       "font-weight: bold;\n",
       "}\n",
       ".err-msg.in.collapse {\n",
       "padding-top: 0.7em;\n",
       "}\n",
       ".highlight-code {\n",
       "white-space: pre;\n",
       "font-family: monospace;\n",
       "}\n",
       ".suggestion-warning { \n",
       "font-weight: bold;\n",
       "color: rgb(200, 130, 0);\n",
       "}\n",
       ".suggestion-error { \n",
       "font-weight: bold;\n",
       "color: red;\n",
       "}\n",
       ".suggestion-name {\n",
       "font-weight: bold;\n",
       "}\n",
       "</style><div class=\"suggestion-name\" style=\"clear:both;\">Use maximum</div><div class=\"suggestion-row\" style=\"float: left;\"><div class=\"suggestion-warning\">Found:</div><div class=\"highlight-code\" id=\"haskell\">foldr1 max</div></div><div class=\"suggestion-row\" style=\"float: left;\"><div class=\"suggestion-warning\">Why Not:</div><div class=\"highlight-code\" id=\"haskell\">maximum</div></div>"
      ],
      "text/plain": [
       "Line 9: Use maximum\n",
       "Found:\n",
       "foldr1 max\n",
       "Why not:\n",
       "maximum"
      ]
     },
     "metadata": {},
     "output_type": "display_data"
    }
   ],
   "source": [
    "factors n = aux n primes\n",
    "  where aux 1 _      = []\n",
    "        aux n (p: ps) \n",
    "            | p> n      = []\n",
    "            | otherwise = case divMod n p of\n",
    "                                (n',0) -> p : aux n' (p:ps)\n",
    "                                (_, _) -> aux n ps\n",
    "                             \n",
    "maxFactor n = foldr1 max $ factors n\n",
    "\n",
    "euler3 = maxFactor 600851475143"
   ]
  },
  {
   "cell_type": "markdown",
   "id": "62fede77",
   "metadata": {},
   "source": [
    "**Divide and Conquer**:\n",
    "\n",
    "we can now use `div` as `a//b` operation in python (divide a by b and get whole number). so floor(a/b) = div a b = a `div` b"
   ]
  },
  {
   "cell_type": "code",
   "execution_count": 51,
   "id": "ecaf06e5",
   "metadata": {},
   "outputs": [],
   "source": [
    "fact 0 = 1\n",
    "fact n = n * fact (n-1)"
   ]
  },
  {
   "cell_type": "code",
   "execution_count": 53,
   "id": "020b2413",
   "metadata": {},
   "outputs": [
    {
     "data": {
      "text/plain": [
       "93326215443944152681699238856266700490715968264381621468592963895217599993229915608941463976156518286253697920827223758251185210916864000000000000000000000000"
      ]
     },
     "metadata": {},
     "output_type": "display_data"
    }
   ],
   "source": [
    "fact 100"
   ]
  },
  {
   "cell_type": "code",
   "execution_count": null,
   "id": "b3f61d8a",
   "metadata": {},
   "outputs": [],
   "source": [
    "sumDigits 0 = 0\n",
    "sumDigits n = n `mod` 10 + sumDigits (n `div` 10)\n",
    "\n",
    "euler20 = sumDigits $ fact 100"
   ]
  },
  {
   "cell_type": "code",
   "execution_count": 52,
   "id": "cb71ce72",
   "metadata": {},
   "outputs": [
    {
     "data": {
      "text/plain": [
       "648"
      ]
     },
     "metadata": {},
     "output_type": "display_data"
    }
   ],
   "source": [
    "euler20"
   ]
  },
  {
   "cell_type": "code",
   "execution_count": null,
   "id": "d1146e28",
   "metadata": {},
   "outputs": [],
   "source": []
  }
 ],
 "metadata": {
  "kernelspec": {
   "display_name": "Haskell",
   "language": "haskell",
   "name": "haskell"
  },
  "language_info": {
   "codemirror_mode": "Haskell",
   "file_extension": ".hs",
   "mimetype": "text/x-haskell",
   "name": "haskell",
   "pygments_lexer": "Haskell",
   "version": "8.10.4"
  },
  "latex_envs": {
   "LaTeX_envs_menu_present": true,
   "autoclose": true,
   "autocomplete": true,
   "bibliofile": "biblio.bib",
   "cite_by": "apalike",
   "current_citInitial": 1,
   "eqLabelWithNumbers": true,
   "eqNumInitial": 1,
   "hotkeys": {
    "equation": "Ctrl-E",
    "itemize": "Ctrl-I"
   },
   "labels_anchors": false,
   "latex_user_defs": false,
   "report_style_numbering": false,
   "user_envs_cfg": false
  }
 },
 "nbformat": 4,
 "nbformat_minor": 5
}
