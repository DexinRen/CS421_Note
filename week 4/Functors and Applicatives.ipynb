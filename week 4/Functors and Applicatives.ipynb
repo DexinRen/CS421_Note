{
 "cells": [
  {
   "cell_type": "markdown",
   "id": "8c21071a",
   "metadata": {},
   "source": [
    "### The Functor Typeclass\n",
    "\n",
    "`class Functor f where \n",
    "    fmap :: (a -> b) -> f a -> f b`\n",
    "    \n",
    "ps. running these code will make the code in the very end failed"
   ]
  },
  {
   "cell_type": "markdown",
   "id": "11121cc3",
   "metadata": {},
   "source": [
    "- we can use the Functor to define a map for many different types\n",
    "- the f type you pass in must be a parameterized type"
   ]
  },
  {
   "cell_type": "markdown",
   "id": "f9c0ece6",
   "metadata": {},
   "source": [
    "`instance Functor Maybe where\n",
    "    fmap f (Just x) = Just (f x)\n",
    "    fmap _ Nothing = Nothing`\n",
    "\n",
    "`instance Functor [] where\n",
    "    fmap f [] = []\n",
    "    fmap f (x:xs) = f x : fmap f xs`"
   ]
  },
  {
   "cell_type": "markdown",
   "id": "71ef9362",
   "metadata": {},
   "source": [
    "### Why Functor is useful?\n",
    "- if you define a type as Functor, then other people can use fmap on it\n",
    "- You can also write functions that use fmap that can accept any Functor type\n",
    "\n",
    "### Using Functor:\n",
    "\n",
    "`\n",
    "let incAnything x = fmap (+1) x\n",
    "incAnything [10,20]\n",
    "incAnything (Just 30)`"
   ]
  },
  {
   "cell_type": "markdown",
   "id": "7d957e61",
   "metadata": {},
   "source": [
    "### Applicative Functors\n",
    "\n",
    "`class (Functor f) => Applicative f where\n",
    "    pure a :: a -> f a\n",
    "    f (a -> b) <*> f a :: f b`\n",
    "\n",
    "the <*> operator lifts the function applications\n",
    "\n",
    "Examples:"
   ]
  },
  {
   "cell_type": "code",
   "execution_count": 2,
   "id": "21727288",
   "metadata": {},
   "outputs": [
    {
     "data": {
      "text/html": [
       "<style>/* Styles used for the Hoogle display in the pager */\n",
       ".hoogle-doc {\n",
       "display: block;\n",
       "padding-bottom: 1.3em;\n",
       "padding-left: 0.4em;\n",
       "}\n",
       ".hoogle-code {\n",
       "display: block;\n",
       "font-family: monospace;\n",
       "white-space: pre;\n",
       "}\n",
       ".hoogle-text {\n",
       "display: block;\n",
       "}\n",
       ".hoogle-name {\n",
       "color: green;\n",
       "font-weight: bold;\n",
       "}\n",
       ".hoogle-head {\n",
       "font-weight: bold;\n",
       "}\n",
       ".hoogle-sub {\n",
       "display: block;\n",
       "margin-left: 0.4em;\n",
       "}\n",
       ".hoogle-package {\n",
       "font-weight: bold;\n",
       "font-style: italic;\n",
       "}\n",
       ".hoogle-module {\n",
       "font-weight: bold;\n",
       "}\n",
       ".hoogle-class {\n",
       "font-weight: bold;\n",
       "}\n",
       ".get-type {\n",
       "color: green;\n",
       "font-weight: bold;\n",
       "font-family: monospace;\n",
       "display: block;\n",
       "white-space: pre-wrap;\n",
       "}\n",
       ".show-type {\n",
       "color: green;\n",
       "font-weight: bold;\n",
       "font-family: monospace;\n",
       "margin-left: 1em;\n",
       "}\n",
       ".mono {\n",
       "font-family: monospace;\n",
       "display: block;\n",
       "}\n",
       ".err-msg {\n",
       "color: red;\n",
       "font-style: italic;\n",
       "font-family: monospace;\n",
       "white-space: pre;\n",
       "display: block;\n",
       "}\n",
       "#unshowable {\n",
       "color: red;\n",
       "font-weight: bold;\n",
       "}\n",
       ".err-msg.in.collapse {\n",
       "padding-top: 0.7em;\n",
       "}\n",
       ".highlight-code {\n",
       "white-space: pre;\n",
       "font-family: monospace;\n",
       "}\n",
       ".suggestion-warning { \n",
       "font-weight: bold;\n",
       "color: rgb(200, 130, 0);\n",
       "}\n",
       ".suggestion-error { \n",
       "font-weight: bold;\n",
       "color: red;\n",
       "}\n",
       ".suggestion-name {\n",
       "font-weight: bold;\n",
       "}\n",
       "</style><div class=\"suggestion-name\" style=\"clear:both;\">Use newtype instead of data</div><div class=\"suggestion-row\" style=\"float: left;\"><div class=\"suggestion-warning\">Found:</div><div class=\"highlight-code\" id=\"haskell\">data Foo a = Foo a</div></div><div class=\"suggestion-row\" style=\"float: left;\"><div class=\"suggestion-warning\">Why Not:</div><div class=\"highlight-code\" id=\"haskell\">newtype Foo a = Foo a</div></div>"
      ],
      "text/plain": [
       "Line 3: Use newtype instead of data\n",
       "Found:\n",
       "data Foo a = Foo a\n",
       "Why not:\n",
       "newtype Foo a = Foo a"
      ]
     },
     "metadata": {},
     "output_type": "display_data"
    }
   ],
   "source": [
    "import Control.Applicative\n",
    "\n",
    "data Foo a = Foo a\n",
    "\n",
    "instance Show a => Show (Foo a) where\n",
    "    show (Foo a) = \"Foo \" ++ show a\n",
    "\n",
    "instance Functor Foo where\n",
    "    fmap f (Foo a) = Foo $ f a\n",
    "\n",
    "instance Applicative Foo where\n",
    "    pure a = Foo a\n",
    "    (Foo f) <*> (Foo x) = Foo $ f x"
   ]
  },
  {
   "cell_type": "code",
   "execution_count": 8,
   "id": "c9818d1c",
   "metadata": {},
   "outputs": [
    {
     "data": {
      "text/plain": [
       "Foo 31"
      ]
     },
     "metadata": {},
     "output_type": "display_data"
    },
    {
     "data": {
      "text/plain": [
       "Foo 31"
      ]
     },
     "metadata": {},
     "output_type": "display_data"
    },
    {
     "data": {
      "text/plain": [
       "Foo 21"
      ]
     },
     "metadata": {},
     "output_type": "display_data"
    },
    {
     "data": {
      "text/html": [
       "<style>/* Styles used for the Hoogle display in the pager */\n",
       ".hoogle-doc {\n",
       "display: block;\n",
       "padding-bottom: 1.3em;\n",
       "padding-left: 0.4em;\n",
       "}\n",
       ".hoogle-code {\n",
       "display: block;\n",
       "font-family: monospace;\n",
       "white-space: pre;\n",
       "}\n",
       ".hoogle-text {\n",
       "display: block;\n",
       "}\n",
       ".hoogle-name {\n",
       "color: green;\n",
       "font-weight: bold;\n",
       "}\n",
       ".hoogle-head {\n",
       "font-weight: bold;\n",
       "}\n",
       ".hoogle-sub {\n",
       "display: block;\n",
       "margin-left: 0.4em;\n",
       "}\n",
       ".hoogle-package {\n",
       "font-weight: bold;\n",
       "font-style: italic;\n",
       "}\n",
       ".hoogle-module {\n",
       "font-weight: bold;\n",
       "}\n",
       ".hoogle-class {\n",
       "font-weight: bold;\n",
       "}\n",
       ".get-type {\n",
       "color: green;\n",
       "font-weight: bold;\n",
       "font-family: monospace;\n",
       "display: block;\n",
       "white-space: pre-wrap;\n",
       "}\n",
       ".show-type {\n",
       "color: green;\n",
       "font-weight: bold;\n",
       "font-family: monospace;\n",
       "margin-left: 1em;\n",
       "}\n",
       ".mono {\n",
       "font-family: monospace;\n",
       "display: block;\n",
       "}\n",
       ".err-msg {\n",
       "color: red;\n",
       "font-style: italic;\n",
       "font-family: monospace;\n",
       "white-space: pre;\n",
       "display: block;\n",
       "}\n",
       "#unshowable {\n",
       "color: red;\n",
       "font-weight: bold;\n",
       "}\n",
       ".err-msg.in.collapse {\n",
       "padding-top: 0.7em;\n",
       "}\n",
       ".highlight-code {\n",
       "white-space: pre;\n",
       "font-family: monospace;\n",
       "}\n",
       ".suggestion-warning { \n",
       "font-weight: bold;\n",
       "color: rgb(200, 130, 0);\n",
       "}\n",
       ".suggestion-error { \n",
       "font-weight: bold;\n",
       "color: red;\n",
       "}\n",
       ".suggestion-name {\n",
       "font-weight: bold;\n",
       "}\n",
       "</style><span class='get-type'>plus <$> (Foo 20) :: forall a. Num a => Foo (a -> a)</span>"
      ],
      "text/plain": [
       "plus <$> (Foo 20) :: forall a. Num a => Foo (a -> a)"
      ]
     },
     "metadata": {},
     "output_type": "display_data"
    },
    {
     "data": {
      "text/plain": [
       "Foo 50"
      ]
     },
     "metadata": {},
     "output_type": "display_data"
    }
   ],
   "source": [
    "let inc = (+1)\n",
    "fmap inc (Foo 30)\n",
    "inc <$> (Foo 30) -- synonym for fmap\n",
    "Foo inc <*> Foo 20\n",
    "let plus a b = a + b\n",
    ":t plus <$> (Foo 20)\n",
    "plus <$> (Foo 20) <*> (Foo 30)"
   ]
  },
  {
   "cell_type": "markdown",
   "id": "415f28db",
   "metadata": {},
   "source": [
    "#### Note about `plus <$> (Foo 20) <*> (Foo 30)`:\n",
    "- the plus did not have to know about Foo (because Foo defined how to handle functions)\n",
    "- The Foo did not have to know about applicative\n",
    "- if we can defin pure and <*> and fmap for it, we can use this trick"
   ]
  },
  {
   "cell_type": "markdown",
   "id": "c59de126",
   "metadata": {},
   "source": [
    "### Details and Rules to obey\n",
    "1. Identity pure id <\\*> v = v\n",
    "2. Composition pure (.) <\\*> u <\\*> v <\\*> w = u <\\*> (v <\\*> w)\n",
    "3. Homomorphism pure f <\\*> pure x = pure (f x)\n",
    "4. Interchange u <\\*> pure y = pure ($ y) <\\*> u\n",
    "\n",
    "Haskell does not enforce these"
   ]
  },
  {
   "cell_type": "code",
   "execution_count": null,
   "id": "e2be2fa7",
   "metadata": {},
   "outputs": [],
   "source": []
  }
 ],
 "metadata": {
  "kernelspec": {
   "display_name": "Haskell",
   "language": "haskell",
   "name": "haskell"
  },
  "language_info": {
   "codemirror_mode": "Haskell",
   "file_extension": ".hs",
   "mimetype": "text/x-haskell",
   "name": "haskell",
   "pygments_lexer": "Haskell",
   "version": "8.10.4"
  },
  "latex_envs": {
   "LaTeX_envs_menu_present": true,
   "autoclose": true,
   "autocomplete": true,
   "bibliofile": "biblio.bib",
   "cite_by": "apalike",
   "current_citInitial": 1,
   "eqLabelWithNumbers": true,
   "eqNumInitial": 1,
   "hotkeys": {
    "equation": "Ctrl-E",
    "itemize": "Ctrl-I"
   },
   "labels_anchors": false,
   "latex_user_defs": false,
   "report_style_numbering": false,
   "user_envs_cfg": false
  }
 },
 "nbformat": 4,
 "nbformat_minor": 5
}
