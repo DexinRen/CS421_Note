{
 "cells": [
  {
   "cell_type": "markdown",
   "id": "8dca8261",
   "metadata": {},
   "source": [
    "## Monads\n",
    "- Monads are a way of defining computation\n",
    "- A monad is a container type m along with two functions:\n",
    "\n",
    "  - return :: a -> m a\n",
    "  - bind :: m a -> (a-> m b) -> m b\n",
    "  - In Haskell, bind is written as **>>=**\n",
    "  \n",
    "  \n",
    "- These functions must obey three laws:\n",
    "\n",
    "  - **Left identity** return a >>= f is the same as f a \n",
    "  - **Right identity** m >>= return is the same as m\n",
    "  - **Associativity** (m >>= f) >>= g is the same as m >>= (\\x -> f x >>= g)"
   ]
  },
  {
   "cell_type": "markdown",
   "id": "aec40b04",
   "metadata": {},
   "source": [
    "### Understanding Return\n",
    "- return :: a -> m a\n",
    "- the return keyword takes an element and puts it into a monad\n",
    "- this is a one-way trip\n",
    "- very much like pure in the applicative type class"
   ]
  },
  {
   "cell_type": "code",
   "execution_count": null,
   "id": "81898b5c",
   "metadata": {},
   "outputs": [],
   "source": [
    "instance Monad Maybe where\n",
    "    return a = Just a\n",
    "instance Monad [] where\n",
    "    return a = [a]\n",
    "instance Monad (Either a) where\n",
    "    return a = Right a"
   ]
  },
  {
   "cell_type": "markdown",
   "id": "318b5952",
   "metadata": {},
   "source": [
    "### Understanding Bind\n",
    "- All the magic happens in bind\n",
    "- bind :: m a -> (a -> m b) -> m b\n",
    "  - the first argument is a monad\n",
    "  - the second argument takes monad, unpack it, and repackages it with the help of the function argument\n",
    "  \n",
    "    - exactly how it does that is the magic part"
   ]
  },
  {
   "cell_type": "code",
   "execution_count": 1,
   "id": "fb13681d",
   "metadata": {},
   "outputs": [],
   "source": [
    "-- Bind for maybe\n",
    "Nothing  >>= f = Nothing\n",
    "(Just a) >>= f = f a\n",
    "\n",
    "-- remember that f returns a monad"
   ]
  },
  {
   "cell_type": "markdown",
   "id": "f4c92fdc",
   "metadata": {},
   "source": [
    "#### Motivation\n",
    "<img src=\"motiv.png\" alt=\"motiv\" width=\"500\"/>\n",
    "<img src=\"diff.png\" alt=\"diff\" width=\"500\"/>"
   ]
  },
  {
   "cell_type": "markdown",
   "id": "b81b6516",
   "metadata": {},
   "source": [
    "### A Calculator with Monads"
   ]
  },
  {
   "cell_type": "code",
   "execution_count": 2,
   "id": "e2a52b90",
   "metadata": {},
   "outputs": [],
   "source": [
    "-- normal implementation without monad\n",
    "minc x = x >>= (\\xx -> return (xx + 1))\n",
    "madd a b = a >>= (\\aa ->\n",
    "           b >>= (\\bb -> return (aa + bb)))"
   ]
  },
  {
   "cell_type": "markdown",
   "id": "f5162452",
   "metadata": {},
   "source": [
    "- The above code works, but here's a better way\n",
    "- First define functions list to convert a function to monadioc form for us\n",
    "\n",
    "**These are part of Control.Monad**:\n",
    "\n",
    "     liftM f a = a >>= (\\aa -> return (f aa))\n",
    "     liftM2 f a b = a >>= (\\aa ->\n",
    "                    b >>= (\\bb -> return (f aa bb)))\n",
    "\n",
    "Thus we can use lifting to implement the calculator:"
   ]
  },
  {
   "cell_type": "code",
   "execution_count": null,
   "id": "3a9215dd",
   "metadata": {},
   "outputs": [],
   "source": [
    "inc :: Integer -> Integer\n",
    "inc x = x + 1\n",
    "\n",
    "add :: Integer -> Integer -> Integer\n",
    "add x y =  x + y\n",
    "\n",
    "plus :: Num a => a -> a -> a\n",
    "plus a b = a + b\n",
    "\n",
    "sub :: Integer -> Integer -> Integer\n",
    "sub x y =  x - y"
   ]
  },
  {
   "cell_type": "code",
   "execution_count": 25,
   "id": "b0376733",
   "metadata": {},
   "outputs": [
    {
     "data": {
      "text/html": [
       "<style>/* Styles used for the Hoogle display in the pager */\n",
       ".hoogle-doc {\n",
       "display: block;\n",
       "padding-bottom: 1.3em;\n",
       "padding-left: 0.4em;\n",
       "}\n",
       ".hoogle-code {\n",
       "display: block;\n",
       "font-family: monospace;\n",
       "white-space: pre;\n",
       "}\n",
       ".hoogle-text {\n",
       "display: block;\n",
       "}\n",
       ".hoogle-name {\n",
       "color: green;\n",
       "font-weight: bold;\n",
       "}\n",
       ".hoogle-head {\n",
       "font-weight: bold;\n",
       "}\n",
       ".hoogle-sub {\n",
       "display: block;\n",
       "margin-left: 0.4em;\n",
       "}\n",
       ".hoogle-package {\n",
       "font-weight: bold;\n",
       "font-style: italic;\n",
       "}\n",
       ".hoogle-module {\n",
       "font-weight: bold;\n",
       "}\n",
       ".hoogle-class {\n",
       "font-weight: bold;\n",
       "}\n",
       ".get-type {\n",
       "color: green;\n",
       "font-weight: bold;\n",
       "font-family: monospace;\n",
       "display: block;\n",
       "white-space: pre-wrap;\n",
       "}\n",
       ".show-type {\n",
       "color: green;\n",
       "font-weight: bold;\n",
       "font-family: monospace;\n",
       "margin-left: 1em;\n",
       "}\n",
       ".mono {\n",
       "font-family: monospace;\n",
       "display: block;\n",
       "}\n",
       ".err-msg {\n",
       "color: red;\n",
       "font-style: italic;\n",
       "font-family: monospace;\n",
       "white-space: pre;\n",
       "display: block;\n",
       "}\n",
       "#unshowable {\n",
       "color: red;\n",
       "font-weight: bold;\n",
       "}\n",
       ".err-msg.in.collapse {\n",
       "padding-top: 0.7em;\n",
       "}\n",
       ".highlight-code {\n",
       "white-space: pre;\n",
       "font-family: monospace;\n",
       "}\n",
       ".suggestion-warning { \n",
       "font-weight: bold;\n",
       "color: rgb(200, 130, 0);\n",
       "}\n",
       ".suggestion-error { \n",
       "font-weight: bold;\n",
       "color: red;\n",
       "}\n",
       ".suggestion-name {\n",
       "font-weight: bold;\n",
       "}\n",
       "</style><div class=\"suggestion-name\" style=\"clear:both;\">Use fmap</div><div class=\"suggestion-row\" style=\"float: left;\"><div class=\"suggestion-warning\">Found:</div><div class=\"highlight-code\" id=\"haskell\">liftM</div></div><div class=\"suggestion-row\" style=\"float: left;\"><div class=\"suggestion-warning\">Why Not:</div><div class=\"highlight-code\" id=\"haskell\">fmap</div></div>"
      ],
      "text/plain": [
       "Line 3: Use fmap\n",
       "Found:\n",
       "liftM\n",
       "Why not:\n",
       "fmap"
      ]
     },
     "metadata": {},
     "output_type": "display_data"
    }
   ],
   "source": [
    "import Control.Monad\n",
    "\n",
    "-- inc add sub have not been implemented yet\n",
    "minc = liftM inc\n",
    "madd = liftM2 add\n",
    "msub = liftM2 sub\n",
    "mdiv a b = a >>= (\\aa->\n",
    "           b >>= (\\bb->\n",
    "            if bb == 0 then fail \"\\0\"\n",
    "                       else return (aa `div` bb)))"
   ]
  },
  {
   "cell_type": "markdown",
   "id": "43e86944",
   "metadata": {},
   "source": [
    "#### fail\n",
    "- fail is another useful monadic function, defined in the MonadFail typeclass\n",
    "- here it's defined as Nothing"
   ]
  },
  {
   "cell_type": "markdown",
   "id": "2488cb54",
   "metadata": {},
   "source": [
    "### The Maybe Monad\n",
    "complete definition for maybe monad:"
   ]
  },
  {
   "cell_type": "code",
   "execution_count": 30,
   "id": "ecaf4882",
   "metadata": {},
   "outputs": [
    {
     "ename": "",
     "evalue": "",
     "output_type": "error",
     "traceback": [
      "<interactive>:7:5: error: ‘fail’ is not a (visible) method of class ‘Monad’"
     ]
    }
   ],
   "source": [
    "instance Monad Maybe where\n",
    "    return = Just\n",
    "    \n",
    "    (>>=) Nothing f = Nothing\n",
    "    (>>=) (Just a) f = f a\n",
    "    \n",
    "    fail s = Nothing"
   ]
  },
  {
   "cell_type": "code",
   "execution_count": null,
   "id": "3c08e895",
   "metadata": {},
   "outputs": [],
   "source": []
  }
 ],
 "metadata": {
  "kernelspec": {
   "display_name": "Haskell",
   "language": "haskell",
   "name": "haskell"
  },
  "language_info": {
   "codemirror_mode": "Haskell",
   "file_extension": ".hs",
   "mimetype": "text/x-haskell",
   "name": "haskell",
   "pygments_lexer": "Haskell",
   "version": "8.10.4"
  },
  "latex_envs": {
   "LaTeX_envs_menu_present": true,
   "autoclose": true,
   "autocomplete": true,
   "bibliofile": "biblio.bib",
   "cite_by": "apalike",
   "current_citInitial": 1,
   "eqLabelWithNumbers": true,
   "eqNumInitial": 1,
   "hotkeys": {
    "equation": "Ctrl-E",
    "itemize": "Ctrl-I"
   },
   "labels_anchors": false,
   "latex_user_defs": false,
   "report_style_numbering": false,
   "user_envs_cfg": false
  }
 },
 "nbformat": 4,
 "nbformat_minor": 5
}
