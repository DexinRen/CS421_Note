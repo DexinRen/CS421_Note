{
 "cells": [
  {
   "cell_type": "markdown",
   "id": "f954780b",
   "metadata": {},
   "source": [
    "## Polymorphism\n",
    "\n",
    "- Polymorphism: Same operation on different data type\n",
    "- How to do this: **Overloading** (in C++), **Inheritance** (Object oriented language), **Parameterized Types** (Hindley Milner typed language like Haskell; templets in C++; Generics in Java); **Type Class** (Haskell)\n",
    "\n",
    "eg. The Eq Type Class:\n",
    "\n",
    "```class Eq a where\n",
    "    (==),(/=) :: a -> a -> Bool\n",
    "    x /= y    = not (x == y)\n",
    "    x == y    = not (x /= y)```"
   ]
  },
  {
   "cell_type": "markdown",
   "id": "c8d5d7ba",
   "metadata": {},
   "source": [
    "#### Using Eq"
   ]
  },
  {
   "cell_type": "code",
   "execution_count": null,
   "id": "66a2a3bf",
   "metadata": {},
   "outputs": [],
   "source": [
    "data Foo = Foo Int\n",
    "\n",
    "x = Foo 10\n",
    "y = Foo 10"
   ]
  },
  {
   "cell_type": "code",
   "execution_count": null,
   "id": "27b3ff6f",
   "metadata": {},
   "outputs": [],
   "source": [
    "-- if we try to compare two foo\n",
    "-- we will get error since Eq type class for Foo is undefined\n",
    "x == y"
   ]
  },
  {
   "cell_type": "code",
   "execution_count": null,
   "id": "ffc02bb8",
   "metadata": {},
   "outputs": [],
   "source": [
    "-- Eq instance for Foo\n",
    "instance Eq Foo where\n",
    "    (==) (Foo i) (Foo j) = i == j"
   ]
  },
  {
   "cell_type": "code",
   "execution_count": null,
   "id": "63fb2037",
   "metadata": {},
   "outputs": [],
   "source": [
    "x = Foo 10\n",
    "y = Foo 10\n",
    "x == y\n",
    "True"
   ]
  },
  {
   "cell_type": "markdown",
   "id": "6212ad89",
   "metadata": {},
   "source": [
    "## Declare Type Class"
   ]
  },
  {
   "cell_type": "markdown",
   "id": "2fe7675f",
   "metadata": {},
   "source": [
    "## Type Class Example"
   ]
  },
  {
   "cell_type": "code",
   "execution_count": null,
   "id": "93897477",
   "metadata": {},
   "outputs": [],
   "source": []
  }
 ],
 "metadata": {
  "kernelspec": {
   "display_name": "Haskell",
   "language": "haskell",
   "name": "haskell"
  },
  "language_info": {
   "codemirror_mode": "Haskell",
   "file_extension": ".hs",
   "mimetype": "text/x-haskell",
   "name": "haskell",
   "pygments_lexer": "Haskell",
   "version": "8.10.4"
  },
  "latex_envs": {
   "LaTeX_envs_menu_present": true,
   "autoclose": true,
   "autocomplete": true,
   "bibliofile": "biblio.bib",
   "cite_by": "apalike",
   "current_citInitial": 1,
   "eqLabelWithNumbers": true,
   "eqNumInitial": 1,
   "hotkeys": {
    "equation": "Ctrl-E",
    "itemize": "Ctrl-I"
   },
   "labels_anchors": false,
   "latex_user_defs": false,
   "report_style_numbering": false,
   "user_envs_cfg": false
  }
 },
 "nbformat": 4,
 "nbformat_minor": 5
}
