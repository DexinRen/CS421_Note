{
 "cells": [
  {
   "cell_type": "markdown",
   "id": "f954780b",
   "metadata": {},
   "source": [
    "## Polymorphism\n",
    "\n",
    "- Polymorphism: Same operation on different data type\n",
    "- How to do this: **Overloading** (in C++), **Inheritance** (Object oriented language), **Parameterized Types** (Hindley Milner typed language like Haskell; templets in C++; Generics in Java); **Type Class** (Haskell)\n",
    "\n",
    "eg. The Eq Type Class:\n",
    "\n",
    "```class Eq a where\n",
    "    (==),(/=) :: a -> a -> Bool\n",
    "    x /= y    = not (x == y)\n",
    "    x == y    = not (x /= y)```"
   ]
  },
  {
   "cell_type": "markdown",
   "id": "6212ad89",
   "metadata": {},
   "source": [
    "## Declare Type Class"
   ]
  },
  {
   "cell_type": "markdown",
   "id": "c8d5d7ba",
   "metadata": {},
   "source": [
    "#### Using Eq"
   ]
  },
  {
   "cell_type": "code",
   "execution_count": 1,
   "id": "66a2a3bf",
   "metadata": {},
   "outputs": [
    {
     "data": {
      "text/html": [
       "<style>/* Styles used for the Hoogle display in the pager */\n",
       ".hoogle-doc {\n",
       "display: block;\n",
       "padding-bottom: 1.3em;\n",
       "padding-left: 0.4em;\n",
       "}\n",
       ".hoogle-code {\n",
       "display: block;\n",
       "font-family: monospace;\n",
       "white-space: pre;\n",
       "}\n",
       ".hoogle-text {\n",
       "display: block;\n",
       "}\n",
       ".hoogle-name {\n",
       "color: green;\n",
       "font-weight: bold;\n",
       "}\n",
       ".hoogle-head {\n",
       "font-weight: bold;\n",
       "}\n",
       ".hoogle-sub {\n",
       "display: block;\n",
       "margin-left: 0.4em;\n",
       "}\n",
       ".hoogle-package {\n",
       "font-weight: bold;\n",
       "font-style: italic;\n",
       "}\n",
       ".hoogle-module {\n",
       "font-weight: bold;\n",
       "}\n",
       ".hoogle-class {\n",
       "font-weight: bold;\n",
       "}\n",
       ".get-type {\n",
       "color: green;\n",
       "font-weight: bold;\n",
       "font-family: monospace;\n",
       "display: block;\n",
       "white-space: pre-wrap;\n",
       "}\n",
       ".show-type {\n",
       "color: green;\n",
       "font-weight: bold;\n",
       "font-family: monospace;\n",
       "margin-left: 1em;\n",
       "}\n",
       ".mono {\n",
       "font-family: monospace;\n",
       "display: block;\n",
       "}\n",
       ".err-msg {\n",
       "color: red;\n",
       "font-style: italic;\n",
       "font-family: monospace;\n",
       "white-space: pre;\n",
       "display: block;\n",
       "}\n",
       "#unshowable {\n",
       "color: red;\n",
       "font-weight: bold;\n",
       "}\n",
       ".err-msg.in.collapse {\n",
       "padding-top: 0.7em;\n",
       "}\n",
       ".highlight-code {\n",
       "white-space: pre;\n",
       "font-family: monospace;\n",
       "}\n",
       ".suggestion-warning { \n",
       "font-weight: bold;\n",
       "color: rgb(200, 130, 0);\n",
       "}\n",
       ".suggestion-error { \n",
       "font-weight: bold;\n",
       "color: red;\n",
       "}\n",
       ".suggestion-name {\n",
       "font-weight: bold;\n",
       "}\n",
       "</style><div class=\"suggestion-name\" style=\"clear:both;\">Use newtype instead of data</div><div class=\"suggestion-row\" style=\"float: left;\"><div class=\"suggestion-warning\">Found:</div><div class=\"highlight-code\" id=\"haskell\">data Foo = Foo Int</div></div><div class=\"suggestion-row\" style=\"float: left;\"><div class=\"suggestion-warning\">Why Not:</div><div class=\"highlight-code\" id=\"haskell\">newtype Foo = Foo Int</div></div>"
      ],
      "text/plain": [
       "Line 1: Use newtype instead of data\n",
       "Found:\n",
       "data Foo = Foo Int\n",
       "Why not:\n",
       "newtype Foo = Foo Int"
      ]
     },
     "metadata": {},
     "output_type": "display_data"
    }
   ],
   "source": [
    "data Foo = Foo Int\n",
    "\n",
    "x = Foo 10\n",
    "y = Foo 10"
   ]
  },
  {
   "cell_type": "code",
   "execution_count": 2,
   "id": "27b3ff6f",
   "metadata": {},
   "outputs": [
    {
     "ename": "",
     "evalue": "",
     "output_type": "error",
     "traceback": [
      "<interactive>:1:1: error:\n    • No instance for (Eq Foo) arising from a use of ‘==’\n    • In the expression: x == y\n      In an equation for ‘it’: it = x == y"
     ]
    }
   ],
   "source": [
    "-- if we try to compare two foo\n",
    "-- we will get error since Eq type class for Foo is undefined\n",
    "x == y"
   ]
  },
  {
   "cell_type": "code",
   "execution_count": 4,
   "id": "ffc02bb8",
   "metadata": {},
   "outputs": [],
   "source": [
    "-- Create an Eq instance for Foo\n",
    "instance Eq Foo where\n",
    "    (==) (Foo i) (Foo j) = i == j"
   ]
  },
  {
   "cell_type": "code",
   "execution_count": 5,
   "id": "63fb2037",
   "metadata": {},
   "outputs": [
    {
     "data": {
      "text/plain": [
       "True"
      ]
     },
     "metadata": {},
     "output_type": "display_data"
    },
    {
     "data": {
      "text/plain": [
       "True"
      ]
     },
     "metadata": {},
     "output_type": "display_data"
    }
   ],
   "source": [
    "x = Foo 10\n",
    "y = Foo 10\n",
    "x == y"
   ]
  },
  {
   "cell_type": "markdown",
   "id": "a4ccd7d1",
   "metadata": {},
   "source": [
    "We can also use `deriving Eq` to request Haskell auto-generate an Eq instance for our data type. eg:"
   ]
  },
  {
   "cell_type": "code",
   "execution_count": 7,
   "id": "a597be21",
   "metadata": {},
   "outputs": [
    {
     "data": {
      "text/html": [
       "<style>/* Styles used for the Hoogle display in the pager */\n",
       ".hoogle-doc {\n",
       "display: block;\n",
       "padding-bottom: 1.3em;\n",
       "padding-left: 0.4em;\n",
       "}\n",
       ".hoogle-code {\n",
       "display: block;\n",
       "font-family: monospace;\n",
       "white-space: pre;\n",
       "}\n",
       ".hoogle-text {\n",
       "display: block;\n",
       "}\n",
       ".hoogle-name {\n",
       "color: green;\n",
       "font-weight: bold;\n",
       "}\n",
       ".hoogle-head {\n",
       "font-weight: bold;\n",
       "}\n",
       ".hoogle-sub {\n",
       "display: block;\n",
       "margin-left: 0.4em;\n",
       "}\n",
       ".hoogle-package {\n",
       "font-weight: bold;\n",
       "font-style: italic;\n",
       "}\n",
       ".hoogle-module {\n",
       "font-weight: bold;\n",
       "}\n",
       ".hoogle-class {\n",
       "font-weight: bold;\n",
       "}\n",
       ".get-type {\n",
       "color: green;\n",
       "font-weight: bold;\n",
       "font-family: monospace;\n",
       "display: block;\n",
       "white-space: pre-wrap;\n",
       "}\n",
       ".show-type {\n",
       "color: green;\n",
       "font-weight: bold;\n",
       "font-family: monospace;\n",
       "margin-left: 1em;\n",
       "}\n",
       ".mono {\n",
       "font-family: monospace;\n",
       "display: block;\n",
       "}\n",
       ".err-msg {\n",
       "color: red;\n",
       "font-style: italic;\n",
       "font-family: monospace;\n",
       "white-space: pre;\n",
       "display: block;\n",
       "}\n",
       "#unshowable {\n",
       "color: red;\n",
       "font-weight: bold;\n",
       "}\n",
       ".err-msg.in.collapse {\n",
       "padding-top: 0.7em;\n",
       "}\n",
       ".highlight-code {\n",
       "white-space: pre;\n",
       "font-family: monospace;\n",
       "}\n",
       ".suggestion-warning { \n",
       "font-weight: bold;\n",
       "color: rgb(200, 130, 0);\n",
       "}\n",
       ".suggestion-error { \n",
       "font-weight: bold;\n",
       "color: red;\n",
       "}\n",
       ".suggestion-name {\n",
       "font-weight: bold;\n",
       "}\n",
       "</style><div class=\"suggestion-name\" style=\"clear:both;\">Use newtype instead of data</div><div class=\"suggestion-row\" style=\"float: left;\"><div class=\"suggestion-warning\">Found:</div><div class=\"highlight-code\" id=\"haskell\">data Foo2\n",
       "  = Foo2 Int\n",
       "  deriving Eq</div></div><div class=\"suggestion-row\" style=\"float: left;\"><div class=\"suggestion-warning\">Why Not:</div><div class=\"highlight-code\" id=\"haskell\">newtype Foo2\n",
       "  = Foo2 Int\n",
       "  deriving Eq</div></div>"
      ],
      "text/plain": [
       "Line 1: Use newtype instead of data\n",
       "Found:\n",
       "data Foo2\n",
       "  = Foo2 Int\n",
       "  deriving Eq\n",
       "Why not:\n",
       "newtype Foo2\n",
       "  = Foo2 Int\n",
       "  deriving Eq"
      ]
     },
     "metadata": {},
     "output_type": "display_data"
    },
    {
     "data": {
      "text/plain": [
       "True"
      ]
     },
     "metadata": {},
     "output_type": "display_data"
    }
   ],
   "source": [
    "data Foo2 = Foo2 Int\n",
    "    deriving Eq\n",
    "x = Foo2 10\n",
    "y = Foo2 10\n",
    "\n",
    "x == y\n",
    "-- the Eq has been generated automatically"
   ]
  },
  {
   "cell_type": "markdown",
   "id": "2fe7675f",
   "metadata": {},
   "source": [
    "## Type Class Example"
   ]
  },
  {
   "cell_type": "markdown",
   "id": "258df346",
   "metadata": {},
   "source": [
    "<img src=\"compare.png\" alt=\"compare\" width=\"500\"/>\n",
    "<img src=\"show.png\" alt=\"show\" width=\"500\"/>\n",
    "<img src=\"read.png\" alt=\"read\" width=\"500\"/>"
   ]
  }
 ],
 "metadata": {
  "kernelspec": {
   "display_name": "Haskell",
   "language": "haskell",
   "name": "haskell"
  },
  "language_info": {
   "codemirror_mode": "Haskell",
   "file_extension": ".hs",
   "mimetype": "text/x-haskell",
   "name": "haskell",
   "pygments_lexer": "Haskell",
   "version": "8.10.4"
  },
  "latex_envs": {
   "LaTeX_envs_menu_present": true,
   "autoclose": true,
   "autocomplete": true,
   "bibliofile": "biblio.bib",
   "cite_by": "apalike",
   "current_citInitial": 1,
   "eqLabelWithNumbers": true,
   "eqNumInitial": 1,
   "hotkeys": {
    "equation": "Ctrl-E",
    "itemize": "Ctrl-I"
   },
   "labels_anchors": false,
   "latex_user_defs": false,
   "report_style_numbering": false,
   "user_envs_cfg": false
  }
 },
 "nbformat": 4,
 "nbformat_minor": 5
}
