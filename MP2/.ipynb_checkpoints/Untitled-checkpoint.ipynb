{
 "cells": [
  {
   "cell_type": "code",
   "execution_count": 25,
   "id": "be17f2a0",
   "metadata": {},
   "outputs": [
    {
     "data": {
      "text/html": [
       "<style>/* Styles used for the Hoogle display in the pager */\n",
       ".hoogle-doc {\n",
       "display: block;\n",
       "padding-bottom: 1.3em;\n",
       "padding-left: 0.4em;\n",
       "}\n",
       ".hoogle-code {\n",
       "display: block;\n",
       "font-family: monospace;\n",
       "white-space: pre;\n",
       "}\n",
       ".hoogle-text {\n",
       "display: block;\n",
       "}\n",
       ".hoogle-name {\n",
       "color: green;\n",
       "font-weight: bold;\n",
       "}\n",
       ".hoogle-head {\n",
       "font-weight: bold;\n",
       "}\n",
       ".hoogle-sub {\n",
       "display: block;\n",
       "margin-left: 0.4em;\n",
       "}\n",
       ".hoogle-package {\n",
       "font-weight: bold;\n",
       "font-style: italic;\n",
       "}\n",
       ".hoogle-module {\n",
       "font-weight: bold;\n",
       "}\n",
       ".hoogle-class {\n",
       "font-weight: bold;\n",
       "}\n",
       ".get-type {\n",
       "color: green;\n",
       "font-weight: bold;\n",
       "font-family: monospace;\n",
       "display: block;\n",
       "white-space: pre-wrap;\n",
       "}\n",
       ".show-type {\n",
       "color: green;\n",
       "font-weight: bold;\n",
       "font-family: monospace;\n",
       "margin-left: 1em;\n",
       "}\n",
       ".mono {\n",
       "font-family: monospace;\n",
       "display: block;\n",
       "}\n",
       ".err-msg {\n",
       "color: red;\n",
       "font-style: italic;\n",
       "font-family: monospace;\n",
       "white-space: pre;\n",
       "display: block;\n",
       "}\n",
       "#unshowable {\n",
       "color: red;\n",
       "font-weight: bold;\n",
       "}\n",
       ".err-msg.in.collapse {\n",
       "padding-top: 0.7em;\n",
       "}\n",
       ".highlight-code {\n",
       "white-space: pre;\n",
       "font-family: monospace;\n",
       "}\n",
       ".suggestion-warning { \n",
       "font-weight: bold;\n",
       "color: rgb(200, 130, 0);\n",
       "}\n",
       ".suggestion-error { \n",
       "font-weight: bold;\n",
       "color: red;\n",
       "}\n",
       ".suggestion-name {\n",
       "font-weight: bold;\n",
       "}\n",
       "</style><div class=\"suggestion-name\" style=\"clear:both;\">Redundant bracket</div><div class=\"suggestion-row\" style=\"float: left;\"><div class=\"suggestion-warning\">Found:</div><div class=\"highlight-code\" id=\"haskell\">(div)</div></div><div class=\"suggestion-row\" style=\"float: left;\"><div class=\"suggestion-warning\">Why Not:</div><div class=\"highlight-code\" id=\"haskell\">div</div></div>"
      ],
      "text/plain": [
       "Line 63: Redundant bracket\n",
       "Found:\n",
       "(div)\n",
       "Why not:\n",
       "div"
      ]
     },
     "metadata": {},
     "output_type": "display_data"
    }
   ],
   "source": [
    "module Lib where\n",
    "import Data.HashMap.Strict as H (HashMap, empty, fromList, insert, lookup, union)\n",
    "\n",
    "\n",
    "--- Data Types\n",
    "--- ----------\n",
    "\n",
    "--- ### Environments and Results\n",
    "\n",
    "type Env  = H.HashMap String Val\n",
    "type PEnv = H.HashMap String Stmt\n",
    "\n",
    "type Result = (String, PEnv, Env)\n",
    "\n",
    "--- ### Values\n",
    "\n",
    "data Val = IntVal Int\n",
    "         | BoolVal Bool\n",
    "         | CloVal [String] Exp Env\n",
    "         | ExnVal String\n",
    "    deriving (Eq)\n",
    "\n",
    "instance Show Val where\n",
    "    show (IntVal i) = show i\n",
    "    show (BoolVal i) = show i\n",
    "    show (CloVal xs body env) = \"<\" ++ show xs   ++ \", \"\n",
    "                                    ++ show body ++ \", \"\n",
    "                                    ++ show env  ++ \">\"\n",
    "    show (ExnVal s) = \"exn: \" ++ s\n",
    "\n",
    "--- ### Expressions\n",
    "\n",
    "data Exp = IntExp Int\n",
    "         | BoolExp Bool\n",
    "         | FunExp [String] Exp\n",
    "         | LetExp [(String,Exp)] Exp\n",
    "         | AppExp Exp [Exp]\n",
    "         | IfExp Exp Exp Exp\n",
    "         | IntOpExp String Exp Exp\n",
    "         | BoolOpExp String Exp Exp\n",
    "         | CompOpExp String Exp Exp\n",
    "         | VarExp String\n",
    "    deriving (Show, Eq)\n",
    "\n",
    "--- ### Statements\n",
    "\n",
    "data Stmt = SetStmt String Exp\n",
    "          | PrintStmt Exp\n",
    "          | QuitStmt\n",
    "          | IfStmt Exp Stmt Stmt\n",
    "          | ProcedureStmt String [String] Stmt\n",
    "          | CallStmt String [Exp]\n",
    "          | SeqStmt [Stmt]\n",
    "    deriving (Show, Eq)\n",
    "\n",
    "--- Primitive Functions\n",
    "--- -------------------\n",
    "\n",
    "intOps :: H.HashMap String (Int -> Int -> Int)\n",
    "intOps = H.fromList [ (\"+\", (+))\n",
    "                    , (\"-\", (-))\n",
    "                    , (\"*\", (*))\n",
    "                    , (\"/\", (div))\n",
    "                    ]\n",
    "\n",
    "boolOps :: H.HashMap String (Bool -> Bool -> Bool)\n",
    "boolOps = H.fromList [ (\"and\", (&&))\n",
    "                     , (\"or\", (||))\n",
    "                     ]\n",
    "\n",
    "compOps :: H.HashMap String (Int -> Int -> Bool)\n",
    "compOps = H.fromList [ (\"<\", (<))\n",
    "                     , (\">\", (>))\n",
    "                     , (\"<=\", (<=))\n",
    "                     , (\">=\", (>=))\n",
    "                     , (\"/=\", (/=))\n",
    "                     , (\"==\", (==))\n",
    "                     ]"
   ]
  },
  {
   "cell_type": "code",
   "execution_count": 26,
   "id": "3f296953",
   "metadata": {},
   "outputs": [],
   "source": [
    "eval (VarExp s) env = \n",
    "    let record = lookup s env\n",
    "    in case record of\n",
    "       Just a -> a\n",
    "       Nothing -> ExnVal \"exn: No match in env\""
   ]
  },
  {
   "cell_type": "code",
   "execution_count": 27,
   "id": "d4ac1c2c",
   "metadata": {},
   "outputs": [
    {
     "ename": "",
     "evalue": "",
     "output_type": "error",
     "traceback": [
      "<interactive>:2:18: error:\n    Not in scope: ‘H.lookup’\n    No module named ‘H’ is imported."
     ]
    }
   ],
   "source": [
    "eval (IntOpExp op e1 e2) env = \n",
    "    let record = H.lookup op intOps\n",
    "        val1 = eval e1 env\n",
    "        val2 = eval e2 env\n",
    "    in case (record, e2) of\n",
    "       ((/),0)    -> ExnVal \"exn: Division by 0\"\n",
    "       (Just a,_) -> liftIntOp f val1 val2\n",
    "       (Nothing,_)-> ExnVal \"exn: No match in env\"\n",
    "                  "
   ]
  },
  {
   "cell_type": "code",
   "execution_count": 30,
   "id": "0e11d0f2",
   "metadata": {},
   "outputs": [
    {
     "ename": "",
     "evalue": "",
     "output_type": "error",
     "traceback": [
      "<interactive>:2:13: error:\n    Not in scope: ‘H.lookup’\n    No module named ‘H’ is imported."
     ]
    }
   ],
   "source": [
    "eval (BoolOpExp op e1 e2) env = \n",
    "    let f = H.lookup op boolOps\n",
    "        val1 = eval e1 env\n",
    "        val2 = eval e2 env\n",
    "    in case f of\n",
    "        Just a  -> liftBoolOp f val1 val2\n",
    "        Nothing -> ExnVal \"exn: No match in env\""
   ]
  },
  {
   "cell_type": "code",
   "execution_count": 32,
   "id": "be32d0fc",
   "metadata": {},
   "outputs": [],
   "source": [
    "eval (IfExp e1 e2 e3) env = \n",
    "    let state = eval e1 env\n",
    "    in case state of BoolVal True  -> eval e2 env\n",
    "                     BoolVal False -> eval e3 env\n",
    "                     _             -> ExnVal \"exn: Condition is not a Bool\""
   ]
  },
  {
   "cell_type": "code",
   "execution_count": 33,
   "id": "bfec6d96",
   "metadata": {},
   "outputs": [
    {
     "ename": "",
     "evalue": "",
     "output_type": "error",
     "traceback": [
      "<interactive>:4:44: error:\n    Not in scope: ‘H.insert’\n    No module named ‘H’ is imported."
     ]
    }
   ],
   "source": [
    "exec :: Stmt -> PEnv -> Env -> Result\n",
    "exec (PrintStmt e) penv env = (val, penv, env)\n",
    "    where val = show $ eval e env\n",
    "\n",
    "--- ### Set Statements\n",
    "\n",
    "exec (SetStmt var e) penv env = (\"\", penv, H.insert var (eval e env) env)"
   ]
  },
  {
   "cell_type": "code",
   "execution_count": null,
   "id": "dfe074c9",
   "metadata": {},
   "outputs": [],
   "source": []
  }
 ],
 "metadata": {
  "kernelspec": {
   "display_name": "Haskell",
   "language": "haskell",
   "name": "haskell"
  },
  "language_info": {
   "codemirror_mode": "Haskell",
   "file_extension": ".hs",
   "mimetype": "text/x-haskell",
   "name": "haskell",
   "pygments_lexer": "Haskell",
   "version": "8.10.4"
  },
  "latex_envs": {
   "LaTeX_envs_menu_present": true,
   "autoclose": true,
   "autocomplete": true,
   "bibliofile": "biblio.bib",
   "cite_by": "apalike",
   "current_citInitial": 1,
   "eqLabelWithNumbers": true,
   "eqNumInitial": 1,
   "hotkeys": {
    "equation": "Ctrl-E",
    "itemize": "Ctrl-I"
   },
   "labels_anchors": false,
   "latex_user_defs": false,
   "report_style_numbering": false,
   "user_envs_cfg": false
  }
 },
 "nbformat": 4,
 "nbformat_minor": 5
}
