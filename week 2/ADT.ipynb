{
 "cells": [
  {
   "cell_type": "markdown",
   "id": "6e2a33ab",
   "metadata": {},
   "source": [
    "### Product Types:\n",
    "Two ways to making new data type based on existing type:\n",
    "- Product types: tuples and records\n",
    "- Sum types: Disjoint types (a.k.a. tagged unions, disjoint unions, etc.)"
   ]
  },
  {
   "cell_type": "markdown",
   "id": "c8feaf9f",
   "metadata": {},
   "source": [
    "**Tuples**\n",
    "\n",
    "- n-tuple is an ordered collection of n elements\n",
    "- if n=2, we can also call this a pair"
   ]
  },
  {
   "cell_type": "code",
   "execution_count": 1,
   "id": "8be330e7",
   "metadata": {},
   "outputs": [
    {
     "data": {
      "text/html": [
       "<style>/* Styles used for the Hoogle display in the pager */\n",
       ".hoogle-doc {\n",
       "display: block;\n",
       "padding-bottom: 1.3em;\n",
       "padding-left: 0.4em;\n",
       "}\n",
       ".hoogle-code {\n",
       "display: block;\n",
       "font-family: monospace;\n",
       "white-space: pre;\n",
       "}\n",
       ".hoogle-text {\n",
       "display: block;\n",
       "}\n",
       ".hoogle-name {\n",
       "color: green;\n",
       "font-weight: bold;\n",
       "}\n",
       ".hoogle-head {\n",
       "font-weight: bold;\n",
       "}\n",
       ".hoogle-sub {\n",
       "display: block;\n",
       "margin-left: 0.4em;\n",
       "}\n",
       ".hoogle-package {\n",
       "font-weight: bold;\n",
       "font-style: italic;\n",
       "}\n",
       ".hoogle-module {\n",
       "font-weight: bold;\n",
       "}\n",
       ".hoogle-class {\n",
       "font-weight: bold;\n",
       "}\n",
       ".get-type {\n",
       "color: green;\n",
       "font-weight: bold;\n",
       "font-family: monospace;\n",
       "display: block;\n",
       "white-space: pre-wrap;\n",
       "}\n",
       ".show-type {\n",
       "color: green;\n",
       "font-weight: bold;\n",
       "font-family: monospace;\n",
       "margin-left: 1em;\n",
       "}\n",
       ".mono {\n",
       "font-family: monospace;\n",
       "display: block;\n",
       "}\n",
       ".err-msg {\n",
       "color: red;\n",
       "font-style: italic;\n",
       "font-family: monospace;\n",
       "white-space: pre;\n",
       "display: block;\n",
       "}\n",
       "#unshowable {\n",
       "color: red;\n",
       "font-weight: bold;\n",
       "}\n",
       ".err-msg.in.collapse {\n",
       "padding-top: 0.7em;\n",
       "}\n",
       ".highlight-code {\n",
       "white-space: pre;\n",
       "font-family: monospace;\n",
       "}\n",
       ".suggestion-warning { \n",
       "font-weight: bold;\n",
       "color: rgb(200, 130, 0);\n",
       "}\n",
       ".suggestion-error { \n",
       "font-weight: bold;\n",
       "color: red;\n",
       "}\n",
       ".suggestion-name {\n",
       "font-weight: bold;\n",
       "}\n",
       "</style><span class='get-type'>x :: Integer</span>"
      ],
      "text/plain": [
       "x :: Integer"
      ]
     },
     "metadata": {},
     "output_type": "display_data"
    },
    {
     "data": {
      "text/html": [
       "<style>/* Styles used for the Hoogle display in the pager */\n",
       ".hoogle-doc {\n",
       "display: block;\n",
       "padding-bottom: 1.3em;\n",
       "padding-left: 0.4em;\n",
       "}\n",
       ".hoogle-code {\n",
       "display: block;\n",
       "font-family: monospace;\n",
       "white-space: pre;\n",
       "}\n",
       ".hoogle-text {\n",
       "display: block;\n",
       "}\n",
       ".hoogle-name {\n",
       "color: green;\n",
       "font-weight: bold;\n",
       "}\n",
       ".hoogle-head {\n",
       "font-weight: bold;\n",
       "}\n",
       ".hoogle-sub {\n",
       "display: block;\n",
       "margin-left: 0.4em;\n",
       "}\n",
       ".hoogle-package {\n",
       "font-weight: bold;\n",
       "font-style: italic;\n",
       "}\n",
       ".hoogle-module {\n",
       "font-weight: bold;\n",
       "}\n",
       ".hoogle-class {\n",
       "font-weight: bold;\n",
       "}\n",
       ".get-type {\n",
       "color: green;\n",
       "font-weight: bold;\n",
       "font-family: monospace;\n",
       "display: block;\n",
       "white-space: pre-wrap;\n",
       "}\n",
       ".show-type {\n",
       "color: green;\n",
       "font-weight: bold;\n",
       "font-family: monospace;\n",
       "margin-left: 1em;\n",
       "}\n",
       ".mono {\n",
       "font-family: monospace;\n",
       "display: block;\n",
       "}\n",
       ".err-msg {\n",
       "color: red;\n",
       "font-style: italic;\n",
       "font-family: monospace;\n",
       "white-space: pre;\n",
       "display: block;\n",
       "}\n",
       "#unshowable {\n",
       "color: red;\n",
       "font-weight: bold;\n",
       "}\n",
       ".err-msg.in.collapse {\n",
       "padding-top: 0.7em;\n",
       "}\n",
       ".highlight-code {\n",
       "white-space: pre;\n",
       "font-family: monospace;\n",
       "}\n",
       ".suggestion-warning { \n",
       "font-weight: bold;\n",
       "color: rgb(200, 130, 0);\n",
       "}\n",
       ".suggestion-error { \n",
       "font-weight: bold;\n",
       "color: red;\n",
       "}\n",
       ".suggestion-name {\n",
       "font-weight: bold;\n",
       "}\n",
       "</style><span class='get-type'>y :: [Char]</span>"
      ],
      "text/plain": [
       "y :: [Char]"
      ]
     },
     "metadata": {},
     "output_type": "display_data"
    },
    {
     "data": {
      "text/html": [
       "<style>/* Styles used for the Hoogle display in the pager */\n",
       ".hoogle-doc {\n",
       "display: block;\n",
       "padding-bottom: 1.3em;\n",
       "padding-left: 0.4em;\n",
       "}\n",
       ".hoogle-code {\n",
       "display: block;\n",
       "font-family: monospace;\n",
       "white-space: pre;\n",
       "}\n",
       ".hoogle-text {\n",
       "display: block;\n",
       "}\n",
       ".hoogle-name {\n",
       "color: green;\n",
       "font-weight: bold;\n",
       "}\n",
       ".hoogle-head {\n",
       "font-weight: bold;\n",
       "}\n",
       ".hoogle-sub {\n",
       "display: block;\n",
       "margin-left: 0.4em;\n",
       "}\n",
       ".hoogle-package {\n",
       "font-weight: bold;\n",
       "font-style: italic;\n",
       "}\n",
       ".hoogle-module {\n",
       "font-weight: bold;\n",
       "}\n",
       ".hoogle-class {\n",
       "font-weight: bold;\n",
       "}\n",
       ".get-type {\n",
       "color: green;\n",
       "font-weight: bold;\n",
       "font-family: monospace;\n",
       "display: block;\n",
       "white-space: pre-wrap;\n",
       "}\n",
       ".show-type {\n",
       "color: green;\n",
       "font-weight: bold;\n",
       "font-family: monospace;\n",
       "margin-left: 1em;\n",
       "}\n",
       ".mono {\n",
       "font-family: monospace;\n",
       "display: block;\n",
       "}\n",
       ".err-msg {\n",
       "color: red;\n",
       "font-style: italic;\n",
       "font-family: monospace;\n",
       "white-space: pre;\n",
       "display: block;\n",
       "}\n",
       "#unshowable {\n",
       "color: red;\n",
       "font-weight: bold;\n",
       "}\n",
       ".err-msg.in.collapse {\n",
       "padding-top: 0.7em;\n",
       "}\n",
       ".highlight-code {\n",
       "white-space: pre;\n",
       "font-family: monospace;\n",
       "}\n",
       ".suggestion-warning { \n",
       "font-weight: bold;\n",
       "color: rgb(200, 130, 0);\n",
       "}\n",
       ".suggestion-error { \n",
       "font-weight: bold;\n",
       "color: red;\n",
       "}\n",
       ".suggestion-name {\n",
       "font-weight: bold;\n",
       "}\n",
       "</style><span class='get-type'>pair :: (Integer, [Char])</span>"
      ],
      "text/plain": [
       "pair :: (Integer, [Char])"
      ]
     },
     "metadata": {},
     "output_type": "display_data"
    }
   ],
   "source": [
    "x = 10 :: Integer\n",
    "y = \"Hi\" -- :t y = [char] == string\n",
    ":t x\n",
    ":t y\n",
    "pair = (x,y)\n",
    ":t pair"
   ]
  },
  {
   "cell_type": "markdown",
   "id": "465179e4",
   "metadata": {},
   "source": [
    "we can use two function to get the projection of a pair:\n",
    "- **fst**: get the first entry of a pair\n",
    "- **snd**: get the second entry of a pair"
   ]
  },
  {
   "cell_type": "code",
   "execution_count": 6,
   "id": "4bc846e8",
   "metadata": {},
   "outputs": [
    {
     "data": {
      "text/html": [
       "<style>/* Styles used for the Hoogle display in the pager */\n",
       ".hoogle-doc {\n",
       "display: block;\n",
       "padding-bottom: 1.3em;\n",
       "padding-left: 0.4em;\n",
       "}\n",
       ".hoogle-code {\n",
       "display: block;\n",
       "font-family: monospace;\n",
       "white-space: pre;\n",
       "}\n",
       ".hoogle-text {\n",
       "display: block;\n",
       "}\n",
       ".hoogle-name {\n",
       "color: green;\n",
       "font-weight: bold;\n",
       "}\n",
       ".hoogle-head {\n",
       "font-weight: bold;\n",
       "}\n",
       ".hoogle-sub {\n",
       "display: block;\n",
       "margin-left: 0.4em;\n",
       "}\n",
       ".hoogle-package {\n",
       "font-weight: bold;\n",
       "font-style: italic;\n",
       "}\n",
       ".hoogle-module {\n",
       "font-weight: bold;\n",
       "}\n",
       ".hoogle-class {\n",
       "font-weight: bold;\n",
       "}\n",
       ".get-type {\n",
       "color: green;\n",
       "font-weight: bold;\n",
       "font-family: monospace;\n",
       "display: block;\n",
       "white-space: pre-wrap;\n",
       "}\n",
       ".show-type {\n",
       "color: green;\n",
       "font-weight: bold;\n",
       "font-family: monospace;\n",
       "margin-left: 1em;\n",
       "}\n",
       ".mono {\n",
       "font-family: monospace;\n",
       "display: block;\n",
       "}\n",
       ".err-msg {\n",
       "color: red;\n",
       "font-style: italic;\n",
       "font-family: monospace;\n",
       "white-space: pre;\n",
       "display: block;\n",
       "}\n",
       "#unshowable {\n",
       "color: red;\n",
       "font-weight: bold;\n",
       "}\n",
       ".err-msg.in.collapse {\n",
       "padding-top: 0.7em;\n",
       "}\n",
       ".highlight-code {\n",
       "white-space: pre;\n",
       "font-family: monospace;\n",
       "}\n",
       ".suggestion-warning { \n",
       "font-weight: bold;\n",
       "color: rgb(200, 130, 0);\n",
       "}\n",
       ".suggestion-error { \n",
       "font-weight: bold;\n",
       "color: red;\n",
       "}\n",
       ".suggestion-name {\n",
       "font-weight: bold;\n",
       "}\n",
       "</style><span class='get-type'>fst :: forall a b. (a, b) -> a</span>"
      ],
      "text/plain": [
       "fst :: forall a b. (a, b) -> a"
      ]
     },
     "metadata": {},
     "output_type": "display_data"
    },
    {
     "data": {
      "text/html": [
       "<style>/* Styles used for the Hoogle display in the pager */\n",
       ".hoogle-doc {\n",
       "display: block;\n",
       "padding-bottom: 1.3em;\n",
       "padding-left: 0.4em;\n",
       "}\n",
       ".hoogle-code {\n",
       "display: block;\n",
       "font-family: monospace;\n",
       "white-space: pre;\n",
       "}\n",
       ".hoogle-text {\n",
       "display: block;\n",
       "}\n",
       ".hoogle-name {\n",
       "color: green;\n",
       "font-weight: bold;\n",
       "}\n",
       ".hoogle-head {\n",
       "font-weight: bold;\n",
       "}\n",
       ".hoogle-sub {\n",
       "display: block;\n",
       "margin-left: 0.4em;\n",
       "}\n",
       ".hoogle-package {\n",
       "font-weight: bold;\n",
       "font-style: italic;\n",
       "}\n",
       ".hoogle-module {\n",
       "font-weight: bold;\n",
       "}\n",
       ".hoogle-class {\n",
       "font-weight: bold;\n",
       "}\n",
       ".get-type {\n",
       "color: green;\n",
       "font-weight: bold;\n",
       "font-family: monospace;\n",
       "display: block;\n",
       "white-space: pre-wrap;\n",
       "}\n",
       ".show-type {\n",
       "color: green;\n",
       "font-weight: bold;\n",
       "font-family: monospace;\n",
       "margin-left: 1em;\n",
       "}\n",
       ".mono {\n",
       "font-family: monospace;\n",
       "display: block;\n",
       "}\n",
       ".err-msg {\n",
       "color: red;\n",
       "font-style: italic;\n",
       "font-family: monospace;\n",
       "white-space: pre;\n",
       "display: block;\n",
       "}\n",
       "#unshowable {\n",
       "color: red;\n",
       "font-weight: bold;\n",
       "}\n",
       ".err-msg.in.collapse {\n",
       "padding-top: 0.7em;\n",
       "}\n",
       ".highlight-code {\n",
       "white-space: pre;\n",
       "font-family: monospace;\n",
       "}\n",
       ".suggestion-warning { \n",
       "font-weight: bold;\n",
       "color: rgb(200, 130, 0);\n",
       "}\n",
       ".suggestion-error { \n",
       "font-weight: bold;\n",
       "color: red;\n",
       "}\n",
       ".suggestion-name {\n",
       "font-weight: bold;\n",
       "}\n",
       "</style><span class='get-type'>snd :: forall a b. (a, b) -> b</span>"
      ],
      "text/plain": [
       "snd :: forall a b. (a, b) -> b"
      ]
     },
     "metadata": {},
     "output_type": "display_data"
    },
    {
     "data": {
      "text/plain": [
       "10"
      ]
     },
     "metadata": {},
     "output_type": "display_data"
    },
    {
     "data": {
      "text/plain": [
       "\"Hi\""
      ]
     },
     "metadata": {},
     "output_type": "display_data"
    }
   ],
   "source": [
    ":t fst\n",
    ":t snd\n",
    "-- so fst and snd only take pair as input\n",
    "fst pair\n",
    "snd pair"
   ]
  },
  {
   "cell_type": "markdown",
   "id": "3a796fcc",
   "metadata": {},
   "source": [
    "**n-tuples**"
   ]
  },
  {
   "cell_type": "code",
   "execution_count": 11,
   "id": "a3d6f4cb",
   "metadata": {},
   "outputs": [
    {
     "data": {
      "text/html": [
       "<style>/* Styles used for the Hoogle display in the pager */\n",
       ".hoogle-doc {\n",
       "display: block;\n",
       "padding-bottom: 1.3em;\n",
       "padding-left: 0.4em;\n",
       "}\n",
       ".hoogle-code {\n",
       "display: block;\n",
       "font-family: monospace;\n",
       "white-space: pre;\n",
       "}\n",
       ".hoogle-text {\n",
       "display: block;\n",
       "}\n",
       ".hoogle-name {\n",
       "color: green;\n",
       "font-weight: bold;\n",
       "}\n",
       ".hoogle-head {\n",
       "font-weight: bold;\n",
       "}\n",
       ".hoogle-sub {\n",
       "display: block;\n",
       "margin-left: 0.4em;\n",
       "}\n",
       ".hoogle-package {\n",
       "font-weight: bold;\n",
       "font-style: italic;\n",
       "}\n",
       ".hoogle-module {\n",
       "font-weight: bold;\n",
       "}\n",
       ".hoogle-class {\n",
       "font-weight: bold;\n",
       "}\n",
       ".get-type {\n",
       "color: green;\n",
       "font-weight: bold;\n",
       "font-family: monospace;\n",
       "display: block;\n",
       "white-space: pre-wrap;\n",
       "}\n",
       ".show-type {\n",
       "color: green;\n",
       "font-weight: bold;\n",
       "font-family: monospace;\n",
       "margin-left: 1em;\n",
       "}\n",
       ".mono {\n",
       "font-family: monospace;\n",
       "display: block;\n",
       "}\n",
       ".err-msg {\n",
       "color: red;\n",
       "font-style: italic;\n",
       "font-family: monospace;\n",
       "white-space: pre;\n",
       "display: block;\n",
       "}\n",
       "#unshowable {\n",
       "color: red;\n",
       "font-weight: bold;\n",
       "}\n",
       ".err-msg.in.collapse {\n",
       "padding-top: 0.7em;\n",
       "}\n",
       ".highlight-code {\n",
       "white-space: pre;\n",
       "font-family: monospace;\n",
       "}\n",
       ".suggestion-warning { \n",
       "font-weight: bold;\n",
       "color: rgb(200, 130, 0);\n",
       "}\n",
       ".suggestion-error { \n",
       "font-weight: bold;\n",
       "color: red;\n",
       "}\n",
       ".suggestion-name {\n",
       "font-weight: bold;\n",
       "}\n",
       "</style><span class='get-type'>p4 :: forall a1 a2 a3 b. (Num a1, Num a2, Num a3, Num b) => (a1, [Char], a2 -> a2, (a3, b))</span>"
      ],
      "text/plain": [
       "p4 :: forall a1 a2 a3 b. (Num a1, Num a2, Num a3, Num b) => (a1, [Char], a2 -> a2, (a3, b))"
      ]
     },
     "metadata": {},
     "output_type": "display_data"
    }
   ],
   "source": [
    "let p4 = (10,\"hi\",\\x->x+1,(2,3))\n",
    ":t p4"
   ]
  },
  {
   "cell_type": "markdown",
   "id": "ee2d03d2",
   "metadata": {},
   "source": [
    "**Complex Number & Tuple operation**\n",
    "\n",
    "- `cadd (a,b) (c,d)`: complex add: (a+bi)+(c+di)\n",
    "               result = (a+c,b+d)\n",
    "- `cmul (a,b) (c,d)`: complex mul: (a+bi)*(c+di)\n",
    "               result = (a*c-b*d,a*d+b*c)"
   ]
  },
  {
   "cell_type": "code",
   "execution_count": 13,
   "id": "3c276dcb",
   "metadata": {},
   "outputs": [],
   "source": [
    "cadd (a,b) (c,d) = (a+c,b+d)\n",
    "cmul (a,b) (c,d) = (a*c-b*d,a*d+b*c)"
   ]
  },
  {
   "cell_type": "code",
   "execution_count": 14,
   "id": "dd21befb",
   "metadata": {},
   "outputs": [
    {
     "data": {
      "text/html": [
       "<style>/* Styles used for the Hoogle display in the pager */\n",
       ".hoogle-doc {\n",
       "display: block;\n",
       "padding-bottom: 1.3em;\n",
       "padding-left: 0.4em;\n",
       "}\n",
       ".hoogle-code {\n",
       "display: block;\n",
       "font-family: monospace;\n",
       "white-space: pre;\n",
       "}\n",
       ".hoogle-text {\n",
       "display: block;\n",
       "}\n",
       ".hoogle-name {\n",
       "color: green;\n",
       "font-weight: bold;\n",
       "}\n",
       ".hoogle-head {\n",
       "font-weight: bold;\n",
       "}\n",
       ".hoogle-sub {\n",
       "display: block;\n",
       "margin-left: 0.4em;\n",
       "}\n",
       ".hoogle-package {\n",
       "font-weight: bold;\n",
       "font-style: italic;\n",
       "}\n",
       ".hoogle-module {\n",
       "font-weight: bold;\n",
       "}\n",
       ".hoogle-class {\n",
       "font-weight: bold;\n",
       "}\n",
       ".get-type {\n",
       "color: green;\n",
       "font-weight: bold;\n",
       "font-family: monospace;\n",
       "display: block;\n",
       "white-space: pre-wrap;\n",
       "}\n",
       ".show-type {\n",
       "color: green;\n",
       "font-weight: bold;\n",
       "font-family: monospace;\n",
       "margin-left: 1em;\n",
       "}\n",
       ".mono {\n",
       "font-family: monospace;\n",
       "display: block;\n",
       "}\n",
       ".err-msg {\n",
       "color: red;\n",
       "font-style: italic;\n",
       "font-family: monospace;\n",
       "white-space: pre;\n",
       "display: block;\n",
       "}\n",
       "#unshowable {\n",
       "color: red;\n",
       "font-weight: bold;\n",
       "}\n",
       ".err-msg.in.collapse {\n",
       "padding-top: 0.7em;\n",
       "}\n",
       ".highlight-code {\n",
       "white-space: pre;\n",
       "font-family: monospace;\n",
       "}\n",
       ".suggestion-warning { \n",
       "font-weight: bold;\n",
       "color: rgb(200, 130, 0);\n",
       "}\n",
       ".suggestion-error { \n",
       "font-weight: bold;\n",
       "color: red;\n",
       "}\n",
       ".suggestion-name {\n",
       "font-weight: bold;\n",
       "}\n",
       "</style><span class='get-type'>cadd :: forall a b. (Num a, Num b) => (a, b) -> (a, b) -> (a, b)</span>"
      ],
      "text/plain": [
       "cadd :: forall a b. (Num a, Num b) => (a, b) -> (a, b) -> (a, b)"
      ]
     },
     "metadata": {},
     "output_type": "display_data"
    },
    {
     "data": {
      "text/html": [
       "<style>/* Styles used for the Hoogle display in the pager */\n",
       ".hoogle-doc {\n",
       "display: block;\n",
       "padding-bottom: 1.3em;\n",
       "padding-left: 0.4em;\n",
       "}\n",
       ".hoogle-code {\n",
       "display: block;\n",
       "font-family: monospace;\n",
       "white-space: pre;\n",
       "}\n",
       ".hoogle-text {\n",
       "display: block;\n",
       "}\n",
       ".hoogle-name {\n",
       "color: green;\n",
       "font-weight: bold;\n",
       "}\n",
       ".hoogle-head {\n",
       "font-weight: bold;\n",
       "}\n",
       ".hoogle-sub {\n",
       "display: block;\n",
       "margin-left: 0.4em;\n",
       "}\n",
       ".hoogle-package {\n",
       "font-weight: bold;\n",
       "font-style: italic;\n",
       "}\n",
       ".hoogle-module {\n",
       "font-weight: bold;\n",
       "}\n",
       ".hoogle-class {\n",
       "font-weight: bold;\n",
       "}\n",
       ".get-type {\n",
       "color: green;\n",
       "font-weight: bold;\n",
       "font-family: monospace;\n",
       "display: block;\n",
       "white-space: pre-wrap;\n",
       "}\n",
       ".show-type {\n",
       "color: green;\n",
       "font-weight: bold;\n",
       "font-family: monospace;\n",
       "margin-left: 1em;\n",
       "}\n",
       ".mono {\n",
       "font-family: monospace;\n",
       "display: block;\n",
       "}\n",
       ".err-msg {\n",
       "color: red;\n",
       "font-style: italic;\n",
       "font-family: monospace;\n",
       "white-space: pre;\n",
       "display: block;\n",
       "}\n",
       "#unshowable {\n",
       "color: red;\n",
       "font-weight: bold;\n",
       "}\n",
       ".err-msg.in.collapse {\n",
       "padding-top: 0.7em;\n",
       "}\n",
       ".highlight-code {\n",
       "white-space: pre;\n",
       "font-family: monospace;\n",
       "}\n",
       ".suggestion-warning { \n",
       "font-weight: bold;\n",
       "color: rgb(200, 130, 0);\n",
       "}\n",
       ".suggestion-error { \n",
       "font-weight: bold;\n",
       "color: red;\n",
       "}\n",
       ".suggestion-name {\n",
       "font-weight: bold;\n",
       "}\n",
       "</style><span class='get-type'>cmul :: forall b. Num b => (b, b) -> (b, b) -> (b, b)</span>"
      ],
      "text/plain": [
       "cmul :: forall b. Num b => (b, b) -> (b, b) -> (b, b)"
      ]
     },
     "metadata": {},
     "output_type": "display_data"
    }
   ],
   "source": [
    ":t cadd\n",
    ":t cmul"
   ]
  },
  {
   "cell_type": "markdown",
   "id": "f0f25664",
   "metadata": {},
   "source": [
    "**Why This is a Bad Idea?**\n",
    "\n",
    "Because any function we write on the tuple complex number can be applied to general tuple, and the function cannot distinguish the input data is a complex number or not.\n",
    "\n",
    "Therefore we should define a type to represent complex number\n",
    "\n",
    "**That is why we will use Record to make this data struc**"
   ]
  },
  {
   "cell_type": "markdown",
   "id": "f0c2d1f2",
   "metadata": {},
   "source": [
    "### Record Type:\n",
    "#### Syntax:\n",
    "    data Name = Name {field :: type, field::type, ...}\n",
    "ps. the field name should be unique, and each field name will become a function in Haskell\n",
    "\n",
    "#### Initialize:\n",
    "\n",
    "to create an element (a + bi) of type Complex, we have two choice:\n",
    "1. Use the Constructor as a function:<br>\n",
    "    `c = Complex a b`\n",
    "2. Specify the field names and its val:<br>\n",
    "    `c = Complex {re = a, im = b}`\n",
    "    \n",
    "Example:"
   ]
  },
  {
   "cell_type": "code",
   "execution_count": 31,
   "id": "8ad3bdd6",
   "metadata": {},
   "outputs": [],
   "source": [
    "data Complex = Complex {re:: Float, im :: Float}\n",
    "        deriving (Show, Eq)\n",
    "        \n",
    "-- deriving: require haskell generate following method\n",
    "--  Show: toString\n",
    "--  Eq : =="
   ]
  },
  {
   "cell_type": "code",
   "execution_count": 32,
   "id": "e96d6eab",
   "metadata": {},
   "outputs": [
    {
     "data": {
      "text/html": [
       "<style>/* Styles used for the Hoogle display in the pager */\n",
       ".hoogle-doc {\n",
       "display: block;\n",
       "padding-bottom: 1.3em;\n",
       "padding-left: 0.4em;\n",
       "}\n",
       ".hoogle-code {\n",
       "display: block;\n",
       "font-family: monospace;\n",
       "white-space: pre;\n",
       "}\n",
       ".hoogle-text {\n",
       "display: block;\n",
       "}\n",
       ".hoogle-name {\n",
       "color: green;\n",
       "font-weight: bold;\n",
       "}\n",
       ".hoogle-head {\n",
       "font-weight: bold;\n",
       "}\n",
       ".hoogle-sub {\n",
       "display: block;\n",
       "margin-left: 0.4em;\n",
       "}\n",
       ".hoogle-package {\n",
       "font-weight: bold;\n",
       "font-style: italic;\n",
       "}\n",
       ".hoogle-module {\n",
       "font-weight: bold;\n",
       "}\n",
       ".hoogle-class {\n",
       "font-weight: bold;\n",
       "}\n",
       ".get-type {\n",
       "color: green;\n",
       "font-weight: bold;\n",
       "font-family: monospace;\n",
       "display: block;\n",
       "white-space: pre-wrap;\n",
       "}\n",
       ".show-type {\n",
       "color: green;\n",
       "font-weight: bold;\n",
       "font-family: monospace;\n",
       "margin-left: 1em;\n",
       "}\n",
       ".mono {\n",
       "font-family: monospace;\n",
       "display: block;\n",
       "}\n",
       ".err-msg {\n",
       "color: red;\n",
       "font-style: italic;\n",
       "font-family: monospace;\n",
       "white-space: pre;\n",
       "display: block;\n",
       "}\n",
       "#unshowable {\n",
       "color: red;\n",
       "font-weight: bold;\n",
       "}\n",
       ".err-msg.in.collapse {\n",
       "padding-top: 0.7em;\n",
       "}\n",
       ".highlight-code {\n",
       "white-space: pre;\n",
       "font-family: monospace;\n",
       "}\n",
       ".suggestion-warning { \n",
       "font-weight: bold;\n",
       "color: rgb(200, 130, 0);\n",
       "}\n",
       ".suggestion-error { \n",
       "font-weight: bold;\n",
       "color: red;\n",
       "}\n",
       ".suggestion-name {\n",
       "font-weight: bold;\n",
       "}\n",
       "</style><span class='get-type'>c1 :: Complex</span>"
      ],
      "text/plain": [
       "c1 :: Complex"
      ]
     },
     "metadata": {},
     "output_type": "display_data"
    },
    {
     "data": {
      "text/html": [
       "<style>/* Styles used for the Hoogle display in the pager */\n",
       ".hoogle-doc {\n",
       "display: block;\n",
       "padding-bottom: 1.3em;\n",
       "padding-left: 0.4em;\n",
       "}\n",
       ".hoogle-code {\n",
       "display: block;\n",
       "font-family: monospace;\n",
       "white-space: pre;\n",
       "}\n",
       ".hoogle-text {\n",
       "display: block;\n",
       "}\n",
       ".hoogle-name {\n",
       "color: green;\n",
       "font-weight: bold;\n",
       "}\n",
       ".hoogle-head {\n",
       "font-weight: bold;\n",
       "}\n",
       ".hoogle-sub {\n",
       "display: block;\n",
       "margin-left: 0.4em;\n",
       "}\n",
       ".hoogle-package {\n",
       "font-weight: bold;\n",
       "font-style: italic;\n",
       "}\n",
       ".hoogle-module {\n",
       "font-weight: bold;\n",
       "}\n",
       ".hoogle-class {\n",
       "font-weight: bold;\n",
       "}\n",
       ".get-type {\n",
       "color: green;\n",
       "font-weight: bold;\n",
       "font-family: monospace;\n",
       "display: block;\n",
       "white-space: pre-wrap;\n",
       "}\n",
       ".show-type {\n",
       "color: green;\n",
       "font-weight: bold;\n",
       "font-family: monospace;\n",
       "margin-left: 1em;\n",
       "}\n",
       ".mono {\n",
       "font-family: monospace;\n",
       "display: block;\n",
       "}\n",
       ".err-msg {\n",
       "color: red;\n",
       "font-style: italic;\n",
       "font-family: monospace;\n",
       "white-space: pre;\n",
       "display: block;\n",
       "}\n",
       "#unshowable {\n",
       "color: red;\n",
       "font-weight: bold;\n",
       "}\n",
       ".err-msg.in.collapse {\n",
       "padding-top: 0.7em;\n",
       "}\n",
       ".highlight-code {\n",
       "white-space: pre;\n",
       "font-family: monospace;\n",
       "}\n",
       ".suggestion-warning { \n",
       "font-weight: bold;\n",
       "color: rgb(200, 130, 0);\n",
       "}\n",
       ".suggestion-error { \n",
       "font-weight: bold;\n",
       "color: red;\n",
       "}\n",
       ".suggestion-name {\n",
       "font-weight: bold;\n",
       "}\n",
       "</style><span class='get-type'>c2 :: Complex</span>"
      ],
      "text/plain": [
       "c2 :: Complex"
      ]
     },
     "metadata": {},
     "output_type": "display_data"
    },
    {
     "data": {
      "text/plain": [
       "\"Complex {re = 10.0, im = 20.0}\""
      ]
     },
     "metadata": {},
     "output_type": "display_data"
    },
    {
     "data": {
      "text/plain": [
       "\"Complex {re = 10.0, im = 20.0}\""
      ]
     },
     "metadata": {},
     "output_type": "display_data"
    },
    {
     "data": {
      "text/plain": [
       "True"
      ]
     },
     "metadata": {},
     "output_type": "display_data"
    }
   ],
   "source": [
    "c1 = Complex 10 20\n",
    "c2 = Complex {re = 10, im = 20}\n",
    "\n",
    ":t c1\n",
    ":t c2\n",
    "\n",
    "-- function defind by haskell through `deriving (_)`\n",
    "show c1 -- to string method\n",
    "show c2\n",
    "c1 == c2 -- compare method"
   ]
  },
  {
   "cell_type": "markdown",
   "id": "6ef68565",
   "metadata": {},
   "source": [
    "Each field name becomes a function for inqury:"
   ]
  },
  {
   "cell_type": "code",
   "execution_count": 33,
   "id": "746241f7",
   "metadata": {},
   "outputs": [
    {
     "data": {
      "text/plain": [
       "10.0"
      ]
     },
     "metadata": {},
     "output_type": "display_data"
    },
    {
     "data": {
      "text/plain": [
       "20.0"
      ]
     },
     "metadata": {},
     "output_type": "display_data"
    }
   ],
   "source": [
    "re c1\n",
    "im c1\n",
    "\n",
    "-- this is why we should always use unique field name"
   ]
  },
  {
   "cell_type": "markdown",
   "id": "12473a8d",
   "metadata": {},
   "source": [
    "Complex number library base on data Complex:"
   ]
  },
  {
   "cell_type": "code",
   "execution_count": 34,
   "id": "4a635bcc",
   "metadata": {},
   "outputs": [],
   "source": [
    "cadd x y = Complex {re = re x + re y, \n",
    "                    im = im x + im y}\n",
    "\n",
    "cmul x y = Complex {re = re x * re y - im x * im y,\n",
    "                    im = re x * im y + re y * im x}"
   ]
  },
  {
   "cell_type": "code",
   "execution_count": 35,
   "id": "e767a92e",
   "metadata": {},
   "outputs": [],
   "source": [
    "-- other example\n",
    "data Person = Person { fname :: String,\n",
    "                       lname :: String,\n",
    "                       age :: Int }\n",
    "            deriving (Show, Eq)\n",
    "\n",
    "people = [Person \"First Name 1\" \"Last Name 1\" 100,\n",
    "          Person \"First Name 2\" \"Last Name 2\" 100]"
   ]
  },
  {
   "cell_type": "markdown",
   "id": "968ea05b",
   "metadata": {},
   "source": [
    "### Disjoint Type\n",
    "#### Syntax:\n",
    "    data TName = CName [type ...] [| CName [type ...] ...] \n",
    "    \n",
    "Example:"
   ]
  },
  {
   "cell_type": "code",
   "execution_count": 36,
   "id": "6d7b16a9",
   "metadata": {},
   "outputs": [],
   "source": [
    "data Contest = Rock | Scissors | Paper\n",
    "data Velocity = MetersPerSecond Float \n",
    "              | FeetPerSecond Float\n",
    "data Distance = Meter Float\n",
    "              | Feet Float\n",
    "data List a = Cons a (List a)\n",
    "            | Nil\n",
    "-- Cons is a historical name for list constructor\n",
    "-- we can use any alternative name to replace cons\n",
    "\n",
    "data Tree a = Node a (Tree a) (Tree a)\n",
    "            | Empty"
   ]
  },
  {
   "cell_type": "code",
   "execution_count": 37,
   "id": "f4dcdb28",
   "metadata": {},
   "outputs": [],
   "source": [
    "-- Rock Scissors Paper game\n",
    "-- check winner\n",
    "winner Rock Scissors = \"Player 1\"\n",
    "winner Scissors paper = \"Player 1\"\n",
    "winner paper Rock = \"Player 1\"\n",
    "winner Rock paper = \"Player 2\"\n",
    "winner paper Scissors = \"Player 2\"\n",
    "winner Scissors Rock = \"Player 2\"\n",
    "winner _ _ = \"Tie\"\n",
    "\n",
    "-- thrust: convers vals to MetersPerSecond\n",
    "thrust (MetersPerSecond x) = x\n",
    "thrust (FeetPerSecond x) = x / 3.28"
   ]
  },
  {
   "cell_type": "code",
   "execution_count": 40,
   "id": "b763ab06",
   "metadata": {},
   "outputs": [
    {
     "data": {
      "text/html": [
       "<style>/* Styles used for the Hoogle display in the pager */\n",
       ".hoogle-doc {\n",
       "display: block;\n",
       "padding-bottom: 1.3em;\n",
       "padding-left: 0.4em;\n",
       "}\n",
       ".hoogle-code {\n",
       "display: block;\n",
       "font-family: monospace;\n",
       "white-space: pre;\n",
       "}\n",
       ".hoogle-text {\n",
       "display: block;\n",
       "}\n",
       ".hoogle-name {\n",
       "color: green;\n",
       "font-weight: bold;\n",
       "}\n",
       ".hoogle-head {\n",
       "font-weight: bold;\n",
       "}\n",
       ".hoogle-sub {\n",
       "display: block;\n",
       "margin-left: 0.4em;\n",
       "}\n",
       ".hoogle-package {\n",
       "font-weight: bold;\n",
       "font-style: italic;\n",
       "}\n",
       ".hoogle-module {\n",
       "font-weight: bold;\n",
       "}\n",
       ".hoogle-class {\n",
       "font-weight: bold;\n",
       "}\n",
       ".get-type {\n",
       "color: green;\n",
       "font-weight: bold;\n",
       "font-family: monospace;\n",
       "display: block;\n",
       "white-space: pre-wrap;\n",
       "}\n",
       ".show-type {\n",
       "color: green;\n",
       "font-weight: bold;\n",
       "font-family: monospace;\n",
       "margin-left: 1em;\n",
       "}\n",
       ".mono {\n",
       "font-family: monospace;\n",
       "display: block;\n",
       "}\n",
       ".err-msg {\n",
       "color: red;\n",
       "font-style: italic;\n",
       "font-family: monospace;\n",
       "white-space: pre;\n",
       "display: block;\n",
       "}\n",
       "#unshowable {\n",
       "color: red;\n",
       "font-weight: bold;\n",
       "}\n",
       ".err-msg.in.collapse {\n",
       "padding-top: 0.7em;\n",
       "}\n",
       ".highlight-code {\n",
       "white-space: pre;\n",
       "font-family: monospace;\n",
       "}\n",
       ".suggestion-warning { \n",
       "font-weight: bold;\n",
       "color: rgb(200, 130, 0);\n",
       "}\n",
       ".suggestion-error { \n",
       "font-weight: bold;\n",
       "color: red;\n",
       "}\n",
       ".suggestion-name {\n",
       "font-weight: bold;\n",
       "}\n",
       "</style><span class='get-type'>a :: Contest</span>"
      ],
      "text/plain": [
       "a :: Contest"
      ]
     },
     "metadata": {},
     "output_type": "display_data"
    },
    {
     "data": {
      "text/html": [
       "<style>/* Styles used for the Hoogle display in the pager */\n",
       ".hoogle-doc {\n",
       "display: block;\n",
       "padding-bottom: 1.3em;\n",
       "padding-left: 0.4em;\n",
       "}\n",
       ".hoogle-code {\n",
       "display: block;\n",
       "font-family: monospace;\n",
       "white-space: pre;\n",
       "}\n",
       ".hoogle-text {\n",
       "display: block;\n",
       "}\n",
       ".hoogle-name {\n",
       "color: green;\n",
       "font-weight: bold;\n",
       "}\n",
       ".hoogle-head {\n",
       "font-weight: bold;\n",
       "}\n",
       ".hoogle-sub {\n",
       "display: block;\n",
       "margin-left: 0.4em;\n",
       "}\n",
       ".hoogle-package {\n",
       "font-weight: bold;\n",
       "font-style: italic;\n",
       "}\n",
       ".hoogle-module {\n",
       "font-weight: bold;\n",
       "}\n",
       ".hoogle-class {\n",
       "font-weight: bold;\n",
       "}\n",
       ".get-type {\n",
       "color: green;\n",
       "font-weight: bold;\n",
       "font-family: monospace;\n",
       "display: block;\n",
       "white-space: pre-wrap;\n",
       "}\n",
       ".show-type {\n",
       "color: green;\n",
       "font-weight: bold;\n",
       "font-family: monospace;\n",
       "margin-left: 1em;\n",
       "}\n",
       ".mono {\n",
       "font-family: monospace;\n",
       "display: block;\n",
       "}\n",
       ".err-msg {\n",
       "color: red;\n",
       "font-style: italic;\n",
       "font-family: monospace;\n",
       "white-space: pre;\n",
       "display: block;\n",
       "}\n",
       "#unshowable {\n",
       "color: red;\n",
       "font-weight: bold;\n",
       "}\n",
       ".err-msg.in.collapse {\n",
       "padding-top: 0.7em;\n",
       "}\n",
       ".highlight-code {\n",
       "white-space: pre;\n",
       "font-family: monospace;\n",
       "}\n",
       ".suggestion-warning { \n",
       "font-weight: bold;\n",
       "color: rgb(200, 130, 0);\n",
       "}\n",
       ".suggestion-error { \n",
       "font-weight: bold;\n",
       "color: red;\n",
       "}\n",
       ".suggestion-name {\n",
       "font-weight: bold;\n",
       "}\n",
       "</style><span class='get-type'>b :: Contest</span>"
      ],
      "text/plain": [
       "b :: Contest"
      ]
     },
     "metadata": {},
     "output_type": "display_data"
    },
    {
     "data": {
      "text/plain": [
       "\"Player 1\""
      ]
     },
     "metadata": {},
     "output_type": "display_data"
    }
   ],
   "source": [
    "a = Rock\n",
    "b = Scissors\n",
    ":t a\n",
    ":t b\n",
    "winner a b"
   ]
  },
  {
   "cell_type": "markdown",
   "id": "3adfe892",
   "metadata": {},
   "source": [
    "#### Recursive Data Type"
   ]
  },
  {
   "cell_type": "code",
   "execution_count": 41,
   "id": "9bb72c84",
   "metadata": {},
   "outputs": [],
   "source": [
    "data List = Cons Int List\n",
    "          | Nil\n",
    "    deriving Show\n",
    "insertSorted a Nil = Cons a Nil\n",
    "insertSorted a (Cons b bs)\n",
    "        | a < b = Cons a (Cons b bs)\n",
    "        | otherwise = Cons b (insertSorted a bs)"
   ]
  },
  {
   "cell_type": "code",
   "execution_count": 43,
   "id": "ca506446",
   "metadata": {},
   "outputs": [
    {
     "data": {
      "text/plain": [
       "Cons 2 (Cons 3 (Cons 4 Nil))"
      ]
     },
     "metadata": {},
     "output_type": "display_data"
    }
   ],
   "source": [
    "let l1 = insertSorted 3 (Cons 2 (Cons 4 Nil))\n",
    "l1"
   ]
  },
  {
   "cell_type": "markdown",
   "id": "d066f0dc",
   "metadata": {},
   "source": [
    "### Type Constructors and Memory\n",
    "\n",
    "<img src=\"Type.png\" alt=\"fact_actiRecord\" width=\"500\"/>\n",
    "<img src=\"Type2.png\" alt=\"fact_actiRecord\" width=\"500\"/>"
   ]
  },
  {
   "cell_type": "markdown",
   "id": "34bf025f",
   "metadata": {},
   "source": [
    "### Parameters\n",
    "\n",
    "Haskell support parametric polymorphim (namely generics in Java)"
   ]
  },
  {
   "cell_type": "code",
   "execution_count": 46,
   "id": "dccc662a",
   "metadata": {},
   "outputs": [],
   "source": [
    "data List a = Cons a (List a)\n",
    "            | Nil\n",
    "    deriving Show\n",
    "\n",
    "-- if we did not specify the type of a \n",
    "-- and did not use any function specify a's type, \n",
    "-- then a is generic type\n",
    "\n",
    "x1 = Cons 1 (Cons 2 (Cons 4 Nil)) -- List Int\n",
    "x2 = Cons \"1\" (Cons \"2\" (Cons \"Hello\" Nil)) -- List String\n",
    "x3 = Cons Nil (Cons (Cons 5 Nil) Nil) -- List (List Int)"
   ]
  },
  {
   "cell_type": "markdown",
   "id": "520cc8db",
   "metadata": {},
   "source": [
    "### BST"
   ]
  },
  {
   "cell_type": "code",
   "execution_count": 47,
   "id": "78dd2517",
   "metadata": {},
   "outputs": [
    {
     "data": {
      "text/html": [
       "<style>/* Styles used for the Hoogle display in the pager */\n",
       ".hoogle-doc {\n",
       "display: block;\n",
       "padding-bottom: 1.3em;\n",
       "padding-left: 0.4em;\n",
       "}\n",
       ".hoogle-code {\n",
       "display: block;\n",
       "font-family: monospace;\n",
       "white-space: pre;\n",
       "}\n",
       ".hoogle-text {\n",
       "display: block;\n",
       "}\n",
       ".hoogle-name {\n",
       "color: green;\n",
       "font-weight: bold;\n",
       "}\n",
       ".hoogle-head {\n",
       "font-weight: bold;\n",
       "}\n",
       ".hoogle-sub {\n",
       "display: block;\n",
       "margin-left: 0.4em;\n",
       "}\n",
       ".hoogle-package {\n",
       "font-weight: bold;\n",
       "font-style: italic;\n",
       "}\n",
       ".hoogle-module {\n",
       "font-weight: bold;\n",
       "}\n",
       ".hoogle-class {\n",
       "font-weight: bold;\n",
       "}\n",
       ".get-type {\n",
       "color: green;\n",
       "font-weight: bold;\n",
       "font-family: monospace;\n",
       "display: block;\n",
       "white-space: pre-wrap;\n",
       "}\n",
       ".show-type {\n",
       "color: green;\n",
       "font-weight: bold;\n",
       "font-family: monospace;\n",
       "margin-left: 1em;\n",
       "}\n",
       ".mono {\n",
       "font-family: monospace;\n",
       "display: block;\n",
       "}\n",
       ".err-msg {\n",
       "color: red;\n",
       "font-style: italic;\n",
       "font-family: monospace;\n",
       "white-space: pre;\n",
       "display: block;\n",
       "}\n",
       "#unshowable {\n",
       "color: red;\n",
       "font-weight: bold;\n",
       "}\n",
       ".err-msg.in.collapse {\n",
       "padding-top: 0.7em;\n",
       "}\n",
       ".highlight-code {\n",
       "white-space: pre;\n",
       "font-family: monospace;\n",
       "}\n",
       ".suggestion-warning { \n",
       "font-weight: bold;\n",
       "color: rgb(200, 130, 0);\n",
       "}\n",
       ".suggestion-error { \n",
       "font-weight: bold;\n",
       "color: red;\n",
       "}\n",
       ".suggestion-name {\n",
       "font-weight: bold;\n",
       "}\n",
       "</style><div class=\"suggestion-name\" style=\"clear:both;\">Use camelCase</div><div class=\"suggestion-row\" style=\"float: left;\"><div class=\"suggestion-warning\">Found:</div><div class=\"highlight-code\" id=\"haskell\">add_bst :: Integer -> Tree Integer -> Tree Integer</div></div><div class=\"suggestion-row\" style=\"float: left;\"><div class=\"suggestion-warning\">Why Not:</div><div class=\"highlight-code\" id=\"haskell\">addBst :: Integer -> Tree Integer -> Tree Integer</div></div><div class=\"suggestion-name\" style=\"clear:both;\">Use camelCase</div><div class=\"suggestion-row\" style=\"float: left;\"><div class=\"suggestion-warning\">Found:</div><div class=\"highlight-code\" id=\"haskell\">add_bst i Empty = ...\n",
       "add_bst i (Node x left right)\n",
       "  | i <= x = ...\n",
       "  | otherwise = ...</div></div><div class=\"suggestion-row\" style=\"float: left;\"><div class=\"suggestion-warning\">Why Not:</div><div class=\"highlight-code\" id=\"haskell\">addBst i Empty = ...\n",
       "addBst i (Node x left right)\n",
       "  | i `<=` x = ...\n",
       "  | otherwise = ...</div></div>"
      ],
      "text/plain": [
       "Line 4: Use camelCase\n",
       "Found:\n",
       "add_bst :: Integer -> Tree Integer -> Tree Integer\n",
       "Why not:\n",
       "addBst :: Integer -> Tree Integer -> Tree IntegerLine 5: Use camelCase\n",
       "Found:\n",
       "add_bst i Empty = ...\n",
       "add_bst i (Node x left right)\n",
       "  | i <= x = ...\n",
       "  | otherwise = ...\n",
       "Why not:\n",
       "addBst i Empty = ...\n",
       "addBst i (Node x left right)\n",
       "  | i `<=` x = ...\n",
       "  | otherwise = ..."
      ]
     },
     "metadata": {},
     "output_type": "display_data"
    }
   ],
   "source": [
    "data Tree a = Node a (Tree a) (Tree a)\n",
    "            | Empty\n",
    "            \n",
    "add_bst :: Integer -> Tree Integer -> Tree Integer\n",
    "add_bst i Empty = Node i Empty Empty\n",
    "add_bst i (Node x left right)\n",
    "    | i <= x    = Node x (add_bst i left) right\n",
    "    | otherwise = Node x left (add_bst i right)"
   ]
  },
  {
   "cell_type": "markdown",
   "id": "2f968c01",
   "metadata": {},
   "source": [
    "#### Updating\n",
    "\n",
    "Haskell compiler will reuse the node that is not changed when updating (because all of the data are immutable and so it is safe to do this)\n",
    "\n",
    "<img src=\"updating.png\" alt=\"fact_actiRecord\" width=\"500\"/>"
   ]
  },
  {
   "cell_type": "markdown",
   "id": "d03aa0eb",
   "metadata": {},
   "source": [
    "### The Maybe Type\n",
    "\n",
    "The value may be the type we want, or may not\n",
    "\n",
    "We can use this to deal with the situation that the inqury function does not find a target \n",
    "\n",
    "(eg. list.find(a)==None, but type(None)!=type(a))\n",
    "\n",
    "With Maybe Type, we can set Nothing and a the same type."
   ]
  },
  {
   "cell_type": "code",
   "execution_count": 59,
   "id": "3cbd056a",
   "metadata": {},
   "outputs": [],
   "source": [
    "data Maybe a = Just a | Nothing\n",
    "            deriving (Show, Eq)\n",
    "getItem key [] = Nothing\n",
    "getItem key ((k,v):xs) =\n",
    "    if key == k then Just v\n",
    "                else getItem key xs"
   ]
  },
  {
   "cell_type": "code",
   "execution_count": 60,
   "id": "4ee4008b",
   "metadata": {},
   "outputs": [
    {
     "data": {
      "text/plain": [
       "Just \"3\""
      ]
     },
     "metadata": {},
     "output_type": "display_data"
    },
    {
     "data": {
      "text/plain": [
       "Nothing"
      ]
     },
     "metadata": {},
     "output_type": "display_data"
    }
   ],
   "source": [
    "getItem 3 [(2,\"2\"),(3,\"3\")]\n",
    "getItem 5 [(2,\"2\"),(3,\"3\")]"
   ]
  },
  {
   "cell_type": "markdown",
   "id": "6c7ff38a",
   "metadata": {},
   "source": [
    "### The Either Type\n",
    "\n",
    "we can use this if we want to return some customized message (such as error message)"
   ]
  },
  {
   "cell_type": "code",
   "execution_count": 62,
   "id": "acf6a24c",
   "metadata": {},
   "outputs": [],
   "source": [
    "data Either a b = Left a | Right b\n",
    "        deriving (Show, Eq)\n",
    "        \n",
    "getItem2 key [] = Left \"Key Not Found\" -- return error message as Left type\n",
    "getItem2 key ((k,v):xs) = \n",
    "    if key == k then Right v -- return value as Right type\n",
    "                else getItem2 key xs"
   ]
  },
  {
   "cell_type": "code",
   "execution_count": 63,
   "id": "03fabe77",
   "metadata": {},
   "outputs": [
    {
     "data": {
      "text/plain": [
       "Right \"3\""
      ]
     },
     "metadata": {},
     "output_type": "display_data"
    },
    {
     "data": {
      "text/plain": [
       "Left \"Key Not Found\""
      ]
     },
     "metadata": {},
     "output_type": "display_data"
    }
   ],
   "source": [
    "getItem2 3 [(2,\"2\"),(3,\"3\")]\n",
    "getItem2 5 [(2,\"2\"),(3,\"3\")]"
   ]
  },
  {
   "cell_type": "markdown",
   "id": "9325b5a7",
   "metadata": {},
   "source": [
    "Practice"
   ]
  },
  {
   "cell_type": "code",
   "execution_count": 93,
   "id": "735aa89f",
   "metadata": {},
   "outputs": [],
   "source": [
    "data Tree a = Branch a (Tree a) (Tree a)\n",
    "            | Empty\n",
    "    deriving (Show, Eq)"
   ]
  },
  {
   "cell_type": "code",
   "execution_count": 102,
   "id": "c030fea2",
   "metadata": {},
   "outputs": [
    {
     "ename": "",
     "evalue": "",
     "output_type": "error",
     "traceback": [
      "<interactive>:5:9: error:\n    • Couldn't match expected type ‘Bool’ with actual type ‘Ordering’\n    • In the pattern: EQ\n      In a case alternative: EQ -> Branch val l (add r a)\n      In the expression:\n        case val >= a of\n          EQ -> Branch val l (add r a)\n          LT -> Branch val (add l a) r\n          GT -> Branch val l (add r a)\n<interactive>:6:9: error:\n    • Couldn't match expected type ‘Bool’ with actual type ‘Ordering’\n    • In the pattern: LT\n      In a case alternative: LT -> Branch val (add l a) r\n      In the expression:\n        case val >= a of\n          EQ -> Branch val l (add r a)\n          LT -> Branch val (add l a) r\n          GT -> Branch val l (add r a)\n<interactive>:7:9: error:\n    • Couldn't match expected type ‘Bool’ with actual type ‘Ordering’\n    • In the pattern: GT\n      In a case alternative: GT -> Branch val l (add r a)\n      In the expression:\n        case val >= a of\n          EQ -> Branch val l (add r a)\n          LT -> Branch val (add l a) r\n          GT -> Branch val l (add r a)"
     ]
    }
   ],
   "source": [
    "add :: Tree a -> a -> Tree a\n",
    "add t a = case t of \n",
    "    Empty -> Branch a Empty Empty\n",
    "    Branch val l r -> case val >= a of \n",
    "        EQ -> Branch val l (add r a)\n",
    "        LT -> Branch val (add l a) r\n",
    "        GT -> Branch val l (add r a)\n",
    "    \n",
    "\n",
    "-- find :: Tree a -> a -> Bool\n",
    "-- lookup :: Tree (k,v) -> k -> Maybe v\n",
    "-- delete :: Tree a -> a -> Tree a"
   ]
  },
  {
   "cell_type": "code",
   "execution_count": null,
   "id": "2dc0af13",
   "metadata": {},
   "outputs": [],
   "source": []
  }
 ],
 "metadata": {
  "kernelspec": {
   "display_name": "Haskell",
   "language": "haskell",
   "name": "haskell"
  },
  "language_info": {
   "codemirror_mode": "Haskell",
   "file_extension": ".hs",
   "mimetype": "text/x-haskell",
   "name": "haskell",
   "pygments_lexer": "Haskell",
   "version": "8.10.4"
  },
  "latex_envs": {
   "LaTeX_envs_menu_present": true,
   "autoclose": true,
   "autocomplete": true,
   "bibliofile": "biblio.bib",
   "cite_by": "apalike",
   "current_citInitial": 1,
   "eqLabelWithNumbers": true,
   "eqNumInitial": 1,
   "hotkeys": {
    "equation": "Ctrl-E",
    "itemize": "Ctrl-I"
   },
   "labels_anchors": false,
   "latex_user_defs": false,
   "report_style_numbering": false,
   "user_envs_cfg": false
  }
 },
 "nbformat": 4,
 "nbformat_minor": 5
}
